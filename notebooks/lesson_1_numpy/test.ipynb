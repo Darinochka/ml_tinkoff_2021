{
 "cells": [
  {
   "cell_type": "markdown",
   "metadata": {},
   "source": [
    "1 Задание. Классификация"
   ]
  },
  {
   "cell_type": "code",
   "execution_count": 1,
   "metadata": {},
   "outputs": [
    {
     "data": {
      "text/plain": [
       "0.375"
      ]
     },
     "execution_count": 1,
     "metadata": {},
     "output_type": "execute_result"
    }
   ],
   "source": [
    "import numpy as np\n",
    "def min_3(a):\n",
    "    first, second, third = 0, 1, 2\n",
    "    for i in range(len(a)):\n",
    "        if a[i] < a[first]:\n",
    "            first, second, third = i, first, second\n",
    "        elif a[i] < a[second]:\n",
    "            second, third = i, second\n",
    "        elif a[i] < a[third]:\n",
    "            third = i\n",
    "    return [first, second, third]\n",
    "\n",
    "x_train = np.array([[0, 0], [0, 1/2], [1/2, 0], [1, 0], [1/2, 1/2], [1, 1/2], [0, 1], [1/2, 1], [1, 1]])\n",
    "y_train = np.array([1, 1, 1, 1, 2, 2, 2, 2, 2])\n",
    "\n",
    "x_test_x = np.linspace(0, 1, 400)\n",
    "x_test_y = np.linspace(0, 1, 400)\n",
    "y_test = np.zeros((400, 400))\n",
    "\n",
    "for i, x in enumerate(x_test_x):\n",
    "    for j, y in enumerate(x_test_y):\n",
    "        euclide = np.sum((x_train - np.array([x, y]))**2, axis=1) ** (1/2)\n",
    "        k = sum(y_train[min_3(euclide)])\n",
    "        if k <= 4:\n",
    "            y_test[i, j] = 1\n",
    "        else:\n",
    "            y_test[i, j] = 2\n",
    "\n",
    "len(y_test[y_test == 1])/y_test.size"
   ]
  },
  {
   "cell_type": "code",
   "execution_count": 4,
   "metadata": {},
   "outputs": [
    {
     "data": {
      "text/plain": [
       "0.0016666666666666668"
      ]
     },
     "execution_count": 4,
     "metadata": {},
     "output_type": "execute_result"
    }
   ],
   "source": [
    "from sklearn.neighbors import KNeighborsClassifier\n",
    "neigh = KNeighborsClassifier(n_neighbors=3)\n",
    "neigh.fit(x_train, y_train)\n",
    "\n",
    "x_test_x = np.linspace(0, 1, 600)\n",
    "x_test_y = np.linspace(0, 1, 600)\n",
    "\n",
    "for i, x in enumerate(x_test_x):\n",
    "    for j, y in enumerate(x_test_y):\n",
    "        if neigh.predict([[x, y]]) == 1:\n",
    "            y_test += 1\n",
    "\n",
    "len(y_test)/(600*600)"
   ]
  },
  {
   "cell_type": "markdown",
   "metadata": {},
   "source": [
    "2 задание. Кластеризация"
   ]
  }
 ],
 "metadata": {
  "interpreter": {
   "hash": "919eb0904b72c37e8d6c7e3b2f7b6f162c89cafcc297fba09b2d10c79c52f5eb"
  },
  "kernelspec": {
   "display_name": "Python 3.8.8 64-bit ('base': conda)",
   "name": "python3"
  },
  "language_info": {
   "codemirror_mode": {
    "name": "ipython",
    "version": 3
   },
   "file_extension": ".py",
   "mimetype": "text/x-python",
   "name": "python",
   "nbconvert_exporter": "python",
   "pygments_lexer": "ipython3",
   "version": "3.8.8"
  },
  "orig_nbformat": 4
 },
 "nbformat": 4,
 "nbformat_minor": 2
}
