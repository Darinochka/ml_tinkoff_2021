{
 "cells": [
  {
   "cell_type": "markdown",
   "id": "VvFvjNBH3QY3",
   "metadata": {
    "id": "VvFvjNBH3QY3"
   },
   "source": [
    "## Домашнее задание"
   ]
  },
  {
   "cell_type": "markdown",
   "id": "F1nB_pZ53TLc",
   "metadata": {
    "id": "F1nB_pZ53TLc"
   },
   "source": [
    "В этой тетрадке вам предлагается реализовать задания при помощи библиотеки numpy. Крайне желательно при выполнении разных заданий не использовать циклы. Если вы не понимаете, как выполнить конкретную задачу без циклов - убирайте их постепенно, разбейте выполнение задачи на этапы и постепенно векторизуйте каждый этап.\n",
    "\n",
    "Если вам непонятно, как выполнить ту или иную операцию - не стесняйтесь гуглить, если над вами повис дедлайн, а вы всё ещё на чём-то застряли - пишите преподу/в чат, это ок.\n",
    "\n",
    "**Обсудить решение лучше и сделать в итоге хоть что-то гораздо лучше, чем скатать чужой код или сдать пустую тетрадку.**"
   ]
  },
  {
   "cell_type": "code",
   "execution_count": 3,
   "id": "BxCGcHcxyAwh",
   "metadata": {
    "id": "BxCGcHcxyAwh"
   },
   "outputs": [],
   "source": [
    "import numpy as np"
   ]
  },
  {
   "cell_type": "markdown",
   "id": "byY0Ab4Jww36",
   "metadata": {
    "id": "byY0Ab4Jww36"
   },
   "source": [
    "### Drill (1 балл)"
   ]
  },
  {
   "cell_type": "markdown",
   "id": "g9nrcP5ExLOr",
   "metadata": {
    "id": "g9nrcP5ExLOr"
   },
   "source": [
    "Задание 1.\n",
    "\n",
    "Инициализируйте нулями массивы следующих форм:\n",
    "\n",
    "* (5)\n",
    "* (5, 1)\n",
    "* (10, 2)\n",
    "* (3, 6, 2)\n",
    "* (4, 3, 2, 1)"
   ]
  },
  {
   "cell_type": "code",
   "execution_count": 4,
   "id": "GDFryOCFwwO5",
   "metadata": {
    "id": "GDFryOCFwwO5"
   },
   "outputs": [
    {
     "data": {
      "text/plain": [
       "array([0., 0., 0., 0., 0.])"
      ]
     },
     "execution_count": 4,
     "metadata": {},
     "output_type": "execute_result"
    }
   ],
   "source": [
    "a = np.zeros(5)\n",
    "b = np.zeros((5, 1))\n",
    "c = np.zeros((10, 2))\n",
    "d = np.zeros((3, 6, 2))\n",
    "e = np.zeros((4, 3, 2, 1))\n",
    "a"
   ]
  },
  {
   "cell_type": "markdown",
   "id": "nB5ePY6S5AWx",
   "metadata": {
    "id": "nB5ePY6S5AWx"
   },
   "source": [
    "Задание 2.\n",
    "\n",
    "Инициализируйте единицами массивы таких же форм и приведите их к целочисленному виду:"
   ]
  },
  {
   "cell_type": "code",
   "execution_count": 5,
   "id": "bW7_oEBw5Ga8",
   "metadata": {
    "id": "bW7_oEBw5Ga8"
   },
   "outputs": [
    {
     "data": {
      "text/plain": [
       "array([1, 1, 1, 1, 1])"
      ]
     },
     "execution_count": 5,
     "metadata": {},
     "output_type": "execute_result"
    }
   ],
   "source": [
    "a = np.ones(5).astype(int)\n",
    "b = np.ones((5, 1)).astype(int)\n",
    "c = np.ones((10, 2)).astype(int)\n",
    "d = np.ones((3, 6, 2)).astype(int)\n",
    "e = np.ones((4, 3, 2, 1)).astype(int)\n",
    "a"
   ]
  },
  {
   "cell_type": "markdown",
   "id": "_S7FJFXexb3o",
   "metadata": {
    "id": "_S7FJFXexb3o"
   },
   "source": [
    "Задание 3.\n",
    "\n",
    "Выполните для векторов выше `reshape` в \"форму\"\n",
    "* с двумя компонентами\n",
    "* с тремя компонентами\n",
    "* с четырьмя компонентами"
   ]
  },
  {
   "cell_type": "code",
   "execution_count": 6,
   "id": "XDWmmsoYXBDP",
   "metadata": {
    "id": "XDWmmsoYXBDP"
   },
   "outputs": [
    {
     "name": "stdout",
     "output_type": "stream",
     "text": [
      "a: 5 (5, 1) (5, 1, 1) (5, 1, 1, 1)\n",
      "b: 5 (1, 5) (5, 1, 1) (1, 5, 1, 1)\n",
      "c: 20 (5, 4) (2, 10, 1) (2, 5, 2, 1)\n",
      "d: 36 (18, 2) (3, 2, 6) (3, 2, 3, 2)\n",
      "e: 24 (12, 2) (6, 2, 2) (6, 2, 1, 2)\n"
     ]
    }
   ],
   "source": [
    "print(\"a:\", a.size, a.reshape(5, 1).shape, a.reshape(5, 1, 1).shape, a.reshape(5, 1, 1, 1).shape)\n",
    "print(\"b:\", b.size, b.reshape(1, 5).shape, b.reshape(5, 1, 1).shape, b.reshape(1, 5, 1, 1).shape)\n",
    "print(\"c:\", c.size, c.reshape(5, 4).shape, c.reshape(2, 10, 1).shape, c.reshape(2, 5, 2, 1).shape)\n",
    "print(\"d:\", d.size, d.reshape(18, 2).shape, d.reshape(3, 2, 6).shape, d.reshape(3, 2, 3, 2).shape)\n",
    "print(\"e:\", e.size, e.reshape(12, 2).shape, e.reshape(6, 2, 2).shape, e.reshape(6, 2, 1, 2).shape)"
   ]
  },
  {
   "cell_type": "markdown",
   "id": "Kp3SvzHyxyPp",
   "metadata": {
    "id": "Kp3SvzHyxyPp"
   },
   "source": [
    "Задание 4.\n",
    "\n",
    "Для вектора ниже посчитайте его\n",
    "* Максимум по 1 оси\n",
    "* Минимум по 0 оси\n",
    "* Сумму по всем осям\n",
    "* Среднее по 0 оси\n",
    "* Медиану по 1 оси"
   ]
  },
  {
   "cell_type": "code",
   "execution_count": 7,
   "id": "5GcaTzGPx9Tk",
   "metadata": {
    "id": "5GcaTzGPx9Tk"
   },
   "outputs": [
    {
     "data": {
      "text/plain": [
       "array([[8, 5, 0, 2, 6, 6, 5],\n",
       "       [7, 7, 7, 0, 4, 3, 7],\n",
       "       [6, 0, 8, 5, 3, 0, 0],\n",
       "       [2, 4, 1, 5, 0, 1, 7],\n",
       "       [3, 8, 1, 7, 4, 6, 3]])"
      ]
     },
     "execution_count": 7,
     "metadata": {},
     "output_type": "execute_result"
    }
   ],
   "source": [
    "v = np.random.randint(0, 9, size=(5, 7))\n",
    "v"
   ]
  },
  {
   "cell_type": "code",
   "execution_count": 8,
   "id": "iZT6E7esxsI1",
   "metadata": {
    "id": "iZT6E7esxsI1"
   },
   "outputs": [
    {
     "name": "stdout",
     "output_type": "stream",
     "text": [
      "[8 7 8 7 8]\n",
      "[2 0 0 0 0 0 0]\n",
      "141\n",
      "[5.2 4.8 3.4 3.8 3.4 3.2 4.4]\n",
      "[5. 7. 3. 2. 4.]\n"
     ]
    }
   ],
   "source": [
    "print(v.max(axis=1)) # or np.max(v, axis=1)\n",
    "print(v.min(axis=0))\n",
    "print(v.sum())\n",
    "print(v.mean(axis=0))\n",
    "print(np.median(v, axis=1))"
   ]
  },
  {
   "cell_type": "markdown",
   "id": "EiVqZFtpyOHm",
   "metadata": {
    "id": "EiVqZFtpyOHm"
   },
   "source": [
    "Задание 6.\n",
    "\n",
    "Для всё того же вектора `v` выведите\n",
    "* Его shape\n",
    "* 0 компоненту его \"формы\"\n",
    "* 1 компоненту его \"формы\""
   ]
  },
  {
   "cell_type": "code",
   "execution_count": 9,
   "id": "AazCPchWyYGa",
   "metadata": {
    "id": "AazCPchWyYGa"
   },
   "outputs": [
    {
     "name": "stdout",
     "output_type": "stream",
     "text": [
      "(5, 7)\n",
      "5\n",
      "7\n"
     ]
    }
   ],
   "source": [
    "print(v.shape)\n",
    "print(v.shape[0])\n",
    "print(v.shape[1])"
   ]
  },
  {
   "cell_type": "markdown",
   "id": "9bdU9sq1ygiF",
   "metadata": {
    "id": "9bdU9sq1ygiF"
   },
   "source": [
    "Задание 7.\n",
    "\n",
    "Для этого же вектора выведите\n",
    "* Все числа больше 5\n",
    "* Все числа меньше 7 в обратном порядке\n",
    "* Все числа больше 3, которые делятся на 4 без остатка\n",
    "* Все числа, остаток от деления на 5 которых равен 3\n",
    "* Индекс максимума\n",
    "* Индекс минимума\n",
    "* Cписок с индексами элементов отсортированного массива в исходном (неотсортированном)"
   ]
  },
  {
   "cell_type": "code",
   "execution_count": 10,
   "id": "WW0nmIYwyfLA",
   "metadata": {
    "id": "WW0nmIYwyfLA"
   },
   "outputs": [
    {
     "name": "stdout",
     "output_type": "stream",
     "text": [
      "[8 6 6 7 7 7 7 6 8 7 8 7 6]\n",
      "[3 6 4 1 3 1 0 5 1 4 2 0 0 3 5 0 6 3 4 0 5 6 6 2 0 5]\n",
      "[8 4 8 4 8 4]\n",
      "[8 3 8 3 3 8 3]\n",
      "0\n",
      "2\n",
      "[[2 3 1 6 4 5 0]\n",
      " [3 5 4 0 1 2 6]\n",
      " [1 5 6 4 3 0 2]\n",
      " [4 2 5 0 1 3 6]\n",
      " [2 0 6 4 5 3 1]]\n"
     ]
    }
   ],
   "source": [
    "print(v[v > 5])\n",
    "print(np.flip(v[v < 7]))\n",
    "print(v[(v > 3) & (v % 4 == 0)])\n",
    "print(v[v % 5 == 3])\n",
    "print(np.argmax(v))\n",
    "print(np.argmin(v))\n",
    "print(np.argsort(v))"
   ]
  },
  {
   "cell_type": "markdown",
   "id": "pd7gVNl9zN-s",
   "metadata": {
    "id": "pd7gVNl9zN-s"
   },
   "source": [
    "Задание 8.\n",
    "\n",
    "Выполните следующие операции над вектором (независимо, не обязательно делать это в последовательности):\n",
    "* Умножьте его на 3\n",
    "* Разделите на 7\n",
    "* Возведите в степень $\\frac{2}{3}$\n",
    "* Посчитайте $\\sin$ от него\n",
    "* Посчитайте $\\log$ от него"
   ]
  },
  {
   "cell_type": "code",
   "execution_count": 11,
   "id": "iTQeUeJ2zNkz",
   "metadata": {
    "id": "iTQeUeJ2zNkz",
    "scrolled": true,
    "tags": []
   },
   "outputs": [
    {
     "name": "stdout",
     "output_type": "stream",
     "text": [
      "[[24 15  0  6 18 18 15]\n",
      " [21 21 21  0 12  9 21]\n",
      " [18  0 24 15  9  0  0]\n",
      " [ 6 12  3 15  0  3 21]\n",
      " [ 9 24  3 21 12 18  9]]\n",
      "[[1.14285714 0.71428571 0.         0.28571429 0.85714286 0.85714286\n",
      "  0.71428571]\n",
      " [1.         1.         1.         0.         0.57142857 0.42857143\n",
      "  1.        ]\n",
      " [0.85714286 0.         1.14285714 0.71428571 0.42857143 0.\n",
      "  0.        ]\n",
      " [0.28571429 0.57142857 0.14285714 0.71428571 0.         0.14285714\n",
      "  1.        ]\n",
      " [0.42857143 1.14285714 0.14285714 1.         0.57142857 0.85714286\n",
      "  0.42857143]]\n",
      "[[4.         2.92401774 0.         1.58740105 3.30192725 3.30192725\n",
      "  2.92401774]\n",
      " [3.65930571 3.65930571 3.65930571 0.         2.5198421  2.08008382\n",
      "  3.65930571]\n",
      " [3.30192725 0.         4.         2.92401774 2.08008382 0.\n",
      "  0.        ]\n",
      " [1.58740105 2.5198421  1.         2.92401774 0.         1.\n",
      "  3.65930571]\n",
      " [2.08008382 4.         1.         3.65930571 2.5198421  3.30192725\n",
      "  2.08008382]]\n",
      "[[ 0.98935825 -0.95892427  0.          0.90929743 -0.2794155  -0.2794155\n",
      "  -0.95892427]\n",
      " [ 0.6569866   0.6569866   0.6569866   0.         -0.7568025   0.14112001\n",
      "   0.6569866 ]\n",
      " [-0.2794155   0.          0.98935825 -0.95892427  0.14112001  0.\n",
      "   0.        ]\n",
      " [ 0.90929743 -0.7568025   0.84147098 -0.95892427  0.          0.84147098\n",
      "   0.6569866 ]\n",
      " [ 0.14112001  0.98935825  0.84147098  0.6569866  -0.7568025  -0.2794155\n",
      "   0.14112001]]\n",
      "[[2.07944154 1.60943791       -inf 0.69314718 1.79175947 1.79175947\n",
      "  1.60943791]\n",
      " [1.94591015 1.94591015 1.94591015       -inf 1.38629436 1.09861229\n",
      "  1.94591015]\n",
      " [1.79175947       -inf 2.07944154 1.60943791 1.09861229       -inf\n",
      "        -inf]\n",
      " [0.69314718 1.38629436 0.         1.60943791       -inf 0.\n",
      "  1.94591015]\n",
      " [1.09861229 2.07944154 0.         1.94591015 1.38629436 1.79175947\n",
      "  1.09861229]]\n"
     ]
    },
    {
     "name": "stderr",
     "output_type": "stream",
     "text": [
      "C:\\Users\\daris\\AppData\\Local\\Temp/ipykernel_22956/4185158360.py:1: RuntimeWarning: divide by zero encountered in log\n",
      "  print(v * 3, v / 7, v ** (2/3), np.sin(v), np.log(v), sep=\"\\n\")\n"
     ]
    }
   ],
   "source": [
    "print(v * 3, v / 7, v ** (2/3), np.sin(v), np.log(v), sep=\"\\n\")"
   ]
  },
  {
   "cell_type": "markdown",
   "id": "Njvzyat9w9Jw",
   "metadata": {
    "id": "Njvzyat9w9Jw"
   },
   "source": [
    "### Разные инициализации + индексирование (3 балла)"
   ]
  },
  {
   "cell_type": "markdown",
   "id": "IXB2M-hrB1C5",
   "metadata": {
    "id": "IXB2M-hrB1C5"
   },
   "source": [
    "Задание 9.\n",
    "\n",
    "Необходимо построить квадрат $3 \\times 3$ из нечётных чисел"
   ]
  },
  {
   "cell_type": "code",
   "execution_count": 12,
   "id": "0pnAlUNO8w1h",
   "metadata": {
    "id": "0pnAlUNO8w1h"
   },
   "outputs": [
    {
     "data": {
      "text/plain": [
       "array([[ 1,  3,  5],\n",
       "       [ 7,  9, 11],\n",
       "       [13, 15, 17]])"
      ]
     },
     "execution_count": 12,
     "metadata": {},
     "output_type": "execute_result"
    }
   ],
   "source": [
    "square_odd = np.arange(1, 18, 2).reshape(3, 3)\n",
    "square_odd"
   ]
  },
  {
   "cell_type": "markdown",
   "id": "HmlcbwtOB5OT",
   "metadata": {
    "id": "HmlcbwtOB5OT"
   },
   "source": [
    "Задание 10.\n",
    "\n",
    "Необходимо построить квадрат $4 \\times 4$ из четных чисел в обратном порядке"
   ]
  },
  {
   "cell_type": "code",
   "execution_count": 13,
   "id": "W0lqLNBB81-U",
   "metadata": {
    "id": "W0lqLNBB81-U"
   },
   "outputs": [
    {
     "name": "stdout",
     "output_type": "stream",
     "text": [
      "[[ True  True  True  True]\n",
      " [ True  True  True  True]\n",
      " [ True  True  True  True]\n",
      " [ True  True  True  True]]\n"
     ]
    },
    {
     "data": {
      "text/plain": [
       "array([[30, 28, 26, 24],\n",
       "       [22, 20, 18, 16],\n",
       "       [14, 12, 10,  8],\n",
       "       [ 6,  4,  2,  0]])"
      ]
     },
     "execution_count": 13,
     "metadata": {},
     "output_type": "execute_result"
    }
   ],
   "source": [
    "square_even1 = np.flip(np.arange(0, 32, 2).reshape(4, 4))\n",
    "square_even2 = np.arange(0, 32, 2)[::-1].reshape(4, 4) # or\n",
    "print(square_even1 == square_even2) \n",
    "square_even1"
   ]
  },
  {
   "cell_type": "markdown",
   "id": "IeOvIqrFB8zI",
   "metadata": {
    "id": "IeOvIqrFB8zI"
   },
   "source": [
    "Задание 11.\n",
    "\n",
    "Необходимо построить сетку координат $11 \\times 11$ с точкой $(0,0)$ в центре и шагом $0.1$ между клетками"
   ]
  },
  {
   "cell_type": "code",
   "execution_count": 14,
   "id": "2b8eff90-724e-410c-9c30-7154d9c77158",
   "metadata": {
    "id": "gXTZFQzd84lY"
   },
   "outputs": [],
   "source": [
    "x = np.tile(np.arange(-5, 6), (11, 1))\n",
    "y = np.rot90(x)"
   ]
  },
  {
   "cell_type": "code",
   "execution_count": 15,
   "id": "e7773f4d-ae82-4339-8909-f8db9190890a",
   "metadata": {
    "id": "gXTZFQzd84lY",
    "scrolled": true,
    "tags": []
   },
   "outputs": [
    {
     "data": {
      "text/plain": [
       "array([[[-0.5,  0.5],\n",
       "        [-0.4,  0.5],\n",
       "        [-0.3,  0.5],\n",
       "        [-0.2,  0.5],\n",
       "        [-0.1,  0.5],\n",
       "        [ 0. ,  0.5],\n",
       "        [ 0.1,  0.5],\n",
       "        [ 0.2,  0.5],\n",
       "        [ 0.3,  0.5],\n",
       "        [ 0.4,  0.5],\n",
       "        [ 0.5,  0.5]],\n",
       "\n",
       "       [[-0.5,  0.4],\n",
       "        [-0.4,  0.4],\n",
       "        [-0.3,  0.4],\n",
       "        [-0.2,  0.4],\n",
       "        [-0.1,  0.4],\n",
       "        [ 0. ,  0.4],\n",
       "        [ 0.1,  0.4],\n",
       "        [ 0.2,  0.4],\n",
       "        [ 0.3,  0.4],\n",
       "        [ 0.4,  0.4],\n",
       "        [ 0.5,  0.4]],\n",
       "\n",
       "       [[-0.5,  0.3],\n",
       "        [-0.4,  0.3],\n",
       "        [-0.3,  0.3],\n",
       "        [-0.2,  0.3],\n",
       "        [-0.1,  0.3],\n",
       "        [ 0. ,  0.3],\n",
       "        [ 0.1,  0.3],\n",
       "        [ 0.2,  0.3],\n",
       "        [ 0.3,  0.3],\n",
       "        [ 0.4,  0.3],\n",
       "        [ 0.5,  0.3]],\n",
       "\n",
       "       [[-0.5,  0.2],\n",
       "        [-0.4,  0.2],\n",
       "        [-0.3,  0.2],\n",
       "        [-0.2,  0.2],\n",
       "        [-0.1,  0.2],\n",
       "        [ 0. ,  0.2],\n",
       "        [ 0.1,  0.2],\n",
       "        [ 0.2,  0.2],\n",
       "        [ 0.3,  0.2],\n",
       "        [ 0.4,  0.2],\n",
       "        [ 0.5,  0.2]],\n",
       "\n",
       "       [[-0.5,  0.1],\n",
       "        [-0.4,  0.1],\n",
       "        [-0.3,  0.1],\n",
       "        [-0.2,  0.1],\n",
       "        [-0.1,  0.1],\n",
       "        [ 0. ,  0.1],\n",
       "        [ 0.1,  0.1],\n",
       "        [ 0.2,  0.1],\n",
       "        [ 0.3,  0.1],\n",
       "        [ 0.4,  0.1],\n",
       "        [ 0.5,  0.1]],\n",
       "\n",
       "       [[-0.5,  0. ],\n",
       "        [-0.4,  0. ],\n",
       "        [-0.3,  0. ],\n",
       "        [-0.2,  0. ],\n",
       "        [-0.1,  0. ],\n",
       "        [ 0. ,  0. ],\n",
       "        [ 0.1,  0. ],\n",
       "        [ 0.2,  0. ],\n",
       "        [ 0.3,  0. ],\n",
       "        [ 0.4,  0. ],\n",
       "        [ 0.5,  0. ]],\n",
       "\n",
       "       [[-0.5, -0.1],\n",
       "        [-0.4, -0.1],\n",
       "        [-0.3, -0.1],\n",
       "        [-0.2, -0.1],\n",
       "        [-0.1, -0.1],\n",
       "        [ 0. , -0.1],\n",
       "        [ 0.1, -0.1],\n",
       "        [ 0.2, -0.1],\n",
       "        [ 0.3, -0.1],\n",
       "        [ 0.4, -0.1],\n",
       "        [ 0.5, -0.1]],\n",
       "\n",
       "       [[-0.5, -0.2],\n",
       "        [-0.4, -0.2],\n",
       "        [-0.3, -0.2],\n",
       "        [-0.2, -0.2],\n",
       "        [-0.1, -0.2],\n",
       "        [ 0. , -0.2],\n",
       "        [ 0.1, -0.2],\n",
       "        [ 0.2, -0.2],\n",
       "        [ 0.3, -0.2],\n",
       "        [ 0.4, -0.2],\n",
       "        [ 0.5, -0.2]],\n",
       "\n",
       "       [[-0.5, -0.3],\n",
       "        [-0.4, -0.3],\n",
       "        [-0.3, -0.3],\n",
       "        [-0.2, -0.3],\n",
       "        [-0.1, -0.3],\n",
       "        [ 0. , -0.3],\n",
       "        [ 0.1, -0.3],\n",
       "        [ 0.2, -0.3],\n",
       "        [ 0.3, -0.3],\n",
       "        [ 0.4, -0.3],\n",
       "        [ 0.5, -0.3]],\n",
       "\n",
       "       [[-0.5, -0.4],\n",
       "        [-0.4, -0.4],\n",
       "        [-0.3, -0.4],\n",
       "        [-0.2, -0.4],\n",
       "        [-0.1, -0.4],\n",
       "        [ 0. , -0.4],\n",
       "        [ 0.1, -0.4],\n",
       "        [ 0.2, -0.4],\n",
       "        [ 0.3, -0.4],\n",
       "        [ 0.4, -0.4],\n",
       "        [ 0.5, -0.4]],\n",
       "\n",
       "       [[-0.5, -0.5],\n",
       "        [-0.4, -0.5],\n",
       "        [-0.3, -0.5],\n",
       "        [-0.2, -0.5],\n",
       "        [-0.1, -0.5],\n",
       "        [ 0. , -0.5],\n",
       "        [ 0.1, -0.5],\n",
       "        [ 0.2, -0.5],\n",
       "        [ 0.3, -0.5],\n",
       "        [ 0.4, -0.5],\n",
       "        [ 0.5, -0.5]]])"
      ]
     },
     "execution_count": 15,
     "metadata": {},
     "output_type": "execute_result"
    }
   ],
   "source": [
    "coord = np.flip(np.dstack((x, y))).reshape(11, 11, 2)\n",
    "coord = np.column_stack(coord).reshape(11, 11, 2) * 0.1\n",
    "coord"
   ]
  },
  {
   "cell_type": "code",
   "execution_count": 46,
   "id": "5592e18d-3521-4b32-a84f-3ff76abb3306",
   "metadata": {
    "id": "gXTZFQzd84lY",
    "scrolled": true,
    "tags": []
   },
   "outputs": [
    {
     "data": {
      "text/plain": [
       "[[(-0.5, 0.5),\n",
       "  (-0.4, 0.5),\n",
       "  (-0.30000000000000004, 0.5),\n",
       "  (-0.2, 0.5),\n",
       "  (-0.1, 0.5),\n",
       "  (0.0, 0.5),\n",
       "  (0.1, 0.5),\n",
       "  (0.2, 0.5),\n",
       "  (0.30000000000000004, 0.5),\n",
       "  (0.4, 0.5),\n",
       "  (0.5, 0.5)],\n",
       " [(-0.5, 0.4),\n",
       "  (-0.4, 0.4),\n",
       "  (-0.30000000000000004, 0.4),\n",
       "  (-0.2, 0.4),\n",
       "  (-0.1, 0.4),\n",
       "  (0.0, 0.4),\n",
       "  (0.1, 0.4),\n",
       "  (0.2, 0.4),\n",
       "  (0.30000000000000004, 0.4),\n",
       "  (0.4, 0.4),\n",
       "  (0.5, 0.4)],\n",
       " [(-0.5, 0.30000000000000004),\n",
       "  (-0.4, 0.30000000000000004),\n",
       "  (-0.30000000000000004, 0.30000000000000004),\n",
       "  (-0.2, 0.30000000000000004),\n",
       "  (-0.1, 0.30000000000000004),\n",
       "  (0.0, 0.30000000000000004),\n",
       "  (0.1, 0.30000000000000004),\n",
       "  (0.2, 0.30000000000000004),\n",
       "  (0.30000000000000004, 0.30000000000000004),\n",
       "  (0.4, 0.30000000000000004),\n",
       "  (0.5, 0.30000000000000004)],\n",
       " [(-0.5, 0.2),\n",
       "  (-0.4, 0.2),\n",
       "  (-0.30000000000000004, 0.2),\n",
       "  (-0.2, 0.2),\n",
       "  (-0.1, 0.2),\n",
       "  (0.0, 0.2),\n",
       "  (0.1, 0.2),\n",
       "  (0.2, 0.2),\n",
       "  (0.30000000000000004, 0.2),\n",
       "  (0.4, 0.2),\n",
       "  (0.5, 0.2)],\n",
       " [(-0.5, 0.1),\n",
       "  (-0.4, 0.1),\n",
       "  (-0.30000000000000004, 0.1),\n",
       "  (-0.2, 0.1),\n",
       "  (-0.1, 0.1),\n",
       "  (0.0, 0.1),\n",
       "  (0.1, 0.1),\n",
       "  (0.2, 0.1),\n",
       "  (0.30000000000000004, 0.1),\n",
       "  (0.4, 0.1),\n",
       "  (0.5, 0.1)],\n",
       " [(-0.5, 0.0),\n",
       "  (-0.4, 0.0),\n",
       "  (-0.30000000000000004, 0.0),\n",
       "  (-0.2, 0.0),\n",
       "  (-0.1, 0.0),\n",
       "  (0.0, 0.0),\n",
       "  (0.1, 0.0),\n",
       "  (0.2, 0.0),\n",
       "  (0.30000000000000004, 0.0),\n",
       "  (0.4, 0.0),\n",
       "  (0.5, 0.0)],\n",
       " [(-0.5, -0.1),\n",
       "  (-0.4, -0.1),\n",
       "  (-0.30000000000000004, -0.1),\n",
       "  (-0.2, -0.1),\n",
       "  (-0.1, -0.1),\n",
       "  (0.0, -0.1),\n",
       "  (0.1, -0.1),\n",
       "  (0.2, -0.1),\n",
       "  (0.30000000000000004, -0.1),\n",
       "  (0.4, -0.1),\n",
       "  (0.5, -0.1)],\n",
       " [(-0.5, -0.2),\n",
       "  (-0.4, -0.2),\n",
       "  (-0.30000000000000004, -0.2),\n",
       "  (-0.2, -0.2),\n",
       "  (-0.1, -0.2),\n",
       "  (0.0, -0.2),\n",
       "  (0.1, -0.2),\n",
       "  (0.2, -0.2),\n",
       "  (0.30000000000000004, -0.2),\n",
       "  (0.4, -0.2),\n",
       "  (0.5, -0.2)],\n",
       " [(-0.5, -0.30000000000000004),\n",
       "  (-0.4, -0.30000000000000004),\n",
       "  (-0.30000000000000004, -0.30000000000000004),\n",
       "  (-0.2, -0.30000000000000004),\n",
       "  (-0.1, -0.30000000000000004),\n",
       "  (0.0, -0.30000000000000004),\n",
       "  (0.1, -0.30000000000000004),\n",
       "  (0.2, -0.30000000000000004),\n",
       "  (0.30000000000000004, -0.30000000000000004),\n",
       "  (0.4, -0.30000000000000004),\n",
       "  (0.5, -0.30000000000000004)],\n",
       " [(-0.5, -0.4),\n",
       "  (-0.4, -0.4),\n",
       "  (-0.30000000000000004, -0.4),\n",
       "  (-0.2, -0.4),\n",
       "  (-0.1, -0.4),\n",
       "  (0.0, -0.4),\n",
       "  (0.1, -0.4),\n",
       "  (0.2, -0.4),\n",
       "  (0.30000000000000004, -0.4),\n",
       "  (0.4, -0.4),\n",
       "  (0.5, -0.4)],\n",
       " [(-0.5, -0.5),\n",
       "  (-0.4, -0.5),\n",
       "  (-0.30000000000000004, -0.5),\n",
       "  (-0.2, -0.5),\n",
       "  (-0.1, -0.5),\n",
       "  (0.0, -0.5),\n",
       "  (0.1, -0.5),\n",
       "  (0.2, -0.5),\n",
       "  (0.30000000000000004, -0.5),\n",
       "  (0.4, -0.5),\n",
       "  (0.5, -0.5)]]"
      ]
     },
     "execution_count": 46,
     "metadata": {},
     "output_type": "execute_result"
    }
   ],
   "source": [
    "new_coord = [[tuple(i) for i in j] for j in coord]\n",
    "new_coord"
   ]
  },
  {
   "cell_type": "markdown",
   "id": "BQD_BNN-CqCm",
   "metadata": {
    "id": "BQD_BNN-CqCm"
   },
   "source": [
    "Задание 12.\n",
    "\n",
    "Замощение сетки $8\\times8$ при помощи $0$ и $1$ в шахматном порядке, клетка с индексом $(0,0)$ замощается $1$"
   ]
  },
  {
   "cell_type": "markdown",
   "id": "36cadb2b-bf00-4061-98d0-925c414ad74e",
   "metadata": {},
   "source": [
    "Можно с помощью индексирования:"
   ]
  },
  {
   "cell_type": "code",
   "execution_count": 17,
   "id": "whMdrRLx9G8Y",
   "metadata": {
    "id": "whMdrRLx9G8Y"
   },
   "outputs": [
    {
     "data": {
      "text/plain": [
       "array([[1, 0, 1, 0, 1, 0, 1, 0],\n",
       "       [0, 1, 0, 1, 0, 1, 0, 1],\n",
       "       [1, 0, 1, 0, 1, 0, 1, 0],\n",
       "       [0, 1, 0, 1, 0, 1, 0, 1],\n",
       "       [1, 0, 1, 0, 1, 0, 1, 0],\n",
       "       [0, 1, 0, 1, 0, 1, 0, 1],\n",
       "       [1, 0, 1, 0, 1, 0, 1, 0],\n",
       "       [0, 1, 0, 1, 0, 1, 0, 1]])"
      ]
     },
     "execution_count": 17,
     "metadata": {},
     "output_type": "execute_result"
    }
   ],
   "source": [
    "a = np.zeros((8, 8))\n",
    "a[1::2, 1::2] = 1\n",
    "a[::2, ::2] = 1\n",
    "a.astype(int)"
   ]
  },
  {
   "cell_type": "markdown",
   "id": "d8489ad4-ae2d-41bc-88f6-bac517ebbf0b",
   "metadata": {},
   "source": [
    "Либо используя tile"
   ]
  },
  {
   "cell_type": "code",
   "execution_count": 18,
   "id": "e23d6f38-ec31-413b-bc3b-2ea9ecc80215",
   "metadata": {},
   "outputs": [
    {
     "data": {
      "text/plain": [
       "array([[1, 0, 1, 0, 1, 0, 1, 0],\n",
       "       [0, 1, 0, 1, 0, 1, 0, 1],\n",
       "       [1, 0, 1, 0, 1, 0, 1, 0],\n",
       "       [0, 1, 0, 1, 0, 1, 0, 1],\n",
       "       [1, 0, 1, 0, 1, 0, 1, 0],\n",
       "       [0, 1, 0, 1, 0, 1, 0, 1],\n",
       "       [1, 0, 1, 0, 1, 0, 1, 0],\n",
       "       [0, 1, 0, 1, 0, 1, 0, 1]])"
      ]
     },
     "execution_count": 18,
     "metadata": {},
     "output_type": "execute_result"
    }
   ],
   "source": [
    "row_a = np.tile([1, 0], 4)\n",
    "a = np.row_stack((row_a, np.flip(row_a)))\n",
    "a = np.tile(a, (4, 1))\n",
    "a"
   ]
  },
  {
   "cell_type": "markdown",
   "id": "5tl1is5hCxH7",
   "metadata": {
    "id": "5tl1is5hCxH7"
   },
   "source": [
    "Задание 13.\n",
    "\n",
    "То же замощение, но клетка с индексом $(0,0)$ замощается $0$"
   ]
  },
  {
   "cell_type": "code",
   "execution_count": 19,
   "id": "TP8Risy79TkG",
   "metadata": {
    "id": "TP8Risy79TkG"
   },
   "outputs": [
    {
     "data": {
      "text/plain": [
       "array([[0, 1, 0, 1, 0, 1, 0, 1],\n",
       "       [1, 0, 1, 0, 1, 0, 1, 0],\n",
       "       [0, 1, 0, 1, 0, 1, 0, 1],\n",
       "       [1, 0, 1, 0, 1, 0, 1, 0],\n",
       "       [0, 1, 0, 1, 0, 1, 0, 1],\n",
       "       [1, 0, 1, 0, 1, 0, 1, 0],\n",
       "       [0, 1, 0, 1, 0, 1, 0, 1],\n",
       "       [1, 0, 1, 0, 1, 0, 1, 0]])"
      ]
     },
     "execution_count": 19,
     "metadata": {},
     "output_type": "execute_result"
    }
   ],
   "source": [
    "a = np.ones((8, 8))\n",
    "a[1::2, 1::2] = 0\n",
    "a[::2, ::2] = 0\n",
    "a.astype(int)"
   ]
  },
  {
   "cell_type": "code",
   "execution_count": 20,
   "id": "565af9ef-d992-4930-83f7-0566725240ed",
   "metadata": {},
   "outputs": [
    {
     "data": {
      "text/plain": [
       "array([[0, 1, 0, 1, 0, 1, 0, 1],\n",
       "       [1, 0, 1, 0, 1, 0, 1, 0],\n",
       "       [0, 1, 0, 1, 0, 1, 0, 1],\n",
       "       [1, 0, 1, 0, 1, 0, 1, 0],\n",
       "       [0, 1, 0, 1, 0, 1, 0, 1],\n",
       "       [1, 0, 1, 0, 1, 0, 1, 0],\n",
       "       [0, 1, 0, 1, 0, 1, 0, 1],\n",
       "       [1, 0, 1, 0, 1, 0, 1, 0]])"
      ]
     },
     "execution_count": 20,
     "metadata": {},
     "output_type": "execute_result"
    }
   ],
   "source": [
    "row_a = np.tile([0, 1], 4)\n",
    "a = np.row_stack((row_a, np.flip(row_a)))\n",
    "a = np.tile(a, (4, 1))\n",
    "a"
   ]
  },
  {
   "cell_type": "markdown",
   "id": "xwut71HZC401",
   "metadata": {
    "id": "xwut71HZC401"
   },
   "source": [
    "Задание 14.\n",
    "\n",
    "Необходимо построить нижне-треугольную матрицу переменного размера (задается передачей параметра в функцию). Это единичная матрица,замощённая $1$ под главной диагональю"
   ]
  },
  {
   "cell_type": "code",
   "execution_count": 21,
   "id": "178f6f2e-53d2-4a90-95af-8da9329a5c01",
   "metadata": {
    "id": "f819Rv2uxDOz"
   },
   "outputs": [],
   "source": [
    "n = 5\n",
    "a = np.ones((n, n))"
   ]
  },
  {
   "cell_type": "code",
   "execution_count": 22,
   "id": "1ab41e8a-d250-4653-bb69-362c2f1a6b01",
   "metadata": {
    "id": "f819Rv2uxDOz"
   },
   "outputs": [
    {
     "data": {
      "text/plain": [
       "array([[1., 0., 0., 0., 0.],\n",
       "       [1., 1., 0., 0., 0.],\n",
       "       [1., 1., 1., 0., 0.],\n",
       "       [1., 1., 1., 1., 0.],\n",
       "       [1., 1., 1., 1., 1.]])"
      ]
     },
     "execution_count": 22,
     "metadata": {},
     "output_type": "execute_result"
    }
   ],
   "source": [
    "np.tril(a)"
   ]
  },
  {
   "cell_type": "markdown",
   "id": "vhkgdaj3DGGr",
   "metadata": {
    "id": "vhkgdaj3DGGr"
   },
   "source": [
    "Задание 15.\n",
    "\n",
    "Необходимо построить верхне-треугольную матрицу переменного размера. Это единичная матрица, замощённая $1$ над главной диагональю"
   ]
  },
  {
   "cell_type": "code",
   "execution_count": 23,
   "id": "bwsDUhYT9kP0",
   "metadata": {
    "id": "bwsDUhYT9kP0"
   },
   "outputs": [
    {
     "data": {
      "text/plain": [
       "array([[1., 1., 1., 1., 1.],\n",
       "       [0., 1., 1., 1., 1.],\n",
       "       [0., 0., 1., 1., 1.],\n",
       "       [0., 0., 0., 1., 1.],\n",
       "       [0., 0., 0., 0., 1.]])"
      ]
     },
     "execution_count": 23,
     "metadata": {},
     "output_type": "execute_result"
    }
   ],
   "source": [
    "np.triu(a)"
   ]
  },
  {
   "cell_type": "markdown",
   "id": "L2HbqtTjDM1a",
   "metadata": {
    "id": "L2HbqtTjDM1a"
   },
   "source": [
    "Задание 16.\n",
    "\n",
    "Необходимо построить матрицу, в которой единицы стоят на побочной диагонали (идущей из левого нижнего угла в правый верхний), в остальных местах стоят $0$"
   ]
  },
  {
   "cell_type": "code",
   "execution_count": 24,
   "id": "vM6ez-K69to2",
   "metadata": {
    "id": "vM6ez-K69to2"
   },
   "outputs": [
    {
     "data": {
      "text/plain": [
       "array([[0., 0., 0., 0., 1.],\n",
       "       [0., 0., 0., 1., 0.],\n",
       "       [0., 0., 1., 0., 0.],\n",
       "       [0., 1., 0., 0., 0.],\n",
       "       [1., 0., 0., 0., 0.]])"
      ]
     },
     "execution_count": 24,
     "metadata": {},
     "output_type": "execute_result"
    }
   ],
   "source": [
    "a = np.zeros((n, n))\n",
    "a[np.diag_indices_from(a)] = 1\n",
    "a = np.rot90(a)\n",
    "a"
   ]
  },
  {
   "cell_type": "markdown",
   "id": "xeL6jav0w0U-",
   "metadata": {
    "id": "xeL6jav0w0U-"
   },
   "source": [
    "### Операции + аггрегации (3 балла)"
   ]
  },
  {
   "cell_type": "markdown",
   "id": "vOPIAFopHUKs",
   "metadata": {
    "id": "vOPIAFopHUKs"
   },
   "source": [
    "Задание 17.\n",
    "\n",
    "Дана выборка $\\{X_i\\}$ некоторой случайной величины $X$, необходимо оценить\n",
    "* Математическое ожидание $E[X] = \\frac{1}{N}\\sum_{i=1}^N X_i$ этой случайной величины\n",
    "* Дисперсию $D[X] = \\frac{1}{N}\\sum_{i=1}^N (X_i - E[X])^2$ этой случайной величины"
   ]
  },
  {
   "cell_type": "code",
   "execution_count": 25,
   "id": "uHQ-DiR4JB0p",
   "metadata": {
    "id": "uHQ-DiR4JB0p"
   },
   "outputs": [],
   "source": [
    "def expected_value(x):\n",
    "    assert len(x) > 0\n",
    "    return sum(x) / len(x)\n",
    "\n",
    "\n",
    "def dispersion(x):\n",
    "    assert len(x) > 0\n",
    "    d = 0\n",
    "    e = expected_value(x)\n",
    "    for x_i in x:\n",
    "        d += (x_i - e) ** 2\n",
    "    return d / len(x)"
   ]
  },
  {
   "cell_type": "code",
   "execution_count": 26,
   "id": "XVFo8hitHSav",
   "metadata": {
    "id": "XVFo8hitHSav"
   },
   "outputs": [],
   "source": [
    "def expected_value_np(x):\n",
    "    return np.mean(x)"
   ]
  },
  {
   "cell_type": "code",
   "execution_count": 27,
   "id": "f2jCC5EjJkl0",
   "metadata": {
    "id": "f2jCC5EjJkl0"
   },
   "outputs": [],
   "source": [
    "def dispersion_np(x):\n",
    "    return np.std(x) ** 2"
   ]
  },
  {
   "cell_type": "code",
   "execution_count": 28,
   "id": "dEGp_cuFJoX9",
   "metadata": {
    "id": "dEGp_cuFJoX9"
   },
   "outputs": [],
   "source": [
    "np.testing.assert_array_equal(expected_value([1]), expected_value_np(np.array([1])))\n",
    "np.testing.assert_array_equal(expected_value([3, 4]), expected_value_np(np.array([3, 4])))\n",
    "np.testing.assert_array_equal(expected_value([-1, 0, 1]), expected_value_np(np.array([-1, 0, 1])))\n",
    "np.testing.assert_array_equal(expected_value([-99, -98]), expected_value_np(np.array([-99, -98])))\n",
    "\n",
    "np.testing.assert_array_equal(dispersion([1]), dispersion_np(np.array([1])))\n",
    "np.testing.assert_array_equal(dispersion([3, 4]), dispersion_np(np.array([3, 4])))\n",
    "np.testing.assert_array_equal(dispersion([-1, 0, 1]), dispersion_np(np.array([-1, 0, 1])))\n",
    "np.testing.assert_array_equal(dispersion([-99, -98]), dispersion_np(np.array([-99, -98])))"
   ]
  },
  {
   "cell_type": "markdown",
   "id": "BO9aCDmYBf1R",
   "metadata": {
    "id": "BO9aCDmYBf1R"
   },
   "source": [
    "Задание 18.\n",
    "\n",
    "Даны два вектора $y_1$ и $y_2$, нужно посчитать среднее арифметическое квадратов разностей их значений"
   ]
  },
  {
   "cell_type": "code",
   "execution_count": 29,
   "id": "5ZgYjfj5KW4g",
   "metadata": {
    "id": "5ZgYjfj5KW4g"
   },
   "outputs": [],
   "source": [
    "def mean_square_difference(y1, y2):\n",
    "    assert len(y1) == len(y2) and len(y1) > 0\n",
    "    # Здесь и далее эти проверки !не нужно! дублировать в свои функции; Здесь они для того, чтобы лишний раз подчеркнуть валидность входных данных\n",
    "    s = 0\n",
    "    for i in range(len(y1)):\n",
    "        s += (y1[i] - y2[i]) ** 2\n",
    "    return s / len(y1)"
   ]
  },
  {
   "cell_type": "code",
   "execution_count": 30,
   "id": "r3kxTnLlw7dA",
   "metadata": {
    "id": "r3kxTnLlw7dA"
   },
   "outputs": [],
   "source": [
    "def mean_square_difference_np(y1, y2):\n",
    "    return np.mean((y1 - y2) ** 2)"
   ]
  },
  {
   "cell_type": "code",
   "execution_count": 31,
   "id": "CVuNT_iRKrFM",
   "metadata": {
    "id": "CVuNT_iRKrFM"
   },
   "outputs": [],
   "source": [
    "assert mean_square_difference([1], [1]) == mean_square_difference_np(np.array([1]), np.array([1]))\n",
    "assert mean_square_difference([1, 2], [1, 2]) == mean_square_difference_np(np.array([1, 2]), np.array([1, 2]))\n",
    "assert mean_square_difference([-1, 1], [0, 0]) == mean_square_difference_np(np.array([-1, 1]), np.array([0, 0]))\n",
    "assert mean_square_difference([-3, -2, 0, 1, 4], [-2, -2, -1, -1, 5]) == mean_square_difference_np(np.array([-3, -2, 0, 1, 4]), np.array([-2, -2, -1, -1, 5]))"
   ]
  },
  {
   "cell_type": "markdown",
   "id": "FlYEqBJuBeX_",
   "metadata": {
    "id": "FlYEqBJuBeX_"
   },
   "source": [
    "Задание 19.\n",
    "\n",
    "Даны два вектора $y_1$ и $y_2$, нужно посчитать среднее арифметическое модулей разностей их значений"
   ]
  },
  {
   "cell_type": "code",
   "execution_count": 32,
   "id": "YYFm_USNLR0g",
   "metadata": {
    "id": "YYFm_USNLR0g"
   },
   "outputs": [],
   "source": [
    "def mean_abs_difference(y1, y2):\n",
    "    assert len(y1) == len(y2) and len(y1) > 0\n",
    "    s = 0\n",
    "    for i in range(len(y1)):\n",
    "        s += abs(y1[i] - y2[i])\n",
    "    return s / len(y1)"
   ]
  },
  {
   "cell_type": "code",
   "execution_count": 33,
   "id": "YND9wAXGLSrU",
   "metadata": {
    "id": "YND9wAXGLSrU"
   },
   "outputs": [],
   "source": [
    "def mean_abs_difference_np(y1, y2):\n",
    "    return np.mean(np.abs(y1 - y2))"
   ]
  },
  {
   "cell_type": "code",
   "execution_count": 34,
   "id": "a6AVnlOp-N_E",
   "metadata": {
    "id": "a6AVnlOp-N_E"
   },
   "outputs": [],
   "source": [
    "assert mean_abs_difference([1], [1]) == mean_abs_difference_np(np.array([1]), np.array([1]))\n",
    "assert mean_abs_difference([1, 2], [1, 2]) == mean_abs_difference_np(np.array([1, 2]), np.array([1, 2]))\n",
    "assert mean_abs_difference([-1, 1], [0, 0]) == mean_abs_difference_np(np.array([-1, 1]), np.array([0, 0]))\n",
    "assert mean_abs_difference([-3, -2, 0, 1, 4], [-2, -2, -1, -1, 5]) == mean_abs_difference_np(np.array([-3, -2, 0, 1, 4]), np.array([-2, -2, -1, -1, 5]))"
   ]
  },
  {
   "cell_type": "markdown",
   "id": "MCJcY2TDBVX2",
   "metadata": {
    "id": "MCJcY2TDBVX2"
   },
   "source": [
    "Задание 20.\n",
    "\n",
    "Даны два вектора $y_1$ и $y_2$, в которых присутствуют только $0$ и $1$. Необходимо посчитать вероятность совпадения - в скольких точках значения двух векторов совпадают"
   ]
  },
  {
   "cell_type": "code",
   "execution_count": 35,
   "id": "MFRHNu3RLdAM",
   "metadata": {
    "id": "MFRHNu3RLdAM"
   },
   "outputs": [],
   "source": [
    "def matching_proba(y1, y2):\n",
    "    assert len(y1) == len(y2) and len(y1) > 0\n",
    "    assert len(set(y1)) <= 2\n",
    "    assert len(set(y2)) <= 2\n",
    "    assert 0 in set(y1) or 1 in set(y1) or (0 in set(y1) and 1 in set(y1))\n",
    "    assert 0 in set(y2) or 1 in set(y2) or (0 in set(y2) and 1 in set(y2))\n",
    "\n",
    "    return sum([y1[i] == y2[i] for i in range(len(y1))]) / len(y1)"
   ]
  },
  {
   "cell_type": "code",
   "execution_count": 36,
   "id": "C48P4bQBMnZQ",
   "metadata": {
    "id": "C48P4bQBMnZQ"
   },
   "outputs": [],
   "source": [
    "def matching_proba_np(y1, y2):\n",
    "    return len(y1[y1 == y2])/len(y1)"
   ]
  },
  {
   "cell_type": "code",
   "execution_count": 37,
   "id": "-DDiBxPEMZwu",
   "metadata": {
    "id": "-DDiBxPEMZwu"
   },
   "outputs": [],
   "source": [
    "np.testing.assert_array_equal(matching_proba([0, 1], [1, 0]), matching_proba_np(np.array([0, 1]), np.array([1, 0])))\n",
    "np.testing.assert_array_equal(matching_proba([0, 1, 0, 1], [0, 0, 1, 1]), matching_proba_np(np.array([0, 1, 0, 1]), np.array([0, 0, 1, 1])))\n",
    "np.testing.assert_array_equal(matching_proba([0, 0, 1, 1], [0, 0, 1, 1]), matching_proba_np(np.array([0, 0, 1, 1]), np.array([0, 0, 1, 1])))"
   ]
  },
  {
   "cell_type": "markdown",
   "id": "F_a98XRF_WnS",
   "metadata": {
    "id": "F_a98XRF_WnS"
   },
   "source": [
    "Задание 21.\n",
    "\n",
    "Даны два вектора: $y_1$, $y_2$. В $y_1$ и $y_2$ присутствуют только $0$ и $1$.\n",
    "\n",
    "* Необходимо найти границы (индексы), такие, что если мы разделим какой-то из них оба вектора, то в левой части пересекающихся в $y_1$ и $y_2$ нулей будет больше, чем единиц, а в правой - наоборот. Если какая-то из частей не содержит элементов вовсе, то будем считать, что она подходит под условие."
   ]
  },
  {
   "cell_type": "code",
   "execution_count": 38,
   "id": "b6FUo3G_NDge",
   "metadata": {
    "id": "b6FUo3G_NDge"
   },
   "outputs": [],
   "source": [
    "def find_thresholds(y1, y2, debug=False):\n",
    "    assert len(y1) == len(y2) and len(y1) > 0\n",
    "    n = len(y1)\n",
    "    matching_zeros = [1 if y1[i] == y2[i] == 0 else 0 for i in range(n)]\n",
    "    matching_ones = [1 if y1[i] == y2[i] == 1 else 0 for i in range(n)]\n",
    "    res = []\n",
    "    if sum(matching_ones) / n > 0.5:\n",
    "        res.append(0)\n",
    "    for i in range(1, n):\n",
    "        if debug: # если вам непонятна логика работы этой функции, передайте третьим аргументом True\n",
    "            print(matching_zeros[:i], matching_ones[i:], i)\n",
    "        if sum(matching_zeros[:i]) / i > 0.5 and sum(matching_ones[i:]) / (n - i) > 0.5:\n",
    "            res.append(i)\n",
    "    if sum(matching_zeros) / n > 0.5:\n",
    "        res.append(n)\n",
    "    return res"
   ]
  },
  {
   "cell_type": "code",
   "execution_count": 39,
   "id": "aD34QrPrReVK",
   "metadata": {
    "id": "aD34QrPrReVK"
   },
   "outputs": [],
   "source": [
    "def find_thresholds_np(y1, y2):\n",
    "    n = y1.shape\n",
    "    match_zeros = np.zeros(n)\n",
    "    match_zeros[(y1 == y2) & (y2 == 0)] = 1\n",
    "    \n",
    "    match_ones = np.zeros(n)\n",
    "    match_ones[(y1 == y2) & (y2 == 1)] = 1\n",
    "    \n",
    "    res = np.array(np.where(\n",
    "        (np.sum(np.tril(match_zeros), axis=1)[:-1] / np.arange(1, n[0]) > 0.5) &\n",
    "        (np.sum(np.triu(match_ones), axis=1)[1:] / np.flip(np.arange(1, n[0])) > 0.5))) + 1\n",
    "    \n",
    "    if np.sum(match_ones) / n > 0.5:\n",
    "        res = np.append(res, 0)\n",
    "    elif np.sum(match_zeros) / n > 0.5:\n",
    "        res = np.append(res, n)\n",
    "\n",
    "    return np.array(res).squeeze()"
   ]
  },
  {
   "cell_type": "code",
   "execution_count": 40,
   "id": "oSSMaAp3PT-R",
   "metadata": {
    "id": "oSSMaAp3PT-R"
   },
   "outputs": [],
   "source": [
    "np.testing.assert_array_equal(find_thresholds([0], [0]), find_thresholds_np(np.array([0]), np.array([0])))\n",
    "np.testing.assert_array_equal(find_thresholds([1], [1]), find_thresholds_np(np.array([1]), np.array([1])))\n",
    "np.testing.assert_array_equal(\n",
    "    find_thresholds([0, 0, 1, 1], [0, 0, 1, 1]), \n",
    "    find_thresholds_np(np.array([0, 0, 1, 1]), np.array([0, 0, 1, 1]))\n",
    ")\n",
    "np.testing.assert_array_equal(\n",
    "    find_thresholds([0, 0, 1, 0, 0, 1, 1, 1], [0, 0, 0, 0, 0, 1, 1, 1]),\n",
    "    find_thresholds_np(np.array([0, 0, 1, 0, 0, 1, 1, 1]), np.array([0, 0, 0, 0, 0, 1, 1, 1]))\n",
    ")"
   ]
  },
  {
   "cell_type": "markdown",
   "id": "QzL-JrqmxD8s",
   "metadata": {
    "id": "QzL-JrqmxD8s"
   },
   "source": [
    "### Разные действия с матрицами (3 балла)"
   ]
  },
  {
   "cell_type": "markdown",
   "id": "8cRkht0DTyJm",
   "metadata": {
    "id": "8cRkht0DTyJm"
   },
   "source": [
    "Задание 22.\n",
    "\n",
    "Дана матрица размера $(32, 3, 16, 16)$, заполненная случайными числами от 0 до 9. При помощи **ровно пяти** преобразований приведите её к виду $(32, 1)$. При выполнении задания **можно** создавать вспомогательные матрицы!"
   ]
  },
  {
   "cell_type": "code",
   "execution_count": 41,
   "id": "56de5cc0-7b76-40ac-8abe-49f62832f0ed",
   "metadata": {},
   "outputs": [],
   "source": [
    "data = np.random.randint(0, 10, size=(32, 3, 16, 16))\n",
    "\n",
    "# (∩｀-´)⊃━☆ﾟ.*･｡ﾟ\n",
    "# data = np.resize(data, (32, 1))\n",
    "data = data.reshape((32, 3, 16*16))\n",
    "n = np.random.randint(0, 10, size=(16*16, 1))\n",
    "data = np.dot(data, n).squeeze()\n",
    "d = np.random.randint(0, 10, size=(3, 1))\n",
    "data = np.dot(data, d)\n",
    "\n",
    "assert data.shape == (32, 1)"
   ]
  },
  {
   "cell_type": "markdown",
   "id": "BlZrnx1TU3Oe",
   "metadata": {
    "id": "BlZrnx1TU3Oe"
   },
   "source": [
    "Задание 23.\n",
    "\n",
    "Даны две матрицы $m_1$ размером $(32, 256)$ и $m_2$ размером $(32, 512)$, а также две вспомогательные матрицы $W_1$ размером $(256, 32)$ и $W_2$ размером $(512, 16)$. Используя **все** данные матрицы, сделайте так, чтобы на выходе получилась **ровно одна** матрица размером $(32, 32)$"
   ]
  },
  {
   "cell_type": "code",
   "execution_count": 42,
   "id": "XiQOLjOgxENb",
   "metadata": {
    "id": "XiQOLjOgxENb"
   },
   "outputs": [],
   "source": [
    "m1 = np.random.randint(0, 10, size=(32, 256))\n",
    "m2 = np.random.randint(0, 10, size=(32, 512))\n",
    "W1 = np.random.randint(0, 10, size=(256, 32))\n",
    "W2 = np.random.randint(0, 10, size=(512, 16))\n",
    "\n",
    "# (∩｀-´)⊃━☆ﾟ.*･｡ﾟ !!!magic!!!\n",
    "a = np.hstack((np.dot(m2, W2), np.dot(m2, W2)))\n",
    "b = np.dot(m1, W1)\n",
    "result = a * b\n",
    "\n",
    "assert result.shape == (32, 32)"
   ]
  },
  {
   "cell_type": "markdown",
   "id": "dGTtWMlOWSyr",
   "metadata": {
    "id": "dGTtWMlOWSyr"
   },
   "source": [
    "Задание 24.\n",
    "\n",
    "Последнее испытание для юного мага матриц - приведите полученную на последнем шаге матрицу к виду $(32, 3)$ и сделайте так, чтобы все значения в этой матрице были в промежутке от $0$ до $1$"
   ]
  },
  {
   "cell_type": "code",
   "execution_count": 43,
   "id": "JM1Ngv6oWSZE",
   "metadata": {
    "id": "JM1Ngv6oWSZE"
   },
   "outputs": [],
   "source": [
    "# Вжух! (∩｀-´)⊃━☆ﾟ.*･｡ﾟ\n",
    "\n",
    "# можно так\n",
    "# result = np.resize(np.clip(result, 0, 1), (32, 3))\n",
    "\n",
    "# можно и так\n",
    "temp = np.random.randint(0, 10, size=(32, 3))\n",
    "result = np.clip(np.dot(result, temp), 0, 1)\n",
    "\n",
    "assert result.shape == (32, 3)\n",
    "assert ((result >= 0) & (result <= 1)).all()"
   ]
  }
 ],
 "metadata": {
  "colab": {
   "collapsed_sections": [],
   "name": "Копия блокнота \"ML_HW1_numpy.ipynb\"",
   "provenance": []
  },
  "kernelspec": {
   "display_name": "Python 3 (ipykernel)",
   "language": "python",
   "name": "python3"
  },
  "language_info": {
   "codemirror_mode": {
    "name": "ipython",
    "version": 3
   },
   "file_extension": ".py",
   "mimetype": "text/x-python",
   "name": "python",
   "nbconvert_exporter": "python",
   "pygments_lexer": "ipython3",
   "version": "3.8.8"
  },
  "widgets": {
   "application/vnd.jupyter.widget-state+json": {
    "state": {},
    "version_major": 2,
    "version_minor": 0
   }
  }
 },
 "nbformat": 4,
 "nbformat_minor": 5
}
