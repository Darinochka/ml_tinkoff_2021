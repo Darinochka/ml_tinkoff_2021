{
 "cells": [
  {
   "cell_type": "markdown",
   "id": "4M7yx5MXwtCU",
   "metadata": {
    "id": "4M7yx5MXwtCU"
   },
   "source": [
    "### Введение"
   ]
  },
  {
   "cell_type": "markdown",
   "id": "Pu3dvVd0vnvt",
   "metadata": {
    "id": "Pu3dvVd0vnvt"
   },
   "source": [
    "Широко известно, что для машинного обучения используется Python. Но также известно, что Python уступает по своему быстродействию *компилируемым* языкам типа C++, C# или Kotlin. Поэтому не всегда понятно, почему для задач ML, где используются тяжеловесные модели, которые должны отвечать быстро, используется интерпретируемый Python.\n",
    "\n",
    "На этот вопрос есть два ответа:\n",
    "* удобный синтаксис для операций над векторами\n",
    "* скорость векторизованных операций"
   ]
  },
  {
   "cell_type": "code",
   "execution_count": 3,
   "id": "8494a244",
   "metadata": {
    "executionInfo": {
     "elapsed": 7,
     "status": "ok",
     "timestamp": 1634387151425,
     "user": {
      "displayName": "Дарина Рустамова",
      "photoUrl": "https://lh3.googleusercontent.com/a-/AOh14Ggxy6f2VQ83CvyVwVUxBXEd2HP5a-Wqw0XlbLd46Q=s64",
      "userId": "06955280487934804797"
     },
     "user_tz": -180
    },
    "id": "8494a244"
   },
   "outputs": [],
   "source": [
    "import numpy as np"
   ]
  },
  {
   "cell_type": "markdown",
   "id": "vvMCgW6lBaLt",
   "metadata": {
    "id": "vvMCgW6lBaLt"
   },
   "source": [
    "Библиотека NumPy, которую мы разберём на этом семинаре, позволяет многократно оптимизировать работу с векторами по памяти и по времени. Если не вдаваться глубоко в подробности работы векторов NumPy, то они\n",
    "* Работают быстро благодаря распараллеливанию\n",
    "* Занимают меньше памяти благодаря типизации - к примеру, по умолчанию векторы заполняются целыми либо вещественными числами. Также как и обычные списки, векторы NumPy могут содержать данные разных типов, но по умолчанию в них выделяется память под элементы одного (заранее выбранного) типа."
   ]
  },
  {
   "cell_type": "markdown",
   "id": "yMxqDwGz9nfh",
   "metadata": {
    "id": "yMxqDwGz9nfh"
   },
   "source": [
    "### Инициализация numpy-массивов"
   ]
  },
  {
   "cell_type": "markdown",
   "id": "MriF_xu7zy2x",
   "metadata": {
    "id": "MriF_xu7zy2x"
   },
   "source": [
    "Ниже приведены примеры инициализации списков с разными интервалами чисел"
   ]
  },
  {
   "cell_type": "code",
   "execution_count": 4,
   "id": "1005ecf7",
   "metadata": {
    "colab": {
     "base_uri": "https://localhost:8080/"
    },
    "executionInfo": {
     "elapsed": 761,
     "status": "ok",
     "timestamp": 1634387258023,
     "user": {
      "displayName": "Дарина Рустамова",
      "photoUrl": "https://lh3.googleusercontent.com/a-/AOh14Ggxy6f2VQ83CvyVwVUxBXEd2HP5a-Wqw0XlbLd46Q=s64",
      "userId": "06955280487934804797"
     },
     "user_tz": -180
    },
    "id": "1005ecf7",
    "outputId": "0fae5188-c245-4e43-c6bb-29482bb9c64a"
   },
   "outputs": [
    {
     "data": {
      "text/plain": [
       "[0, 1, 2, 3, 4, 5, 6, 7, 8, 9]"
      ]
     },
     "execution_count": 4,
     "metadata": {},
     "output_type": "execute_result"
    }
   ],
   "source": [
    "[i for i in range(10)] # Инициализация массива интервалом чисел от 0 до 9"
   ]
  },
  {
   "cell_type": "code",
   "execution_count": 5,
   "id": "eB61Ncu4yzuD",
   "metadata": {
    "colab": {
     "base_uri": "https://localhost:8080/"
    },
    "executionInfo": {
     "elapsed": 377,
     "status": "ok",
     "timestamp": 1634387258746,
     "user": {
      "displayName": "Дарина Рустамова",
      "photoUrl": "https://lh3.googleusercontent.com/a-/AOh14Ggxy6f2VQ83CvyVwVUxBXEd2HP5a-Wqw0XlbLd46Q=s64",
      "userId": "06955280487934804797"
     },
     "user_tz": -180
    },
    "id": "eB61Ncu4yzuD",
    "outputId": "322569d0-8ad1-4703-f61f-d73c7fbfc723"
   },
   "outputs": [
    {
     "data": {
      "text/plain": [
       "array([0, 1, 2, 3, 4, 5, 6, 7, 8, 9])"
      ]
     },
     "execution_count": 5,
     "metadata": {},
     "output_type": "execute_result"
    }
   ],
   "source": [
    "np.arange(10) # То же самое, но в стиле NumPy"
   ]
  },
  {
   "cell_type": "code",
   "execution_count": 6,
   "id": "5374c716",
   "metadata": {
    "colab": {
     "base_uri": "https://localhost:8080/"
    },
    "executionInfo": {
     "elapsed": 669,
     "status": "ok",
     "timestamp": 1634387261493,
     "user": {
      "displayName": "Дарина Рустамова",
      "photoUrl": "https://lh3.googleusercontent.com/a-/AOh14Ggxy6f2VQ83CvyVwVUxBXEd2HP5a-Wqw0XlbLd46Q=s64",
      "userId": "06955280487934804797"
     },
     "user_tz": -180
    },
    "id": "5374c716",
    "outputId": "a3a3a2fc-6c7d-4f3a-f239-04a787b997db"
   },
   "outputs": [
    {
     "data": {
      "text/plain": [
       "[5, 7, 9]"
      ]
     },
     "execution_count": 6,
     "metadata": {},
     "output_type": "execute_result"
    }
   ],
   "source": [
    "[i for i in range(5, 10, 2)] # Инициализация массива интервалом чисел от 5 до 9 с шагом 2"
   ]
  },
  {
   "cell_type": "code",
   "execution_count": 7,
   "id": "1pd_gqODzIRn",
   "metadata": {
    "colab": {
     "base_uri": "https://localhost:8080/"
    },
    "executionInfo": {
     "elapsed": 10,
     "status": "ok",
     "timestamp": 1634387261896,
     "user": {
      "displayName": "Дарина Рустамова",
      "photoUrl": "https://lh3.googleusercontent.com/a-/AOh14Ggxy6f2VQ83CvyVwVUxBXEd2HP5a-Wqw0XlbLd46Q=s64",
      "userId": "06955280487934804797"
     },
     "user_tz": -180
    },
    "id": "1pd_gqODzIRn",
    "outputId": "75c16d4a-b0ef-4c3c-b25e-05277496723a"
   },
   "outputs": [
    {
     "data": {
      "text/plain": [
       "array([5, 7, 9])"
      ]
     },
     "execution_count": 7,
     "metadata": {},
     "output_type": "execute_result"
    }
   ],
   "source": [
    "np.arange(5, 10, 2) # Аналогично при помощи NumPy"
   ]
  },
  {
   "cell_type": "markdown",
   "id": "xgKjwpC423ux",
   "metadata": {
    "id": "xgKjwpC423ux"
   },
   "source": [
    "Классический `range` не позволяет работать с нецелым шагом, потому что его задача - возвращать целочисленный счетчик. А будет ли это работать в `arange`?"
   ]
  },
  {
   "cell_type": "code",
   "execution_count": 8,
   "id": "b30e9277",
   "metadata": {
    "colab": {
     "base_uri": "https://localhost:8080/"
    },
    "executionInfo": {
     "elapsed": 358,
     "status": "ok",
     "timestamp": 1634387272745,
     "user": {
      "displayName": "Дарина Рустамова",
      "photoUrl": "https://lh3.googleusercontent.com/a-/AOh14Ggxy6f2VQ83CvyVwVUxBXEd2HP5a-Wqw0XlbLd46Q=s64",
      "userId": "06955280487934804797"
     },
     "user_tz": -180
    },
    "id": "b30e9277",
    "outputId": "4d7b69c2-7805-4687-9edb-536a82497867"
   },
   "outputs": [
    {
     "data": {
      "text/plain": [
       "[-10.0, -9.99, -9.98, -9.97, -9.96, -9.95, -9.94, -9.93, -9.92, -9.91]"
      ]
     },
     "execution_count": 8,
     "metadata": {},
     "output_type": "execute_result"
    }
   ],
   "source": [
    "[i / 100 for i in range(-1000, 1000)][:10]"
   ]
  },
  {
   "cell_type": "markdown",
   "id": "gMwSht5UziGF",
   "metadata": {
    "id": "gMwSht5UziGF"
   },
   "source": [
    "В ячейке ниже напишите код, задающий аналогичный массив при помощи NumPy"
   ]
  },
  {
   "cell_type": "code",
   "execution_count": 9,
   "id": "KrpKaMfhzTH_",
   "metadata": {
    "executionInfo": {
     "elapsed": 421,
     "status": "ok",
     "timestamp": 1634387505058,
     "user": {
      "displayName": "Дарина Рустамова",
      "photoUrl": "https://lh3.googleusercontent.com/a-/AOh14Ggxy6f2VQ83CvyVwVUxBXEd2HP5a-Wqw0XlbLd46Q=s64",
      "userId": "06955280487934804797"
     },
     "user_tz": -180
    },
    "id": "KrpKaMfhzTH_"
   },
   "outputs": [],
   "source": [
    "# [i for i in range(?, ?, 0.01)] -> TypeError: 'float' object cannot be interpreted as an integer\n",
    "def floating_step_range():\n",
    "    return np.arange(-10, 10, 0.01)"
   ]
  },
  {
   "cell_type": "markdown",
   "id": "AqC3GCfuz7Jd",
   "metadata": {
    "id": "AqC3GCfuz7Jd"
   },
   "source": [
    "Запустите тесты, чтобы убедиться, что вы всё сделали правильно"
   ]
  },
  {
   "cell_type": "code",
   "execution_count": 10,
   "id": "ztQUqQGHz1sj",
   "metadata": {
    "colab": {
     "base_uri": "https://localhost:8080/"
    },
    "executionInfo": {
     "elapsed": 266,
     "status": "ok",
     "timestamp": 1634387511075,
     "user": {
      "displayName": "Дарина Рустамова",
      "photoUrl": "https://lh3.googleusercontent.com/a-/AOh14Ggxy6f2VQ83CvyVwVUxBXEd2HP5a-Wqw0XlbLd46Q=s64",
      "userId": "06955280487934804797"
     },
     "user_tz": -180
    },
    "id": "ztQUqQGHz1sj",
    "outputId": "175e7c49-cf4b-453b-b2fc-0429dbb08844"
   },
   "outputs": [
    {
     "name": "stdout",
     "output_type": "stream",
     "text": [
      "good job!\n"
     ]
    }
   ],
   "source": [
    "actual = floating_step_range()\n",
    "expected = [i / 100 for i in range(-1000, 1000)]\n",
    "\n",
    "assert len(actual) == 2000\n",
    "np.testing.assert_array_almost_equal(actual[:10], expected[:10])\n",
    "np.testing.assert_array_almost_equal(actual[40:50], expected[40:50])\n",
    "np.testing.assert_almost_equal(actual[1488], 4.88)\n",
    "\n",
    "print('good job!')"
   ]
  },
  {
   "cell_type": "markdown",
   "id": "vAuK3FN23koO",
   "metadata": {
    "id": "vAuK3FN23koO"
   },
   "source": [
    "Помимо arange есть более простые функции для инициализации массивов - это `zeros` и `ones`. Они принимают на вход только размерность массива, который мы хотим создать"
   ]
  },
  {
   "cell_type": "code",
   "execution_count": 11,
   "id": "b3014a41",
   "metadata": {
    "colab": {
     "base_uri": "https://localhost:8080/"
    },
    "executionInfo": {
     "elapsed": 334,
     "status": "ok",
     "timestamp": 1634387752326,
     "user": {
      "displayName": "Дарина Рустамова",
      "photoUrl": "https://lh3.googleusercontent.com/a-/AOh14Ggxy6f2VQ83CvyVwVUxBXEd2HP5a-Wqw0XlbLd46Q=s64",
      "userId": "06955280487934804797"
     },
     "user_tz": -180
    },
    "id": "b3014a41",
    "outputId": "472d4935-d5f6-4b16-8f1d-06d8db81e4c9"
   },
   "outputs": [
    {
     "data": {
      "text/plain": [
       "[0, 0, 0, 0]"
      ]
     },
     "execution_count": 11,
     "metadata": {},
     "output_type": "execute_result"
    }
   ],
   "source": [
    "[0] * 4"
   ]
  },
  {
   "cell_type": "code",
   "execution_count": 12,
   "id": "yBQq9InR3Co5",
   "metadata": {
    "colab": {
     "base_uri": "https://localhost:8080/"
    },
    "executionInfo": {
     "elapsed": 11,
     "status": "ok",
     "timestamp": 1634387753213,
     "user": {
      "displayName": "Дарина Рустамова",
      "photoUrl": "https://lh3.googleusercontent.com/a-/AOh14Ggxy6f2VQ83CvyVwVUxBXEd2HP5a-Wqw0XlbLd46Q=s64",
      "userId": "06955280487934804797"
     },
     "user_tz": -180
    },
    "id": "yBQq9InR3Co5",
    "outputId": "ff28f9b7-17f1-4faa-e6cb-951bb0fd49eb"
   },
   "outputs": [
    {
     "data": {
      "text/plain": [
       "array([0., 0., 0., 0.])"
      ]
     },
     "execution_count": 12,
     "metadata": {},
     "output_type": "execute_result"
    }
   ],
   "source": [
    "np.zeros(4)"
   ]
  },
  {
   "cell_type": "code",
   "execution_count": 13,
   "id": "8OueH2Af3E1W",
   "metadata": {
    "colab": {
     "base_uri": "https://localhost:8080/"
    },
    "executionInfo": {
     "elapsed": 13,
     "status": "ok",
     "timestamp": 1634387754552,
     "user": {
      "displayName": "Дарина Рустамова",
      "photoUrl": "https://lh3.googleusercontent.com/a-/AOh14Ggxy6f2VQ83CvyVwVUxBXEd2HP5a-Wqw0XlbLd46Q=s64",
      "userId": "06955280487934804797"
     },
     "user_tz": -180
    },
    "id": "8OueH2Af3E1W",
    "outputId": "a7e7d036-a893-46d2-c3f3-6130045e5f9e"
   },
   "outputs": [
    {
     "data": {
      "text/plain": [
       "[1, 1, 1, 1, 1, 1, 1, 1]"
      ]
     },
     "execution_count": 13,
     "metadata": {},
     "output_type": "execute_result"
    }
   ],
   "source": [
    "[1] * 8"
   ]
  },
  {
   "cell_type": "code",
   "execution_count": 14,
   "id": "ljFLAMIe3HCa",
   "metadata": {
    "colab": {
     "base_uri": "https://localhost:8080/"
    },
    "executionInfo": {
     "elapsed": 274,
     "status": "ok",
     "timestamp": 1634387756420,
     "user": {
      "displayName": "Дарина Рустамова",
      "photoUrl": "https://lh3.googleusercontent.com/a-/AOh14Ggxy6f2VQ83CvyVwVUxBXEd2HP5a-Wqw0XlbLd46Q=s64",
      "userId": "06955280487934804797"
     },
     "user_tz": -180
    },
    "id": "ljFLAMIe3HCa",
    "outputId": "3ac4dc9f-1bf6-401d-d670-d2b6e07c64fd"
   },
   "outputs": [
    {
     "data": {
      "text/plain": [
       "array([1., 1., 1., 1., 1., 1., 1., 1.])"
      ]
     },
     "execution_count": 14,
     "metadata": {},
     "output_type": "execute_result"
    }
   ],
   "source": [
    "np.ones(8)"
   ]
  },
  {
   "cell_type": "markdown",
   "id": "GExlLZC4-NsS",
   "metadata": {
    "id": "GExlLZC4-NsS"
   },
   "source": [
    "Также есть отдельная функция для получения единичной матрицы"
   ]
  },
  {
   "cell_type": "code",
   "execution_count": 15,
   "id": "PFV4SJuq-Y-m",
   "metadata": {
    "colab": {
     "base_uri": "https://localhost:8080/"
    },
    "executionInfo": {
     "elapsed": 246,
     "status": "ok",
     "timestamp": 1634387759404,
     "user": {
      "displayName": "Дарина Рустамова",
      "photoUrl": "https://lh3.googleusercontent.com/a-/AOh14Ggxy6f2VQ83CvyVwVUxBXEd2HP5a-Wqw0XlbLd46Q=s64",
      "userId": "06955280487934804797"
     },
     "user_tz": -180
    },
    "id": "PFV4SJuq-Y-m",
    "outputId": "85a84473-41e7-468f-8f45-884ae4c1f544"
   },
   "outputs": [
    {
     "data": {
      "text/plain": [
       "array([[1., 0., 0.],\n",
       "       [0., 1., 0.],\n",
       "       [0., 0., 1.]])"
      ]
     },
     "execution_count": 15,
     "metadata": {},
     "output_type": "execute_result"
    }
   ],
   "source": [
    "np.eye(3)"
   ]
  },
  {
   "cell_type": "markdown",
   "id": "TO6ImIrI6K0L",
   "metadata": {
    "id": "TO6ImIrI6K0L"
   },
   "source": [
    "Немного магии типов"
   ]
  },
  {
   "cell_type": "code",
   "execution_count": 16,
   "id": "s--8SKL-3NRy",
   "metadata": {
    "colab": {
     "base_uri": "https://localhost:8080/"
    },
    "executionInfo": {
     "elapsed": 337,
     "status": "ok",
     "timestamp": 1634387761504,
     "user": {
      "displayName": "Дарина Рустамова",
      "photoUrl": "https://lh3.googleusercontent.com/a-/AOh14Ggxy6f2VQ83CvyVwVUxBXEd2HP5a-Wqw0XlbLd46Q=s64",
      "userId": "06955280487934804797"
     },
     "user_tz": -180
    },
    "id": "s--8SKL-3NRy",
    "outputId": "58565354-be97-4cf2-ee27-8995e21752a0"
   },
   "outputs": [
    {
     "data": {
      "text/plain": [
       "[[1, 1], [1, 1]]"
      ]
     },
     "execution_count": 16,
     "metadata": {},
     "output_type": "execute_result"
    }
   ],
   "source": [
    "[[1 for j in range(2)] for i in range(2)]"
   ]
  },
  {
   "cell_type": "code",
   "execution_count": 17,
   "id": "801962d6",
   "metadata": {
    "colab": {
     "base_uri": "https://localhost:8080/"
    },
    "executionInfo": {
     "elapsed": 16,
     "status": "ok",
     "timestamp": 1634387762820,
     "user": {
      "displayName": "Дарина Рустамова",
      "photoUrl": "https://lh3.googleusercontent.com/a-/AOh14Ggxy6f2VQ83CvyVwVUxBXEd2HP5a-Wqw0XlbLd46Q=s64",
      "userId": "06955280487934804797"
     },
     "user_tz": -180
    },
    "id": "801962d6",
    "outputId": "a74847e3-ae5e-483e-f076-c3aedf2af08b"
   },
   "outputs": [
    {
     "name": "stdout",
     "output_type": "stream",
     "text": [
      "np.ones:\n",
      "[[1. 1.]\n",
      " [1. 1.]]\n",
      "\n",
      "np.array.astype:\n",
      "[[1 1]\n",
      " [1 1]]\n",
      "\n"
     ]
    }
   ],
   "source": [
    "a = np.ones((2, 2))\n",
    "\n",
    "print(f'np.ones:\\n{a}\\n')\n",
    "print(f'np.array.astype:\\n{a.astype(int)}\\n')"
   ]
  },
  {
   "cell_type": "markdown",
   "id": "K7xgc62F3bMe",
   "metadata": {
    "id": "K7xgc62F3bMe"
   },
   "source": [
    "Напишите функцию, возвращающую эквивалентный результат, при помощи библиотеки NumPy"
   ]
  },
  {
   "cell_type": "code",
   "execution_count": 18,
   "id": "74353f06",
   "metadata": {
    "colab": {
     "base_uri": "https://localhost:8080/"
    },
    "executionInfo": {
     "elapsed": 367,
     "status": "ok",
     "timestamp": 1634387764660,
     "user": {
      "displayName": "Дарина Рустамова",
      "photoUrl": "https://lh3.googleusercontent.com/a-/AOh14Ggxy6f2VQ83CvyVwVUxBXEd2HP5a-Wqw0XlbLd46Q=s64",
      "userId": "06955280487934804797"
     },
     "user_tz": -180
    },
    "id": "74353f06",
    "outputId": "88a513b8-4c43-4f4e-d493-b3f7e9c61b7f"
   },
   "outputs": [
    {
     "data": {
      "text/plain": [
       "[[['1', '1', '1'], ['1', '1', '1']]]"
      ]
     },
     "execution_count": 18,
     "metadata": {},
     "output_type": "execute_result"
    }
   ],
   "source": [
    "[[['1' for k in range(3)] for j in range(2)] for i in range(1)]"
   ]
  },
  {
   "cell_type": "code",
   "execution_count": 29,
   "id": "9nzG2L2O3av2",
   "metadata": {
    "executionInfo": {
     "elapsed": 250,
     "status": "ok",
     "timestamp": 1634388056839,
     "user": {
      "displayName": "Дарина Рустамова",
      "photoUrl": "https://lh3.googleusercontent.com/a-/AOh14Ggxy6f2VQ83CvyVwVUxBXEd2HP5a-Wqw0XlbLd46Q=s64",
      "userId": "06955280487934804797"
     },
     "user_tz": -180
    },
    "id": "9nzG2L2O3av2"
   },
   "outputs": [],
   "source": [
    "def make_3x2x1_string_matrix():\n",
    "    return np.ones((3, 2, 1), dtype=int).astype('<U21')"
   ]
  },
  {
   "cell_type": "code",
   "execution_count": 30,
   "id": "SACOM6JM3pB5",
   "metadata": {
    "executionInfo": {
     "elapsed": 5,
     "status": "ok",
     "timestamp": 1634388058934,
     "user": {
      "displayName": "Дарина Рустамова",
      "photoUrl": "https://lh3.googleusercontent.com/a-/AOh14Ggxy6f2VQ83CvyVwVUxBXEd2HP5a-Wqw0XlbLd46Q=s64",
      "userId": "06955280487934804797"
     },
     "user_tz": -180
    },
    "id": "SACOM6JM3pB5"
   },
   "outputs": [],
   "source": [
    "actual = make_3x2x1_string_matrix()\n",
    "expected = [[['1' for k in range(3)] for j in range(2)] for i in range(1)]\n",
    "\n",
    "assert actual.shape[0] == len(expected[0][0])\n",
    "assert actual.shape[1] == len(expected[0])\n",
    "assert actual.shape[2] == len(expected)\n",
    "assert (actual == '1').all()\n",
    "assert actual.dtype == np.dtype('<U21')"
   ]
  },
  {
   "cell_type": "markdown",
   "id": "Wur_eI0eAFjt",
   "metadata": {
    "id": "Wur_eI0eAFjt"
   },
   "source": [
    "Вместо того, чтобы вызывать `len(a), len(a[0]), ...`, можно просто вызвать свойство `shape`, которое показывает размеры по всем размерностям массива"
   ]
  },
  {
   "cell_type": "code",
   "execution_count": 32,
   "id": "7d9d34cc",
   "metadata": {
    "colab": {
     "base_uri": "https://localhost:8080/"
    },
    "executionInfo": {
     "elapsed": 394,
     "status": "ok",
     "timestamp": 1634388067638,
     "user": {
      "displayName": "Дарина Рустамова",
      "photoUrl": "https://lh3.googleusercontent.com/a-/AOh14Ggxy6f2VQ83CvyVwVUxBXEd2HP5a-Wqw0XlbLd46Q=s64",
      "userId": "06955280487934804797"
     },
     "user_tz": -180
    },
    "id": "7d9d34cc",
    "outputId": "3ee5f881-461a-4b72-991d-658067043054"
   },
   "outputs": [
    {
     "data": {
      "text/plain": [
       "(32, 3, 512, 512)"
      ]
     },
     "execution_count": 32,
     "metadata": {},
     "output_type": "execute_result"
    }
   ],
   "source": [
    "images = np.zeros((32, 3, 512, 512))\n",
    "images.shape"
   ]
  },
  {
   "cell_type": "markdown",
   "id": "8R2FjYw76YwH",
   "metadata": {
    "id": "8R2FjYw76YwH"
   },
   "source": [
    "Мы можем получить обычный питоновский список из NumPy-массива, вызвав у последнего метод `tolist`"
   ]
  },
  {
   "cell_type": "code",
   "execution_count": 33,
   "id": "3a1fa55d",
   "metadata": {
    "colab": {
     "base_uri": "https://localhost:8080/"
    },
    "executionInfo": {
     "elapsed": 334,
     "status": "ok",
     "timestamp": 1634388071296,
     "user": {
      "displayName": "Дарина Рустамова",
      "photoUrl": "https://lh3.googleusercontent.com/a-/AOh14Ggxy6f2VQ83CvyVwVUxBXEd2HP5a-Wqw0XlbLd46Q=s64",
      "userId": "06955280487934804797"
     },
     "user_tz": -180
    },
    "id": "3a1fa55d",
    "outputId": "fa5c0775-b364-40a2-e477-d022140972fc"
   },
   "outputs": [
    {
     "data": {
      "text/plain": [
       "[[0, 0, 0], [0, 0, 0], [0, 0, 0]]"
      ]
     },
     "execution_count": 33,
     "metadata": {},
     "output_type": "execute_result"
    }
   ],
   "source": [
    "np.zeros((3, 3)).astype(int).tolist()"
   ]
  },
  {
   "cell_type": "markdown",
   "id": "e8fTedBO-_1t",
   "metadata": {
    "id": "e8fTedBO-_1t"
   },
   "source": [
    "Для многомерных массивов стандартная функция `list` работает не совсем так, как ожидается"
   ]
  },
  {
   "cell_type": "code",
   "execution_count": 34,
   "id": "SS7TbOvb-3Sb",
   "metadata": {
    "colab": {
     "base_uri": "https://localhost:8080/"
    },
    "executionInfo": {
     "elapsed": 275,
     "status": "ok",
     "timestamp": 1634388076660,
     "user": {
      "displayName": "Дарина Рустамова",
      "photoUrl": "https://lh3.googleusercontent.com/a-/AOh14Ggxy6f2VQ83CvyVwVUxBXEd2HP5a-Wqw0XlbLd46Q=s64",
      "userId": "06955280487934804797"
     },
     "user_tz": -180
    },
    "id": "SS7TbOvb-3Sb",
    "outputId": "876e1b34-3729-4b21-b85c-5428534deba5"
   },
   "outputs": [
    {
     "name": "stdout",
     "output_type": "stream",
     "text": [
      "[0, 0, 0, 0, 0]\n",
      "[array([0, 0, 0]), array([0, 0, 0]), array([0, 0, 0])]\n"
     ]
    }
   ],
   "source": [
    "print(list(np.zeros(5).astype(int)))\n",
    "print(list(np.zeros((3, 3)).astype(int)))"
   ]
  },
  {
   "cell_type": "markdown",
   "id": "hLBVkYIR-nWQ",
   "metadata": {
    "id": "hLBVkYIR-nWQ"
   },
   "source": [
    "### Векторизованные операции"
   ]
  },
  {
   "cell_type": "markdown",
   "id": "Pn1WLLSh_WLr",
   "metadata": {
    "id": "Pn1WLLSh_WLr"
   },
   "source": [
    "Инициализируем два numpy-массива"
   ]
  },
  {
   "cell_type": "code",
   "execution_count": 35,
   "id": "Qyu_HEkQ_STw",
   "metadata": {
    "colab": {
     "base_uri": "https://localhost:8080/"
    },
    "executionInfo": {
     "elapsed": 298,
     "status": "ok",
     "timestamp": 1634388194678,
     "user": {
      "displayName": "Дарина Рустамова",
      "photoUrl": "https://lh3.googleusercontent.com/a-/AOh14Ggxy6f2VQ83CvyVwVUxBXEd2HP5a-Wqw0XlbLd46Q=s64",
      "userId": "06955280487934804797"
     },
     "user_tz": -180
    },
    "id": "Qyu_HEkQ_STw",
    "outputId": "8df36ab6-6c36-4296-c158-fe3abad86d56"
   },
   "outputs": [
    {
     "name": "stdout",
     "output_type": "stream",
     "text": [
      "[1 2 3 4 5]\n",
      "[5 4 3 2 1]\n"
     ]
    }
   ],
   "source": [
    "a = np.arange(1, 6)\n",
    "b = a[::-1]\n",
    "\n",
    "# Обратное индексирование: пройдём весь массив a[:] с индексацией -1\n",
    "# a[-1] == a[len(a) - 1];\n",
    "# a[-2] == a[len(a) - 2];\n",
    "# ...\n",
    "# a[-len(a)] = a[len(a) - len(a)];\n",
    "\n",
    "print(a)\n",
    "print(b)"
   ]
  },
  {
   "cell_type": "markdown",
   "id": "tlgMhWza_Yr4",
   "metadata": {
    "id": "tlgMhWza_Yr4"
   },
   "source": [
    "Теперь все арифметические операции доступны в *векторизованном* варианте - не нужно вызывать, например, умножение для каждого элемента попарно, чтобы получить массив произведений\n",
    "\n",
    "Также важно, что такие операции выполняются быстрее обычного итерирования по массиву"
   ]
  },
  {
   "cell_type": "code",
   "execution_count": 36,
   "id": "e8bb0144",
   "metadata": {
    "colab": {
     "base_uri": "https://localhost:8080/"
    },
    "executionInfo": {
     "elapsed": 685,
     "status": "ok",
     "timestamp": 1634388205659,
     "user": {
      "displayName": "Дарина Рустамова",
      "photoUrl": "https://lh3.googleusercontent.com/a-/AOh14Ggxy6f2VQ83CvyVwVUxBXEd2HP5a-Wqw0XlbLd46Q=s64",
      "userId": "06955280487934804797"
     },
     "user_tz": -180
    },
    "id": "e8bb0144",
    "outputId": "e7431c9a-5e9d-4ce3-ec53-f4ae53494116"
   },
   "outputs": [
    {
     "name": "stdout",
     "output_type": "stream",
     "text": [
      "[6 6 6 6 6]\n",
      "[5 8 9 8 5]\n",
      "[0.2 0.5 1.  2.  5. ]\n",
      "[-9 -8 -7 -6 -5]\n",
      "[0.5 1.  1.5 2.  2.5]\n",
      "[ 8.1300813 16.2601626 24.3902439 32.5203252 40.6504065]\n",
      "\n"
     ]
    }
   ],
   "source": [
    "print(a + b)\n",
    "print(a * b)\n",
    "print(a / b)\n",
    "print(a - 10)\n",
    "print(a * 0.5)\n",
    "print(a / 0.123)\n",
    "print()"
   ]
  },
  {
   "cell_type": "markdown",
   "id": "0vQ_pT84GXDQ",
   "metadata": {
    "id": "0vQ_pT84GXDQ"
   },
   "source": [
    "**Важно:** векторизованные операции требуют соответствия размерностей векторов в случае, если векторы одномерные. Например, код `a + b` не сработает для *плоских* векторов (у свойства shape есть доступен только индекс 0), если их длины не равны."
   ]
  },
  {
   "cell_type": "code",
   "execution_count": 37,
   "id": "vzY10xBgHXZP",
   "metadata": {
    "colab": {
     "base_uri": "https://localhost:8080/",
     "height": 168
    },
    "executionInfo": {
     "elapsed": 770,
     "status": "error",
     "timestamp": 1634388535985,
     "user": {
      "displayName": "Дарина Рустамова",
      "photoUrl": "https://lh3.googleusercontent.com/a-/AOh14Ggxy6f2VQ83CvyVwVUxBXEd2HP5a-Wqw0XlbLd46Q=s64",
      "userId": "06955280487934804797"
     },
     "user_tz": -180
    },
    "id": "vzY10xBgHXZP",
    "outputId": "75105e74-03cb-4c2e-bd19-1add51ef21f4"
   },
   "outputs": [
    {
     "ename": "ValueError",
     "evalue": "operands could not be broadcast together with shapes (3,) (5,) ",
     "output_type": "error",
     "traceback": [
      "\u001b[1;31m---------------------------------------------------------------------------\u001b[0m",
      "\u001b[1;31mValueError\u001b[0m                                Traceback (most recent call last)",
      "\u001b[1;32m~\\AppData\\Local\\Temp/ipykernel_17896/2206321459.py\u001b[0m in \u001b[0;36m<module>\u001b[1;34m\u001b[0m\n\u001b[1;32m----> 1\u001b[1;33m \u001b[0mnp\u001b[0m\u001b[1;33m.\u001b[0m\u001b[0mones\u001b[0m\u001b[1;33m(\u001b[0m\u001b[1;36m3\u001b[0m\u001b[1;33m)\u001b[0m \u001b[1;33m*\u001b[0m \u001b[0mnp\u001b[0m\u001b[1;33m.\u001b[0m\u001b[0mones\u001b[0m\u001b[1;33m(\u001b[0m\u001b[1;36m5\u001b[0m\u001b[1;33m)\u001b[0m\u001b[1;33m\u001b[0m\u001b[1;33m\u001b[0m\u001b[0m\n\u001b[0m",
      "\u001b[1;31mValueError\u001b[0m: operands could not be broadcast together with shapes (3,) (5,) "
     ]
    }
   ],
   "source": [
    "np.ones(3) * np.ones(5)"
   ]
  },
  {
   "cell_type": "markdown",
   "id": "sEH6NYLBHbOw",
   "metadata": {
    "id": "sEH6NYLBHbOw"
   },
   "source": [
    "Однако всё меняется, когда мы говорим о двумерных векторах. В случае двумерных векторов можно говорить о *проецировании* операции на другую размерность. Проще говоря, мы для **каждого** элемента из вектора `a` выполняем сложение со всеми элементами вектора `b`"
   ]
  },
  {
   "cell_type": "code",
   "execution_count": 45,
   "id": "BWt2PvUZHabI",
   "metadata": {
    "colab": {
     "base_uri": "https://localhost:8080/"
    },
    "executionInfo": {
     "elapsed": 354,
     "status": "ok",
     "timestamp": 1634388538402,
     "user": {
      "displayName": "Дарина Рустамова",
      "photoUrl": "https://lh3.googleusercontent.com/a-/AOh14Ggxy6f2VQ83CvyVwVUxBXEd2HP5a-Wqw0XlbLd46Q=s64",
      "userId": "06955280487934804797"
     },
     "user_tz": -180
    },
    "id": "BWt2PvUZHabI",
    "outputId": "1487d352-94b7-406c-c73c-c442b14ecda5"
   },
   "outputs": [
    {
     "data": {
      "text/plain": [
       "array([[2., 2., 2., 2., 2.],\n",
       "       [2., 2., 2., 2., 2.],\n",
       "       [2., 2., 2., 2., 2.]])"
      ]
     },
     "execution_count": 45,
     "metadata": {},
     "output_type": "execute_result"
    }
   ],
   "source": [
    "np.ones((3, 1)) + np.ones((1, 5))"
   ]
  },
  {
   "cell_type": "markdown",
   "id": "_XCSzSsvAD3a",
   "metadata": {
    "id": "_XCSzSsvAD3a"
   },
   "source": [
    "Давайте перепишем указанную ниже функцию на numpy"
   ]
  },
  {
   "cell_type": "code",
   "execution_count": 46,
   "id": "KnJkX6ZxACXk",
   "metadata": {
    "colab": {
     "base_uri": "https://localhost:8080/"
    },
    "executionInfo": {
     "elapsed": 373,
     "status": "ok",
     "timestamp": 1634388548874,
     "user": {
      "displayName": "Дарина Рустамова",
      "photoUrl": "https://lh3.googleusercontent.com/a-/AOh14Ggxy6f2VQ83CvyVwVUxBXEd2HP5a-Wqw0XlbLd46Q=s64",
      "userId": "06955280487934804797"
     },
     "user_tz": -180
    },
    "id": "KnJkX6ZxACXk",
    "outputId": "eacd2263-40bb-42c0-f458-31471d3b3995"
   },
   "outputs": [
    {
     "data": {
      "text/plain": [
       "array([[0, 1, 1, 1],\n",
       "       [1, 0, 1, 1],\n",
       "       [1, 1, 0, 1],\n",
       "       [1, 1, 1, 0]])"
      ]
     },
     "execution_count": 46,
     "metadata": {},
     "output_type": "execute_result"
    }
   ],
   "source": [
    "def inverse_ones(n):\n",
    "    return [[1 if i != j else 0 for i in range(n)] for j in range(n)]\n",
    "\n",
    "\n",
    "np.array(inverse_ones(4))"
   ]
  },
  {
   "cell_type": "code",
   "execution_count": 47,
   "id": "fNrDjV4-AKs1",
   "metadata": {
    "colab": {
     "base_uri": "https://localhost:8080/"
    },
    "executionInfo": {
     "elapsed": 300,
     "status": "ok",
     "timestamp": 1634388735551,
     "user": {
      "displayName": "Дарина Рустамова",
      "photoUrl": "https://lh3.googleusercontent.com/a-/AOh14Ggxy6f2VQ83CvyVwVUxBXEd2HP5a-Wqw0XlbLd46Q=s64",
      "userId": "06955280487934804797"
     },
     "user_tz": -180
    },
    "id": "fNrDjV4-AKs1",
    "outputId": "98d92229-c16e-4e34-c529-2b7d5ac12317"
   },
   "outputs": [
    {
     "data": {
      "text/plain": [
       "array([[0., 1., 1., 1., 1.],\n",
       "       [1., 0., 1., 1., 1.],\n",
       "       [1., 1., 0., 1., 1.],\n",
       "       [1., 1., 1., 0., 1.],\n",
       "       [1., 1., 1., 1., 0.]])"
      ]
     },
     "execution_count": 47,
     "metadata": {},
     "output_type": "execute_result"
    }
   ],
   "source": [
    "1 - np.eye(5)"
   ]
  },
  {
   "cell_type": "markdown",
   "id": "6KtImcCz_HC-",
   "metadata": {
    "id": "6KtImcCz_HC-"
   },
   "source": [
    "Аггрегация - сумма, минимум/максимум, среднее, медиана"
   ]
  },
  {
   "cell_type": "code",
   "execution_count": 48,
   "id": "Os2TKKy6-r9T",
   "metadata": {
    "colab": {
     "base_uri": "https://localhost:8080/"
    },
    "executionInfo": {
     "elapsed": 539,
     "status": "ok",
     "timestamp": 1634388780590,
     "user": {
      "displayName": "Дарина Рустамова",
      "photoUrl": "https://lh3.googleusercontent.com/a-/AOh14Ggxy6f2VQ83CvyVwVUxBXEd2HP5a-Wqw0XlbLd46Q=s64",
      "userId": "06955280487934804797"
     },
     "user_tz": -180
    },
    "id": "Os2TKKy6-r9T",
    "outputId": "10a6eb4e-63af-4b51-a2ba-e9f9be891684"
   },
   "outputs": [
    {
     "name": "stdout",
     "output_type": "stream",
     "text": [
      "93 93\n",
      "4.65 4.65\n",
      "0 0\n",
      "9 9\n",
      "\n",
      "4.5\n"
     ]
    }
   ],
   "source": [
    "print(np.sum(a), a.sum())\n",
    "print(np.mean(a), a.mean())\n",
    "print(np.min(a), a.min())\n",
    "print(np.max(a), a.max())\n",
    "print()\n",
    "\n",
    "# У np-массива нет функции медианы, но зато такая функция есть в модуле numpy\n",
    "print(np.median(a))"
   ]
  },
  {
   "cell_type": "markdown",
   "id": "MLmPJAkU6oan",
   "metadata": {
    "id": "MLmPJAkU6oan"
   },
   "source": [
    "Давайте наконец посмотрим, насколько же быстро работают векторизованные операции"
   ]
  },
  {
   "cell_type": "code",
   "execution_count": 49,
   "id": "4j_bjYtF6tzc",
   "metadata": {
    "executionInfo": {
     "elapsed": 275,
     "status": "ok",
     "timestamp": 1634388784425,
     "user": {
      "displayName": "Дарина Рустамова",
      "photoUrl": "https://lh3.googleusercontent.com/a-/AOh14Ggxy6f2VQ83CvyVwVUxBXEd2HP5a-Wqw0XlbLd46Q=s64",
      "userId": "06955280487934804797"
     },
     "user_tz": -180
    },
    "id": "4j_bjYtF6tzc"
   },
   "outputs": [],
   "source": [
    "a = np.arange(10000)"
   ]
  },
  {
   "cell_type": "code",
   "execution_count": 50,
   "id": "bf7EvaAK848E",
   "metadata": {
    "executionInfo": {
     "elapsed": 278,
     "status": "ok",
     "timestamp": 1634388796157,
     "user": {
      "displayName": "Дарина Рустамова",
      "photoUrl": "https://lh3.googleusercontent.com/a-/AOh14Ggxy6f2VQ83CvyVwVUxBXEd2HP5a-Wqw0XlbLd46Q=s64",
      "userId": "06955280487934804797"
     },
     "user_tz": -180
    },
    "id": "bf7EvaAK848E"
   },
   "outputs": [],
   "source": [
    "def rand_mul(a):\n",
    "    res = [0] * len(a)  # сэкономим время, заранее выделив память\n",
    "    rnd = np.random.random(len(a))\n",
    "    for i in range(len(a)):\n",
    "        res[i] = a[i] * rnd[i]\n",
    "    return res"
   ]
  },
  {
   "cell_type": "code",
   "execution_count": 51,
   "id": "j0qM9VO862_y",
   "metadata": {
    "colab": {
     "base_uri": "https://localhost:8080/"
    },
    "executionInfo": {
     "elapsed": 1998,
     "status": "ok",
     "timestamp": 1634388857960,
     "user": {
      "displayName": "Дарина Рустамова",
      "photoUrl": "https://lh3.googleusercontent.com/a-/AOh14Ggxy6f2VQ83CvyVwVUxBXEd2HP5a-Wqw0XlbLd46Q=s64",
      "userId": "06955280487934804797"
     },
     "user_tz": -180
    },
    "id": "j0qM9VO862_y",
    "outputId": "f5c0316b-db38-4e43-faf6-4a0eb367be2e"
   },
   "outputs": [
    {
     "name": "stdout",
     "output_type": "stream",
     "text": [
      "48.6 ms ± 4.92 ms per loop (mean ± std. dev. of 7 runs, 10 loops each)\n"
     ]
    }
   ],
   "source": [
    "%timeit rand_mul(a)"
   ]
  },
  {
   "cell_type": "code",
   "execution_count": 52,
   "id": "6v7NPB5t66li",
   "metadata": {
    "colab": {
     "base_uri": "https://localhost:8080/"
    },
    "executionInfo": {
     "elapsed": 7288,
     "status": "ok",
     "timestamp": 1634388915551,
     "user": {
      "displayName": "Дарина Рустамова",
      "photoUrl": "https://lh3.googleusercontent.com/a-/AOh14Ggxy6f2VQ83CvyVwVUxBXEd2HP5a-Wqw0XlbLd46Q=s64",
      "userId": "06955280487934804797"
     },
     "user_tz": -180
    },
    "id": "6v7NPB5t66li",
    "outputId": "6f9fc381-d13b-483f-8049-892d51445e78"
   },
   "outputs": [
    {
     "name": "stdout",
     "output_type": "stream",
     "text": [
      "141 µs ± 48.5 µs per loop (mean ± std. dev. of 7 runs, 1000 loops each)\n"
     ]
    }
   ],
   "source": [
    "%timeit a * np.random.random(10000)"
   ]
  },
  {
   "cell_type": "markdown",
   "id": "RLpy-PuV9V-h",
   "metadata": {
    "id": "RLpy-PuV9V-h"
   },
   "source": [
    "В **250** раз меньше времени на 1 операцию!"
   ]
  },
  {
   "cell_type": "markdown",
   "id": "-d4N5EwnA7RO",
   "metadata": {
    "id": "-d4N5EwnA7RO"
   },
   "source": [
    "NumPy предоставляет всевозможные функции типа $\\exp{x}, \\sin{x}, \\cos{x}, \\log{x}$ и позволяет их комбинировать с векторизованными операциями умножения, сложения, возведения в степень и т.д."
   ]
  },
  {
   "cell_type": "code",
   "execution_count": 53,
   "id": "02da3194",
   "metadata": {
    "colab": {
     "base_uri": "https://localhost:8080/"
    },
    "executionInfo": {
     "elapsed": 268,
     "status": "ok",
     "timestamp": 1634389106943,
     "user": {
      "displayName": "Дарина Рустамова",
      "photoUrl": "https://lh3.googleusercontent.com/a-/AOh14Ggxy6f2VQ83CvyVwVUxBXEd2HP5a-Wqw0XlbLd46Q=s64",
      "userId": "06955280487934804797"
     },
     "user_tz": -180
    },
    "id": "02da3194",
    "outputId": "c58c84f8-2c6e-4a17-fbe5-c08d592fcd21",
    "scrolled": true
   },
   "outputs": [
    {
     "data": {
      "text/plain": [
       "[0.1, 0.11, 0.12000000000000001, 0.13, 0.14]"
      ]
     },
     "execution_count": 53,
     "metadata": {},
     "output_type": "execute_result"
    }
   ],
   "source": [
    "a = np.linspace(0.1, 10, 991) # зададим линейное пространство на выбранном интервале\n",
    "# многомерные линейные пространства инициализируются функцией mgrid\n",
    "\n",
    "list(a[:5])"
   ]
  },
  {
   "cell_type": "code",
   "execution_count": 54,
   "id": "IMmYRZ0iE-iv",
   "metadata": {
    "executionInfo": {
     "elapsed": 4,
     "status": "ok",
     "timestamp": 1634389108633,
     "user": {
      "displayName": "Дарина Рустамова",
      "photoUrl": "https://lh3.googleusercontent.com/a-/AOh14Ggxy6f2VQ83CvyVwVUxBXEd2HP5a-Wqw0XlbLd46Q=s64",
      "userId": "06955280487934804797"
     },
     "user_tz": -180
    },
    "id": "IMmYRZ0iE-iv"
   },
   "outputs": [],
   "source": [
    "import matplotlib.pyplot as plt"
   ]
  },
  {
   "cell_type": "code",
   "execution_count": 55,
   "id": "S8hWBiZzEkQ-",
   "metadata": {
    "colab": {
     "base_uri": "https://localhost:8080/",
     "height": 761
    },
    "executionInfo": {
     "elapsed": 980,
     "status": "ok",
     "timestamp": 1634389112752,
     "user": {
      "displayName": "Дарина Рустамова",
      "photoUrl": "https://lh3.googleusercontent.com/a-/AOh14Ggxy6f2VQ83CvyVwVUxBXEd2HP5a-Wqw0XlbLd46Q=s64",
      "userId": "06955280487934804797"
     },
     "user_tz": -180
    },
    "id": "S8hWBiZzEkQ-",
    "outputId": "c14a3192-215c-4edc-d271-a690c8829f58"
   },
   "outputs": [
    {
     "data": {
      "image/png": "[encoded data removed]",
      "text/plain": [
       "<Figure size 432x288 with 1 Axes>"
      ]
     },
     "metadata": {
      "needs_background": "light"
     },
     "output_type": "display_data"
    },
    {
     "data": {
      "image/png": "[encoded data removed]",
      "text/plain": [
       "<Figure size 432x288 with 1 Axes>"
      ]
     },
     "metadata": {
      "needs_background": "light"
     },
     "output_type": "display_data"
    },
    {
     "data": {
      "image/png": "[encoded data removed]",
      "text/plain": [
       "<Figure size 432x288 with 1 Axes>"
      ]
     },
     "metadata": {
      "needs_background": "light"
     },
     "output_type": "display_data"
    }
   ],
   "source": [
    "plt.plot(a, np.log(a))\n",
    "plt.show()\n",
    "\n",
    "plt.plot(a, np.exp(a - 5))\n",
    "plt.show()\n",
    "\n",
    "plt.plot(a, np.sqrt(a * 3))\n",
    "plt.show()"
   ]
  },
  {
   "cell_type": "code",
   "execution_count": 56,
   "id": "Eh9W-_T0Ewfb",
   "metadata": {
    "colab": {
     "base_uri": "https://localhost:8080/",
     "height": 513
    },
    "executionInfo": {
     "elapsed": 967,
     "status": "ok",
     "timestamp": 1634389164039,
     "user": {
      "displayName": "Дарина Рустамова",
      "photoUrl": "https://lh3.googleusercontent.com/a-/AOh14Ggxy6f2VQ83CvyVwVUxBXEd2HP5a-Wqw0XlbLd46Q=s64",
      "userId": "06955280487934804797"
     },
     "user_tz": -180
    },
    "id": "Eh9W-_T0Ewfb",
    "outputId": "d8085b63-255e-4a6b-a3d5-1e1356a0ac50"
   },
   "outputs": [
    {
     "data": {
      "image/png": "[encoded data removed]",
      "text/plain": [
       "<Figure size 432x288 with 1 Axes>"
      ]
     },
     "metadata": {
      "needs_background": "light"
     },
     "output_type": "display_data"
    },
    {
     "data": {
      "image/png": "[encoded data removed]",
      "text/plain": [
       "<Figure size 432x288 with 1 Axes>"
      ]
     },
     "metadata": {
      "needs_background": "light"
     },
     "output_type": "display_data"
    }
   ],
   "source": [
    "a = np.linspace(-10, 10, 1000)\n",
    "plt.plot(a, a ** 2)\n",
    "plt.show()\n",
    "\n",
    "plt.plot(a, 4 + a ** 3)\n",
    "plt.show()"
   ]
  },
  {
   "cell_type": "markdown",
   "id": "pXsxunblFZNY",
   "metadata": {
    "id": "pXsxunblFZNY"
   },
   "source": [
    "NumPy позволяет применять какие-либо функции к массивам вдоль заданной оси или вдоль какой-то заданной последовательности осей. Это полезно, например, когда нам нужно посчитать $k$ независимых максимумов в массиве $(N,k)$."
   ]
  },
  {
   "cell_type": "code",
   "execution_count": 57,
   "id": "8a3373db",
   "metadata": {
    "executionInfo": {
     "elapsed": 399,
     "status": "ok",
     "timestamp": 1634389552748,
     "user": {
      "displayName": "Дарина Рустамова",
      "photoUrl": "https://lh3.googleusercontent.com/a-/AOh14Ggxy6f2VQ83CvyVwVUxBXEd2HP5a-Wqw0XlbLd46Q=s64",
      "userId": "06955280487934804797"
     },
     "user_tz": -180
    },
    "id": "8a3373db"
   },
   "outputs": [],
   "source": [
    "a = np.array([\n",
    "    [1, 2, 3, 4],\n",
    "    [1, 2, 3, 4]\n",
    "])"
   ]
  },
  {
   "cell_type": "code",
   "execution_count": 58,
   "id": "b733dcb3",
   "metadata": {
    "executionInfo": {
     "elapsed": 4,
     "status": "ok",
     "timestamp": 1634389553654,
     "user": {
      "displayName": "Дарина Рустамова",
      "photoUrl": "https://lh3.googleusercontent.com/a-/AOh14Ggxy6f2VQ83CvyVwVUxBXEd2HP5a-Wqw0XlbLd46Q=s64",
      "userId": "06955280487934804797"
     },
     "user_tz": -180
    },
    "id": "b733dcb3"
   },
   "outputs": [],
   "source": [
    "def f(x):\n",
    "    return np.exp(x).T / np.sum(np.exp(x))"
   ]
  },
  {
   "cell_type": "code",
   "execution_count": 59,
   "id": "bd530d02",
   "metadata": {
    "colab": {
     "base_uri": "https://localhost:8080/"
    },
    "executionInfo": {
     "elapsed": 11,
     "status": "ok",
     "timestamp": 1634389554049,
     "user": {
      "displayName": "Дарина Рустамова",
      "photoUrl": "https://lh3.googleusercontent.com/a-/AOh14Ggxy6f2VQ83CvyVwVUxBXEd2HP5a-Wqw0XlbLd46Q=s64",
      "userId": "06955280487934804797"
     },
     "user_tz": -180
    },
    "id": "bd530d02",
    "outputId": "901dc6ee-1bc2-48b3-b066-3002c491a280"
   },
   "outputs": [
    {
     "name": "stdout",
     "output_type": "stream",
     "text": [
      "[[1 2 3 4]\n",
      " [1 2 3 4]]\n",
      "[[0.5 0.5 0.5 0.5]\n",
      " [0.5 0.5 0.5 0.5]]\n",
      "[[0.0320586  0.08714432 0.23688282 0.64391426]\n",
      " [0.0320586  0.08714432 0.23688282 0.64391426]]\n"
     ]
    }
   ],
   "source": [
    "print(a)\n",
    "print(np.apply_along_axis(f, axis=0, arr=a))\n",
    "print(np.apply_along_axis(f, axis=1, arr=a))"
   ]
  },
  {
   "cell_type": "markdown",
   "id": "Vopn2B81ICJK",
   "metadata": {
    "id": "Vopn2B81ICJK"
   },
   "source": [
    "Некоторые встроенные функции умеют принимать в качестве параметра ось, вдоль которой они должны отработать. Если это аггрегирующие функции, то по умолчанию они аггрегируют весь массив, но таким способом можно заставить их отобразить максимум, минимум или сумму вдоль заданной оси."
   ]
  },
  {
   "cell_type": "code",
   "execution_count": 60,
   "id": "IZU5NFx-6t_T",
   "metadata": {
    "colab": {
     "base_uri": "https://localhost:8080/"
    },
    "executionInfo": {
     "elapsed": 253,
     "status": "ok",
     "timestamp": 1634389689801,
     "user": {
      "displayName": "Дарина Рустамова",
      "photoUrl": "https://lh3.googleusercontent.com/a-/AOh14Ggxy6f2VQ83CvyVwVUxBXEd2HP5a-Wqw0XlbLd46Q=s64",
      "userId": "06955280487934804797"
     },
     "user_tz": -180
    },
    "id": "IZU5NFx-6t_T",
    "outputId": "6b1c28fb-73f9-4576-ec0c-3067593e29f2"
   },
   "outputs": [
    {
     "data": {
      "text/plain": [
       "array([[1, 2, 3, 4],\n",
       "       [1, 2, 3, 4]])"
      ]
     },
     "execution_count": 60,
     "metadata": {},
     "output_type": "execute_result"
    }
   ],
   "source": [
    "a"
   ]
  },
  {
   "cell_type": "markdown",
   "id": "WfNsh3477aso",
   "metadata": {
    "id": "WfNsh3477aso"
   },
   "source": [
    "Отобразим минимум сначала вдоль индексации $i$, потом вдоль индексации $j$, затем общий минимум во всём массиве"
   ]
  },
  {
   "cell_type": "code",
   "execution_count": 61,
   "id": "Kry8G1cj6vJw",
   "metadata": {
    "colab": {
     "base_uri": "https://localhost:8080/"
    },
    "executionInfo": {
     "elapsed": 8,
     "status": "ok",
     "timestamp": 1634389690758,
     "user": {
      "displayName": "Дарина Рустамова",
      "photoUrl": "https://lh3.googleusercontent.com/a-/AOh14Ggxy6f2VQ83CvyVwVUxBXEd2HP5a-Wqw0XlbLd46Q=s64",
      "userId": "06955280487934804797"
     },
     "user_tz": -180
    },
    "id": "Kry8G1cj6vJw",
    "outputId": "87e113e0-c519-40d1-8bed-aec273e93d2b"
   },
   "outputs": [
    {
     "data": {
      "text/plain": [
       "(array([1, 2, 3, 4]), array([1, 1]), 1)"
      ]
     },
     "execution_count": 61,
     "metadata": {},
     "output_type": "execute_result"
    }
   ],
   "source": [
    "a.min(axis=0), a.min(axis=1), a.min()"
   ]
  },
  {
   "cell_type": "code",
   "execution_count": 62,
   "id": "hsd2VwK962Q-",
   "metadata": {
    "colab": {
     "base_uri": "https://localhost:8080/"
    },
    "executionInfo": {
     "elapsed": 17,
     "status": "ok",
     "timestamp": 1634389693061,
     "user": {
      "displayName": "Дарина Рустамова",
      "photoUrl": "https://lh3.googleusercontent.com/a-/AOh14Ggxy6f2VQ83CvyVwVUxBXEd2HP5a-Wqw0XlbLd46Q=s64",
      "userId": "06955280487934804797"
     },
     "user_tz": -180
    },
    "id": "hsd2VwK962Q-",
    "outputId": "79a969eb-7645-4261-9cbd-4902e3c9d0d9"
   },
   "outputs": [
    {
     "data": {
      "text/plain": [
       "(array([1, 2, 3, 4]), array([4, 4]), 4)"
      ]
     },
     "execution_count": 62,
     "metadata": {},
     "output_type": "execute_result"
    }
   ],
   "source": [
    "a.max(axis=0), a.max(axis=1), a.max()"
   ]
  },
  {
   "cell_type": "code",
   "execution_count": 63,
   "id": "a31BPZBj7B8f",
   "metadata": {
    "colab": {
     "base_uri": "https://localhost:8080/"
    },
    "executionInfo": {
     "elapsed": 8,
     "status": "ok",
     "timestamp": 1634389693358,
     "user": {
      "displayName": "Дарина Рустамова",
      "photoUrl": "https://lh3.googleusercontent.com/a-/AOh14Ggxy6f2VQ83CvyVwVUxBXEd2HP5a-Wqw0XlbLd46Q=s64",
      "userId": "06955280487934804797"
     },
     "user_tz": -180
    },
    "id": "a31BPZBj7B8f",
    "outputId": "8d6230dc-a432-48e6-ac0e-cf0789b2c829"
   },
   "outputs": [
    {
     "data": {
      "text/plain": [
       "(array([2, 4, 6, 8]), array([10, 10]), 20)"
      ]
     },
     "execution_count": 63,
     "metadata": {},
     "output_type": "execute_result"
    }
   ],
   "source": [
    "a.sum(axis=0), a.sum(axis=1), a.sum()"
   ]
  },
  {
   "cell_type": "code",
   "execution_count": 64,
   "id": "lZKulfmK7FB1",
   "metadata": {
    "colab": {
     "base_uri": "https://localhost:8080/"
    },
    "executionInfo": {
     "elapsed": 13,
     "status": "ok",
     "timestamp": 1634389693650,
     "user": {
      "displayName": "Дарина Рустамова",
      "photoUrl": "https://lh3.googleusercontent.com/a-/AOh14Ggxy6f2VQ83CvyVwVUxBXEd2HP5a-Wqw0XlbLd46Q=s64",
      "userId": "06955280487934804797"
     },
     "user_tz": -180
    },
    "id": "lZKulfmK7FB1",
    "outputId": "4f5917ba-5431-4281-c0e4-5c8b1a9e3e34"
   },
   "outputs": [
    {
     "data": {
      "text/plain": [
       "(array([1., 2., 3., 4.]), array([2.5, 2.5]), 2.5)"
      ]
     },
     "execution_count": 64,
     "metadata": {},
     "output_type": "execute_result"
    }
   ],
   "source": [
    "a.mean(axis=0), a.mean(axis=1), a.mean()"
   ]
  },
  {
   "cell_type": "markdown",
   "id": "_jGVw_xuLXH9",
   "metadata": {
    "id": "_jGVw_xuLXH9"
   },
   "source": [
    "### Индексация. Маски. Функции по индексам"
   ]
  },
  {
   "cell_type": "markdown",
   "id": "ty1He4NG7jKO",
   "metadata": {
    "id": "ty1He4NG7jKO"
   },
   "source": [
    "Всё, что было разобрано выше, несомненно, очень интересно. Но самые невероятные вещи NumPy позволяет делать с индексами массивов."
   ]
  },
  {
   "cell_type": "code",
   "execution_count": 65,
   "id": "OylIIKgvLUxj",
   "metadata": {
    "executionInfo": {
     "elapsed": 283,
     "status": "ok",
     "timestamp": 1634389699048,
     "user": {
      "displayName": "Дарина Рустамова",
      "photoUrl": "https://lh3.googleusercontent.com/a-/AOh14Ggxy6f2VQ83CvyVwVUxBXEd2HP5a-Wqw0XlbLd46Q=s64",
      "userId": "06955280487934804797"
     },
     "user_tz": -180
    },
    "id": "OylIIKgvLUxj"
   },
   "outputs": [],
   "source": [
    "a = np.array([[1, 2, 3], [4, 5, 6]])"
   ]
  },
  {
   "cell_type": "markdown",
   "id": "12n3OWuSMUyM",
   "metadata": {
    "id": "12n3OWuSMUyM"
   },
   "source": [
    "Для начала разберём несколько простых примеров на индексацию."
   ]
  },
  {
   "cell_type": "code",
   "execution_count": 66,
   "id": "I7M9_YtXL9Sz",
   "metadata": {
    "colab": {
     "base_uri": "https://localhost:8080/"
    },
    "executionInfo": {
     "elapsed": 387,
     "status": "ok",
     "timestamp": 1634389700961,
     "user": {
      "displayName": "Дарина Рустамова",
      "photoUrl": "https://lh3.googleusercontent.com/a-/AOh14Ggxy6f2VQ83CvyVwVUxBXEd2HP5a-Wqw0XlbLd46Q=s64",
      "userId": "06955280487934804797"
     },
     "user_tz": -180
    },
    "id": "I7M9_YtXL9Sz",
    "outputId": "0200d472-116a-4854-f939-6af960aa1dbd"
   },
   "outputs": [
    {
     "data": {
      "text/plain": [
       "1"
      ]
     },
     "execution_count": 66,
     "metadata": {},
     "output_type": "execute_result"
    }
   ],
   "source": [
    "a[0, 0] # вместо a[0][0]"
   ]
  },
  {
   "cell_type": "code",
   "execution_count": 67,
   "id": "DnYSHjBiMJVw",
   "metadata": {
    "colab": {
     "base_uri": "https://localhost:8080/"
    },
    "executionInfo": {
     "elapsed": 240,
     "status": "ok",
     "timestamp": 1634389706942,
     "user": {
      "displayName": "Дарина Рустамова",
      "photoUrl": "https://lh3.googleusercontent.com/a-/AOh14Ggxy6f2VQ83CvyVwVUxBXEd2HP5a-Wqw0XlbLd46Q=s64",
      "userId": "06955280487934804797"
     },
     "user_tz": -180
    },
    "id": "DnYSHjBiMJVw",
    "outputId": "1d3aefe3-155c-44f7-c887-1af1d43bec91"
   },
   "outputs": [
    {
     "data": {
      "text/plain": [
       "array([[3, 2, 1],\n",
       "       [6, 5, 4]])"
      ]
     },
     "execution_count": 67,
     "metadata": {},
     "output_type": "execute_result"
    }
   ],
   "source": [
    "a[:, ::-1]"
   ]
  },
  {
   "cell_type": "code",
   "execution_count": 68,
   "id": "W5k0ays_MN63",
   "metadata": {
    "colab": {
     "base_uri": "https://localhost:8080/"
    },
    "executionInfo": {
     "elapsed": 31,
     "status": "ok",
     "timestamp": 1634365111918,
     "user": {
      "displayName": "Артур Гиголаев",
      "photoUrl": "https://lh3.googleusercontent.com/a/default-user=s64",
      "userId": "00810829084549527673"
     },
     "user_tz": -180
    },
    "id": "W5k0ays_MN63",
    "outputId": "58eeb23c-9868-4c2a-d874-00ea6720055c"
   },
   "outputs": [
    {
     "data": {
      "text/plain": [
       "array([[1, 3],\n",
       "       [4, 6]])"
      ]
     },
     "execution_count": 68,
     "metadata": {},
     "output_type": "execute_result"
    }
   ],
   "source": [
    "a[:, ::2]"
   ]
  },
  {
   "cell_type": "markdown",
   "id": "27tLaGl0LnRu",
   "metadata": {
    "id": "27tLaGl0LnRu"
   },
   "source": [
    "В NumPy есть вещи, которые сильно упрощают работу с последовательностями - в частности, упрощают работу с проверкой условий. Логические операции, будучи применёнными к np.array, возвращают **маску** - другой массив, содержащий значения типа `bool`, которые показывают истинность или ложность проверяемого выражения для **каждого** элемента."
   ]
  },
  {
   "cell_type": "code",
   "execution_count": 69,
   "id": "jyKFD0JEP0YG",
   "metadata": {
    "colab": {
     "base_uri": "https://localhost:8080/"
    },
    "executionInfo": {
     "elapsed": 1855,
     "status": "ok",
     "timestamp": 1634390596178,
     "user": {
      "displayName": "Дарина Рустамова",
      "photoUrl": "https://lh3.googleusercontent.com/a-/AOh14Ggxy6f2VQ83CvyVwVUxBXEd2HP5a-Wqw0XlbLd46Q=s64",
      "userId": "06955280487934804797"
     },
     "user_tz": -180
    },
    "id": "jyKFD0JEP0YG",
    "outputId": "8d954b92-401b-426b-d07b-672221392416"
   },
   "outputs": [
    {
     "data": {
      "text/plain": [
       "array([[False,  True, False],\n",
       "       [ True, False,  True]])"
      ]
     },
     "execution_count": 69,
     "metadata": {},
     "output_type": "execute_result"
    }
   ],
   "source": [
    "a % 2 == 0 # Что вернёт a % 2?"
   ]
  },
  {
   "cell_type": "code",
   "execution_count": 70,
   "id": "o0g_X5E8QSL9",
   "metadata": {
    "colab": {
     "base_uri": "https://localhost:8080/"
    },
    "executionInfo": {
     "elapsed": 12,
     "status": "ok",
     "timestamp": 1634390597038,
     "user": {
      "displayName": "Дарина Рустамова",
      "photoUrl": "https://lh3.googleusercontent.com/a-/AOh14Ggxy6f2VQ83CvyVwVUxBXEd2HP5a-Wqw0XlbLd46Q=s64",
      "userId": "06955280487934804797"
     },
     "user_tz": -180
    },
    "id": "o0g_X5E8QSL9",
    "outputId": "9edc106e-ec10-4624-f50d-1e0ee1ef9689"
   },
   "outputs": [
    {
     "data": {
      "text/plain": [
       "array([[False, False, False],\n",
       "       [ True,  True,  True]])"
      ]
     },
     "execution_count": 70,
     "metadata": {},
     "output_type": "execute_result"
    }
   ],
   "source": [
    "a > 3"
   ]
  },
  {
   "cell_type": "code",
   "execution_count": 73,
   "id": "FB38xc888eGT",
   "metadata": {
    "colab": {
     "base_uri": "https://localhost:8080/"
    },
    "executionInfo": {
     "elapsed": 368,
     "status": "ok",
     "timestamp": 1634392141444,
     "user": {
      "displayName": "Дарина Рустамова",
      "photoUrl": "https://lh3.googleusercontent.com/a-/AOh14Ggxy6f2VQ83CvyVwVUxBXEd2HP5a-Wqw0XlbLd46Q=s64",
      "userId": "06955280487934804797"
     },
     "user_tz": -180
    },
    "id": "FB38xc888eGT",
    "outputId": "edd80054-2884-4cd7-a105-a4ebfb20042c"
   },
   "outputs": [
    {
     "data": {
      "text/plain": [
       "array([[False,  True,  True],\n",
       "       [ True, False, False]])"
      ]
     },
     "execution_count": 73,
     "metadata": {},
     "output_type": "execute_result"
    }
   ],
   "source": [
    "# Отобразите индексы всех чисел в a, отличающиеся от тройки не более чем на единицу\n",
    "np.abs(a - 3) <= 1"
   ]
  },
  {
   "cell_type": "markdown",
   "id": "FmnjFV-iXOq6",
   "metadata": {
    "id": "FmnjFV-iXOq6"
   },
   "source": []
  },
  {
   "cell_type": "markdown",
   "id": "7291bXCBQdmi",
   "metadata": {
    "id": "7291bXCBQdmi"
   },
   "source": [
    "И главное преимущество NumPy в том, что эти маски могут быть использованы для итерации по исходному массиву:"
   ]
  },
  {
   "cell_type": "code",
   "execution_count": 74,
   "id": "yItWI2JQQUlp",
   "metadata": {
    "colab": {
     "base_uri": "https://localhost:8080/"
    },
    "executionInfo": {
     "elapsed": 277,
     "status": "ok",
     "timestamp": 1634391232381,
     "user": {
      "displayName": "Дарина Рустамова",
      "photoUrl": "https://lh3.googleusercontent.com/a-/AOh14Ggxy6f2VQ83CvyVwVUxBXEd2HP5a-Wqw0XlbLd46Q=s64",
      "userId": "06955280487934804797"
     },
     "user_tz": -180
    },
    "id": "yItWI2JQQUlp",
    "outputId": "722dce9b-1b87-4e11-df5b-183d69e97d37"
   },
   "outputs": [
    {
     "data": {
      "text/plain": [
       "array([2, 4, 6])"
      ]
     },
     "execution_count": 74,
     "metadata": {},
     "output_type": "execute_result"
    }
   ],
   "source": [
    "a[a % 2 == 0]"
   ]
  },
  {
   "cell_type": "code",
   "execution_count": 75,
   "id": "5yzL4pz3RCni",
   "metadata": {
    "colab": {
     "base_uri": "https://localhost:8080/"
    },
    "executionInfo": {
     "elapsed": 229,
     "status": "ok",
     "timestamp": 1634391234698,
     "user": {
      "displayName": "Дарина Рустамова",
      "photoUrl": "https://lh3.googleusercontent.com/a-/AOh14Ggxy6f2VQ83CvyVwVUxBXEd2HP5a-Wqw0XlbLd46Q=s64",
      "userId": "06955280487934804797"
     },
     "user_tz": -180
    },
    "id": "5yzL4pz3RCni",
    "outputId": "de05cc67-77c5-45cd-e213-e806f166dde8"
   },
   "outputs": [
    {
     "data": {
      "text/plain": [
       "array([4, 5, 6])"
      ]
     },
     "execution_count": 75,
     "metadata": {},
     "output_type": "execute_result"
    }
   ],
   "source": [
    "a[a > 3]"
   ]
  },
  {
   "cell_type": "code",
   "execution_count": 76,
   "id": "7_apOTVc9URw",
   "metadata": {
    "colab": {
     "base_uri": "https://localhost:8080/"
    },
    "executionInfo": {
     "elapsed": 287,
     "status": "ok",
     "timestamp": 1634392117057,
     "user": {
      "displayName": "Дарина Рустамова",
      "photoUrl": "https://lh3.googleusercontent.com/a-/AOh14Ggxy6f2VQ83CvyVwVUxBXEd2HP5a-Wqw0XlbLd46Q=s64",
      "userId": "06955280487934804797"
     },
     "user_tz": -180
    },
    "id": "7_apOTVc9URw",
    "outputId": "63c7bc2b-4d15-4cf2-c75b-a002214640b0"
   },
   "outputs": [
    {
     "data": {
      "text/plain": [
       "array([2, 3, 4])"
      ]
     },
     "execution_count": 76,
     "metadata": {},
     "output_type": "execute_result"
    }
   ],
   "source": [
    "# Отобразите все элементы массива a, отличающиеся от тройки не более чем на единицу\n",
    "a[np.abs(a - 3) <= 1]"
   ]
  },
  {
   "cell_type": "markdown",
   "id": "bU6OzNX_RaKd",
   "metadata": {
    "id": "bU6OzNX_RaKd"
   },
   "source": [
    "Условия масок можно комбинировать через `&` и `|`, в этом случае каждое условие ограничивается скобками"
   ]
  },
  {
   "cell_type": "code",
   "execution_count": 77,
   "id": "R_yEsvRG9kEe",
   "metadata": {
    "colab": {
     "base_uri": "https://localhost:8080/"
    },
    "executionInfo": {
     "elapsed": 294,
     "status": "ok",
     "timestamp": 1634391239797,
     "user": {
      "displayName": "Дарина Рустамова",
      "photoUrl": "https://lh3.googleusercontent.com/a-/AOh14Ggxy6f2VQ83CvyVwVUxBXEd2HP5a-Wqw0XlbLd46Q=s64",
      "userId": "06955280487934804797"
     },
     "user_tz": -180
    },
    "id": "R_yEsvRG9kEe",
    "outputId": "c6376434-b7fc-4717-d7af-a2941a7e2aef"
   },
   "outputs": [
    {
     "data": {
      "text/plain": [
       "array([[False,  True,  True],\n",
       "       [ True, False, False]])"
      ]
     },
     "execution_count": 77,
     "metadata": {},
     "output_type": "execute_result"
    }
   ],
   "source": [
    "(a >= 2) & (a <= 4)"
   ]
  },
  {
   "cell_type": "code",
   "execution_count": 78,
   "id": "MM32-DkgRpk1",
   "metadata": {
    "colab": {
     "base_uri": "https://localhost:8080/"
    },
    "executionInfo": {
     "elapsed": 276,
     "status": "ok",
     "timestamp": 1634391254348,
     "user": {
      "displayName": "Дарина Рустамова",
      "photoUrl": "https://lh3.googleusercontent.com/a-/AOh14Ggxy6f2VQ83CvyVwVUxBXEd2HP5a-Wqw0XlbLd46Q=s64",
      "userId": "06955280487934804797"
     },
     "user_tz": -180
    },
    "id": "MM32-DkgRpk1",
    "outputId": "e621a5fd-e62e-4045-d5b2-960e1d91d3a1"
   },
   "outputs": [
    {
     "data": {
      "text/plain": [
       "array([4, 6])"
      ]
     },
     "execution_count": 78,
     "metadata": {},
     "output_type": "execute_result"
    }
   ],
   "source": [
    "a[(a % 2 == 0) & (a > 3)]"
   ]
  },
  {
   "cell_type": "code",
   "execution_count": 79,
   "id": "1bMT0gEzRuNr",
   "metadata": {
    "colab": {
     "base_uri": "https://localhost:8080/"
    },
    "executionInfo": {
     "elapsed": 10,
     "status": "ok",
     "timestamp": 1634391255881,
     "user": {
      "displayName": "Дарина Рустамова",
      "photoUrl": "https://lh3.googleusercontent.com/a-/AOh14Ggxy6f2VQ83CvyVwVUxBXEd2HP5a-Wqw0XlbLd46Q=s64",
      "userId": "06955280487934804797"
     },
     "user_tz": -180
    },
    "id": "1bMT0gEzRuNr",
    "outputId": "d9688630-21a7-4b2f-9cca-6057aea5a53f"
   },
   "outputs": [
    {
     "data": {
      "text/plain": [
       "array([1, 2, 3, 5])"
      ]
     },
     "execution_count": 79,
     "metadata": {},
     "output_type": "execute_result"
    }
   ],
   "source": [
    "a[(a % 2 == 1) | (a <= 3)]"
   ]
  },
  {
   "cell_type": "markdown",
   "id": "-LXwEk10Bhhw",
   "metadata": {
    "id": "-LXwEk10Bhhw"
   },
   "source": [
    "Давайте реализуем функцию, которая выведет все значения аргументов функции $f(x)= \\sin{x}$ на заданном интервале $[a,b]$, при которых $-\\frac{1}{2} < f(x) < \\frac{1}{2}, a \\leq x \\leq b$"
   ]
  },
  {
   "cell_type": "code",
   "execution_count": 80,
   "id": "IfCmB-38B6Xf",
   "metadata": {
    "executionInfo": {
     "elapsed": 311,
     "status": "ok",
     "timestamp": 1634392344097,
     "user": {
      "displayName": "Дарина Рустамова",
      "photoUrl": "https://lh3.googleusercontent.com/a-/AOh14Ggxy6f2VQ83CvyVwVUxBXEd2HP5a-Wqw0XlbLd46Q=s64",
      "userId": "06955280487934804797"
     },
     "user_tz": -180
    },
    "id": "IfCmB-38B6Xf"
   },
   "outputs": [],
   "source": [
    "def args_of_sin_in_range(a, b, num_points=1000):\n",
    "    x = np.linspace(a, b, num_points)\n",
    "    y = lambda x: np.sin(x)\n",
    "    return x[np.abs(y(x)) < 0.5]"
   ]
  },
  {
   "cell_type": "code",
   "execution_count": 81,
   "id": "zjyP6WwR_sHR",
   "metadata": {
    "executionInfo": {
     "elapsed": 464,
     "status": "ok",
     "timestamp": 1634392293363,
     "user": {
      "displayName": "Дарина Рустамова",
      "photoUrl": "https://lh3.googleusercontent.com/a-/AOh14Ggxy6f2VQ83CvyVwVUxBXEd2HP5a-Wqw0XlbLd46Q=s64",
      "userId": "06955280487934804797"
     },
     "user_tz": -180
    },
    "id": "zjyP6WwR_sHR"
   },
   "outputs": [],
   "source": [
    "from math import sin, pi\n",
    "\n",
    "def vanilla_args(a, b, num_points=1000):\n",
    "    step = (b - a) / (num_points - 1)\n",
    "    x = a\n",
    "    res = []\n",
    "    while x <= b:\n",
    "        if -0.5 < sin(x) < 0.5:\n",
    "            res.append(x)\n",
    "        x += step\n",
    "    return res"
   ]
  },
  {
   "cell_type": "code",
   "execution_count": 82,
   "id": "8hwXHhVC9-G9",
   "metadata": {
    "executionInfo": {
     "elapsed": 1126,
     "status": "ok",
     "timestamp": 1634392346462,
     "user": {
      "displayName": "Дарина Рустамова",
      "photoUrl": "https://lh3.googleusercontent.com/a-/AOh14Ggxy6f2VQ83CvyVwVUxBXEd2HP5a-Wqw0XlbLd46Q=s64",
      "userId": "06955280487934804797"
     },
     "user_tz": -180
    },
    "id": "8hwXHhVC9-G9"
   },
   "outputs": [],
   "source": [
    "np.testing.assert_almost_equal(args_of_sin_in_range(-np.pi, np.pi), vanilla_args(-pi, pi))\n",
    "np.testing.assert_almost_equal(args_of_sin_in_range(-100, -50), vanilla_args(-100, -50))\n",
    "np.testing.assert_almost_equal(args_of_sin_in_range(3, 4), vanilla_args(3, 4))"
   ]
  },
  {
   "cell_type": "markdown",
   "id": "PWP6117-R5s8",
   "metadata": {
    "id": "PWP6117-R5s8"
   },
   "source": [
    "Также NumPy предоставляет специальные функции, которые возвращают индексы по значениям самого массива - например, по наибольшему или наименьшему."
   ]
  },
  {
   "cell_type": "code",
   "execution_count": 83,
   "id": "M0IY-xx3SWM6",
   "metadata": {
    "colab": {
     "base_uri": "https://localhost:8080/"
    },
    "executionInfo": {
     "elapsed": 1052,
     "status": "ok",
     "timestamp": 1634393635795,
     "user": {
      "displayName": "Дарина Рустамова",
      "photoUrl": "https://lh3.googleusercontent.com/a-/AOh14Ggxy6f2VQ83CvyVwVUxBXEd2HP5a-Wqw0XlbLd46Q=s64",
      "userId": "06955280487934804797"
     },
     "user_tz": -180
    },
    "id": "M0IY-xx3SWM6",
    "outputId": "c3301798-1d7a-40bf-9eb3-076087539f57"
   },
   "outputs": [
    {
     "data": {
      "text/plain": [
       "(0, 5)"
      ]
     },
     "execution_count": 83,
     "metadata": {},
     "output_type": "execute_result"
    }
   ],
   "source": [
    "a.argmin(), a.argmax()"
   ]
  },
  {
   "cell_type": "markdown",
   "id": "NbTZumzcUMRL",
   "metadata": {
    "id": "NbTZumzcUMRL"
   },
   "source": [
    "Как видно из примера выше, функции `argmin` и `argmax` работают с *плоскими* массивами - то есть, приводят массив $(2, 3)$ к плоскому виду, а затем вычисляют индекс, которому соответствует минимальное/максимальное значение. Функция `argsort` работает аналогично."
   ]
  },
  {
   "cell_type": "code",
   "execution_count": 84,
   "id": "unLmWUMdVKv7",
   "metadata": {
    "colab": {
     "base_uri": "https://localhost:8080/"
    },
    "executionInfo": {
     "elapsed": 6,
     "status": "ok",
     "timestamp": 1634393636059,
     "user": {
      "displayName": "Дарина Рустамова",
      "photoUrl": "https://lh3.googleusercontent.com/a-/AOh14Ggxy6f2VQ83CvyVwVUxBXEd2HP5a-Wqw0XlbLd46Q=s64",
      "userId": "06955280487934804797"
     },
     "user_tz": -180
    },
    "id": "unLmWUMdVKv7",
    "outputId": "0ecbc7c6-6cee-4890-9f51-5882cd59e457"
   },
   "outputs": [
    {
     "data": {
      "text/plain": [
       "array([0, 1, 2, 3, 4, 5], dtype=int64)"
      ]
     },
     "execution_count": 84,
     "metadata": {},
     "output_type": "execute_result"
    }
   ],
   "source": [
    "a.argsort(axis=None)"
   ]
  },
  {
   "cell_type": "code",
   "execution_count": 85,
   "id": "LKx1WcB3SKTV",
   "metadata": {
    "colab": {
     "base_uri": "https://localhost:8080/"
    },
    "executionInfo": {
     "elapsed": 272,
     "status": "ok",
     "timestamp": 1634393639294,
     "user": {
      "displayName": "Дарина Рустамова",
      "photoUrl": "https://lh3.googleusercontent.com/a-/AOh14Ggxy6f2VQ83CvyVwVUxBXEd2HP5a-Wqw0XlbLd46Q=s64",
      "userId": "06955280487934804797"
     },
     "user_tz": -180
    },
    "id": "LKx1WcB3SKTV",
    "outputId": "eb9b869a-cb0e-4830-cd79-535ffabb8a14"
   },
   "outputs": [
    {
     "name": "stdout",
     "output_type": "stream",
     "text": [
      "[4 2 6 3 1 5]\n",
      "\n",
      "[4 1 3 0 5 2]\n",
      "[1 2 3 4 5 6]\n"
     ]
    }
   ],
   "source": [
    "b = a.reshape(-1)\n",
    "\n",
    "np.random.shuffle(b)\n",
    "print(b)\n",
    "print()\n",
    "\n",
    "sorted_mask = b.argsort()\n",
    "print(sorted_mask)\n",
    "print(b[sorted_mask])"
   ]
  },
  {
   "cell_type": "markdown",
   "id": "fu1OWP7tL1Ht",
   "metadata": {
    "id": "fu1OWP7tL1Ht"
   },
   "source": [
    "### Изменение формы массивов. Соединение массивов. Транспонирование."
   ]
  },
  {
   "cell_type": "markdown",
   "id": "XNbVi7bkGLqO",
   "metadata": {
    "id": "XNbVi7bkGLqO"
   },
   "source": [
    "Здесь мы попытаемся ответить на главный вопрос - как менять форму векторов и как их соединять."
   ]
  },
  {
   "cell_type": "markdown",
   "id": "lRD3E18sPuvg",
   "metadata": {
    "id": "lRD3E18sPuvg"
   },
   "source": [
    "За изменение формы векторов отвечает функция reshape. Обратите внимание, что результатом действия функции reshape может быть только вектор, произведение всех измерений которого совпадает с исходным. Понятно, что из вектора `[3, 3, 3]` не получишь картинку `[64, 64]`. Однако, можно получить вектор `[27]`"
   ]
  },
  {
   "cell_type": "code",
   "execution_count": 86,
   "id": "XbBWMRNTQHxq",
   "metadata": {
    "executionInfo": {
     "elapsed": 624,
     "status": "ok",
     "timestamp": 1634393644689,
     "user": {
      "displayName": "Дарина Рустамова",
      "photoUrl": "https://lh3.googleusercontent.com/a-/AOh14Ggxy6f2VQ83CvyVwVUxBXEd2HP5a-Wqw0XlbLd46Q=s64",
      "userId": "06955280487934804797"
     },
     "user_tz": -180
    },
    "id": "XbBWMRNTQHxq"
   },
   "outputs": [],
   "source": [
    "a = np.zeros((5, 5))"
   ]
  },
  {
   "cell_type": "code",
   "execution_count": 87,
   "id": "4V0rMd0gQN8w",
   "metadata": {
    "colab": {
     "base_uri": "https://localhost:8080/"
    },
    "executionInfo": {
     "elapsed": 11,
     "status": "ok",
     "timestamp": 1634393645585,
     "user": {
      "displayName": "Дарина Рустамова",
      "photoUrl": "https://lh3.googleusercontent.com/a-/AOh14Ggxy6f2VQ83CvyVwVUxBXEd2HP5a-Wqw0XlbLd46Q=s64",
      "userId": "06955280487934804797"
     },
     "user_tz": -180
    },
    "id": "4V0rMd0gQN8w",
    "outputId": "b304cfbf-b9c4-4ad6-dce1-513e9737dc69"
   },
   "outputs": [
    {
     "data": {
      "text/plain": [
       "array([0., 0., 0., 0., 0., 0., 0., 0., 0., 0., 0., 0., 0., 0., 0., 0., 0.,\n",
       "       0., 0., 0., 0., 0., 0., 0., 0.])"
      ]
     },
     "execution_count": 87,
     "metadata": {},
     "output_type": "execute_result"
    }
   ],
   "source": [
    "a.reshape(25)"
   ]
  },
  {
   "cell_type": "code",
   "execution_count": 88,
   "id": "M5fiUjFvQQX4",
   "metadata": {
    "colab": {
     "base_uri": "https://localhost:8080/"
    },
    "executionInfo": {
     "elapsed": 11,
     "status": "ok",
     "timestamp": 1634393646184,
     "user": {
      "displayName": "Дарина Рустамова",
      "photoUrl": "https://lh3.googleusercontent.com/a-/AOh14Ggxy6f2VQ83CvyVwVUxBXEd2HP5a-Wqw0XlbLd46Q=s64",
      "userId": "06955280487934804797"
     },
     "user_tz": -180
    },
    "id": "M5fiUjFvQQX4",
    "outputId": "3122748b-e981-4fad-e160-deb8ddbd194f"
   },
   "outputs": [
    {
     "data": {
      "text/plain": [
       "array([[[[0., 0., 0., 0., 0.],\n",
       "         [0., 0., 0., 0., 0.],\n",
       "         [0., 0., 0., 0., 0.],\n",
       "         [0., 0., 0., 0., 0.],\n",
       "         [0., 0., 0., 0., 0.]]]])"
      ]
     },
     "execution_count": 88,
     "metadata": {},
     "output_type": "execute_result"
    }
   ],
   "source": [
    "a.reshape((1, 1, 5, 5))"
   ]
  },
  {
   "cell_type": "markdown",
   "id": "T_nDTJ1MQau2",
   "metadata": {
    "id": "T_nDTJ1MQau2"
   },
   "source": [
    "Также есть интересная особенность функции `reshape` - она позволяет принимать на вход `-1` в качестве одного из измерений - зная все остальные измерения, библиотека легко посчитает значение для этой \"переменной\" размерности, основываясь на известных компонентах и их числе."
   ]
  },
  {
   "cell_type": "code",
   "execution_count": 89,
   "id": "RNReulBgQy_7",
   "metadata": {
    "colab": {
     "base_uri": "https://localhost:8080/"
    },
    "executionInfo": {
     "elapsed": 8,
     "status": "ok",
     "timestamp": 1634393647828,
     "user": {
      "displayName": "Дарина Рустамова",
      "photoUrl": "https://lh3.googleusercontent.com/a-/AOh14Ggxy6f2VQ83CvyVwVUxBXEd2HP5a-Wqw0XlbLd46Q=s64",
      "userId": "06955280487934804797"
     },
     "user_tz": -180
    },
    "id": "RNReulBgQy_7",
    "outputId": "75e95e13-0b3f-4999-96eb-3ae7b68e9b50"
   },
   "outputs": [
    {
     "data": {
      "text/plain": [
       "array([0., 0., 0., 0., 0., 0., 0., 0., 0., 0., 0., 0., 0., 0., 0., 0., 0.,\n",
       "       0., 0., 0., 0., 0., 0., 0., 0.])"
      ]
     },
     "execution_count": 89,
     "metadata": {},
     "output_type": "execute_result"
    }
   ],
   "source": [
    "a.reshape(-1)"
   ]
  },
  {
   "cell_type": "code",
   "execution_count": 90,
   "id": "XwpHYSbOQ0_i",
   "metadata": {
    "colab": {
     "base_uri": "https://localhost:8080/"
    },
    "executionInfo": {
     "elapsed": 9,
     "status": "ok",
     "timestamp": 1634393649920,
     "user": {
      "displayName": "Дарина Рустамова",
      "photoUrl": "https://lh3.googleusercontent.com/a-/AOh14Ggxy6f2VQ83CvyVwVUxBXEd2HP5a-Wqw0XlbLd46Q=s64",
      "userId": "06955280487934804797"
     },
     "user_tz": -180
    },
    "id": "XwpHYSbOQ0_i",
    "outputId": "4e31a5c3-16f6-4840-971c-aa1f8b07f8cd"
   },
   "outputs": [
    {
     "data": {
      "text/plain": [
       "True"
      ]
     },
     "execution_count": 90,
     "metadata": {},
     "output_type": "execute_result"
    }
   ],
   "source": [
    "a.reshape(-1).shape == a.reshape(25).shape"
   ]
  },
  {
   "cell_type": "markdown",
   "id": "9YIcJ-ZrRSOY",
   "metadata": {
    "id": "9YIcJ-ZrRSOY"
   },
   "source": [
    "Инициализируйте вектор размерностью `(1, 32, 64, 64)`, а затем придайте ему следующие размерности:\n",
    "* `(32, 64, 64)`\n",
    "* `(1, 32 x 64 x 64)`\n",
    "* `(32, 64 x 64)`\n",
    "* `(4, 8, 8, 16, 32)`"
   ]
  },
  {
   "cell_type": "code",
   "execution_count": 108,
   "id": "Pgylu-FlRRp7",
   "metadata": {
    "id": "Pgylu-FlRRp7"
   },
   "outputs": [
    {
     "data": {
      "text/plain": [
       "(4, 8, 8, 16, 32)"
      ]
     },
     "execution_count": 108,
     "metadata": {},
     "output_type": "execute_result"
    }
   ],
   "source": [
    "x = np.random.random((1, 32, 64, 64))\n",
    "x.reshape((32, 64, 64)).shape\n",
    "x.reshape((1, 32*64*64)).shape\n",
    "x.reshape((32, 64*64)).shape\n",
    "x.reshape((4, 8, 8, 16, 32)).shape"
   ]
  },
  {
   "cell_type": "markdown",
   "id": "ZFI3UUtbQ53y",
   "metadata": {
    "id": "ZFI3UUtbQ53y"
   },
   "source": [
    "Два вектора также можно соединить вдоль какого-то из измерений. "
   ]
  },
  {
   "cell_type": "code",
   "execution_count": 109,
   "id": "5sDI8yWdSNRK",
   "metadata": {
    "colab": {
     "base_uri": "https://localhost:8080/"
    },
    "executionInfo": {
     "elapsed": 378,
     "status": "ok",
     "timestamp": 1634393655096,
     "user": {
      "displayName": "Дарина Рустамова",
      "photoUrl": "https://lh3.googleusercontent.com/a-/AOh14Ggxy6f2VQ83CvyVwVUxBXEd2HP5a-Wqw0XlbLd46Q=s64",
      "userId": "06955280487934804797"
     },
     "user_tz": -180
    },
    "id": "5sDI8yWdSNRK",
    "outputId": "c23a3a9b-74c8-403a-dd70-0cc86575cdc4"
   },
   "outputs": [
    {
     "data": {
      "text/plain": [
       "(2, 5)"
      ]
     },
     "execution_count": 109,
     "metadata": {},
     "output_type": "execute_result"
    }
   ],
   "source": [
    "a = np.zeros(5)\n",
    "b = np.zeros(5)\n",
    "\n",
    "np.vstack((a, b)).shape # из двух одноэтажных поездов получили двухэтажный"
   ]
  },
  {
   "cell_type": "code",
   "execution_count": 110,
   "id": "4KemooiZSS2V",
   "metadata": {
    "colab": {
     "base_uri": "https://localhost:8080/"
    },
    "executionInfo": {
     "elapsed": 284,
     "status": "ok",
     "timestamp": 1634393660268,
     "user": {
      "displayName": "Дарина Рустамова",
      "photoUrl": "https://lh3.googleusercontent.com/a-/AOh14Ggxy6f2VQ83CvyVwVUxBXEd2HP5a-Wqw0XlbLd46Q=s64",
      "userId": "06955280487934804797"
     },
     "user_tz": -180
    },
    "id": "4KemooiZSS2V",
    "outputId": "86edf468-1ad8-4718-88ae-981f88d7aab7"
   },
   "outputs": [
    {
     "data": {
      "text/plain": [
       "(10,)"
      ]
     },
     "execution_count": 110,
     "metadata": {},
     "output_type": "execute_result"
    }
   ],
   "source": [
    "np.hstack((a, b)).shape # сцепили вагоны из двух составов"
   ]
  },
  {
   "cell_type": "markdown",
   "id": "VsW0Q8iKSdDe",
   "metadata": {
    "id": "VsW0Q8iKSdDe"
   },
   "source": [
    "Более общие функции stack и concatenate позволяют соединять вектора по произвольной размерности."
   ]
  },
  {
   "cell_type": "code",
   "execution_count": 111,
   "id": "thOGqG49Q40K",
   "metadata": {
    "colab": {
     "base_uri": "https://localhost:8080/"
    },
    "executionInfo": {
     "elapsed": 458,
     "status": "ok",
     "timestamp": 1634393663267,
     "user": {
      "displayName": "Дарина Рустамова",
      "photoUrl": "https://lh3.googleusercontent.com/a-/AOh14Ggxy6f2VQ83CvyVwVUxBXEd2HP5a-Wqw0XlbLd46Q=s64",
      "userId": "06955280487934804797"
     },
     "user_tz": -180
    },
    "id": "thOGqG49Q40K",
    "outputId": "6402e6e3-cf9c-4df0-a748-71573884f5d3"
   },
   "outputs": [
    {
     "data": {
      "text/plain": [
       "(1, 32, 64, 192)"
      ]
     },
     "execution_count": 111,
     "metadata": {},
     "output_type": "execute_result"
    }
   ],
   "source": [
    "a = np.zeros((1, 32, 64, 64))\n",
    "b = np.zeros((1, 32, 64, 128))\n",
    "\n",
    "np.concatenate((a, b), axis=-1).shape # соединяет вектора разных размерностей"
   ]
  },
  {
   "cell_type": "code",
   "execution_count": 112,
   "id": "dsAfzfr8fxDT",
   "metadata": {
    "colab": {
     "base_uri": "https://localhost:8080/"
    },
    "executionInfo": {
     "elapsed": 258,
     "status": "ok",
     "timestamp": 1634393682893,
     "user": {
      "displayName": "Дарина Рустамова",
      "photoUrl": "https://lh3.googleusercontent.com/a-/AOh14Ggxy6f2VQ83CvyVwVUxBXEd2HP5a-Wqw0XlbLd46Q=s64",
      "userId": "06955280487934804797"
     },
     "user_tz": -180
    },
    "id": "dsAfzfr8fxDT",
    "outputId": "d48630e6-847e-41a0-8849-31c8e88144df"
   },
   "outputs": [
    {
     "data": {
      "text/plain": [
       "(1, 32, 2, 32)"
      ]
     },
     "execution_count": 112,
     "metadata": {},
     "output_type": "execute_result"
    }
   ],
   "source": [
    "a = np.zeros((1, 32, 32))\n",
    "b = np.zeros((1, 32, 32))\n",
    "\n",
    "np.stack([a, b], axis=2).shape # появилась новая (!) ось, по которой векторы были соединены"
   ]
  },
  {
   "cell_type": "markdown",
   "id": "mDKvTJCoQ-mq",
   "metadata": {
    "id": "mDKvTJCoQ-mq"
   },
   "source": [
    "### * Матричные операции. Скалярное произведение, транспонирование."
   ]
  },
  {
   "cell_type": "markdown",
   "id": "k1FCjDoDjdHb",
   "metadata": {
    "id": "k1FCjDoDjdHb"
   },
   "source": [
    "#### Теория"
   ]
  },
  {
   "cell_type": "markdown",
   "id": "s8RLFpHhgv5V",
   "metadata": {
    "id": "s8RLFpHhgv5V"
   },
   "source": [
    "Здесь я должен немного познакомить искушённого читателя с основными понятиями линейной алгебры. Из школьного курса вы наверняка знакомы с векторами - и привыкли, что они задают какое-то направление для точки на плоскости.\n",
    "\n",
    "Матрицы (a.k.a. *двумерные* векторы) действуют по схожему принципу - они выполняют преобразование какого-то объекта в линейном пространстве сразу по нескольким *базисным* векторам. Базисный вектор - это единичный вектор, который нельзя выразить линейной комбинацией других базисных векторов - проще говоря, это вектор, соответствующий какой-то из осей пространства.\n",
    "\n",
    "Тензоры - это удобное обобщение векторов и матриц. Если векторы записываются в виде строк, а матрицы в виде табличек (\"стопок\" строк), то тензоры просто обобщают эту идею на большие размерности. Тензор третьего ранга, например, описывается в виде куба, четвертого - как \"набор\" трёхмерных кубов и так далее.\n",
    "\n",
    "Здесь и далее для простоты я буду использовать термин \"вектор\", чтобы не пугать читателя тензорами, хотя формально, конечно, это неправильно."
   ]
  },
  {
   "cell_type": "markdown",
   "id": "9trdK_xZjger",
   "metadata": {
    "id": "9trdK_xZjger"
   },
   "source": [
    "#### Операции над матрицами и векторами"
   ]
  },
  {
   "cell_type": "markdown",
   "id": "KeQi6-NQjcI2",
   "metadata": {
    "id": "KeQi6-NQjcI2"
   },
   "source": [
    "Если со сложением векторов проблем не возникает, то умножение уже вызывает вопросы. На самом деле в алгебре различают умножения двух видов - поэлементное (произведение Адамара) и скалярное. Также существует векторное произведение, но в рамках этого курса нас оно не будет интересовать.\n",
    "\n",
    "Скалярное произведение двух плоских векторов работает следующим образом: нам необходимо взять поэлементное произведение векторов, а затем сложить все компоненты векторов:\n",
    "\n",
    "$$a \\cdot b = \\sum_{i=1}^N a_i \\times b_i = c$$"
   ]
  },
  {
   "cell_type": "code",
   "execution_count": 113,
   "id": "COrQ4gxQQRhR",
   "metadata": {
    "colab": {
     "base_uri": "https://localhost:8080/"
    },
    "executionInfo": {
     "elapsed": 422,
     "status": "ok",
     "timestamp": 1634364719808,
     "user": {
      "displayName": "Артур Гиголаев",
      "photoUrl": "https://lh3.googleusercontent.com/a/default-user=s64",
      "userId": "00810829084549527673"
     },
     "user_tz": -180
    },
    "id": "COrQ4gxQQRhR",
    "outputId": "af6de9f1-11c4-4688-a219-a8ab47173f24"
   },
   "outputs": [
    {
     "data": {
      "text/plain": [
       "(3,)"
      ]
     },
     "execution_count": 113,
     "metadata": {},
     "output_type": "execute_result"
    }
   ],
   "source": [
    "a = np.random.randint(0, 10, size=3)\n",
    "b = np.random.randint(0, 10, size=3)\n",
    "\n",
    "(a * b).shape"
   ]
  },
  {
   "cell_type": "markdown",
   "id": "AdknuW8FmKYV",
   "metadata": {
    "id": "AdknuW8FmKYV"
   },
   "source": [
    "Здорово, когда векторы одной размерности! Но что делать, когда размерности не совпадают? Помните, ранее мы смотрели, как выполнять сложение и умножение для векторов-столбцов и векторов-строк? Так вот, здесь работает аналогичная идея, просто запишем один вектор в виде столбца, а другой - в виде строки. Тогда если длина первого вектора равна $n$, а другого $m$, то на выходе мы получим матрицу размером $n \\times m$.\n",
    "\n",
    "Эта идея хорошо обобщается на матрицы, да и вообще на вектор любой размерности (подразумевается, конечно же, тензор любого ранга). Единственное требование - два измерения у этих векторов должны совпадать. Тогда мы \"стыкуем\" векторы этими совпадающими измерениями друг к другу и перемножаем, на выходе получаем только те измерения, которые не соприкасались.\n",
    "\n",
    "Так, если это векторы-строки или векторы-столбцы, то они приводятся к размерности $(1,n)$ или $(n,1)$ и тут уже **важно** то, что мы хотим получить. Если мы хотим получить **число**, то нам необходимо, чтобы длины векторов совпадали:\n",
    "$$(1,n) \\times (n,1) \\rightarrow (1,1)$$\n",
    "\n",
    "Если мы хотим получить матрицу, то нам неважно, какие у них длины, мы в любом случае получим корректную матрицу:\n",
    "$$(n,1) \\times (1,m) \\rightarrow (n,m)$$\n",
    "\n",
    "В случае матриц нам важно, чтобы внутренние размерности совпадали. Так, перемножая скалярно матрицы $(n,p)$ и $(p,m)$, мы получим матрицу $(n,m)$."
   ]
  },
  {
   "cell_type": "markdown",
   "id": "BV5Y-AiKpi2b",
   "metadata": {
    "id": "BV5Y-AiKpi2b"
   },
   "source": [
    "Можно ли перемножить и если да, то какие выходные размерности получатся при скалярном перемножении у следующих векторов:\n",
    "\n",
    "1. $(1,3)$ и $(3,1)$?\n",
    "2. $(1,4)$ и $(3,1)$?\n",
    "3. $(1,4)$ и $(4,4)$?\n",
    "4. $(4,4)$ и $(1,4)$?\n",
    "5. $(3,4)$ и $(3,3)$?\n",
    "6. $(11,14)$ и $(14,12)$?\n",
    "7. $(32,3,16)$ и $(16,4)$?"
   ]
  },
  {
   "cell_type": "markdown",
   "id": "a5l_JSG3qGVn",
   "metadata": {
    "id": "a5l_JSG3qGVn"
   },
   "source": [
    "##### Ответы:"
   ]
  },
  {
   "cell_type": "markdown",
   "id": "0mVH_jNwsHOZ",
   "metadata": {
    "id": "0mVH_jNwsHOZ"
   },
   "source": [
    "1. Да, $(1,1)$\n",
    "2. Нет\n",
    "3. Да, $(1,4)$\n",
    "4. Нет\n",
    "5. Нет\n",
    "6. Да, $(11,12)$\n",
    "7. Да, $(32,3,4)$"
   ]
  },
  {
   "cell_type": "markdown",
   "id": "pANkWpeWsLQN",
   "metadata": {
    "id": "pANkWpeWsLQN"
   },
   "source": [
    "#### Транспонирование"
   ]
  },
  {
   "cell_type": "markdown",
   "id": "vaWcB5qxsbMO",
   "metadata": {
    "id": "vaWcB5qxsbMO"
   },
   "source": [
    "Иногда при перемножении матриц мы получаем не совсем те размерности, которые мы хотели бы получить. В этом случае интуиция нам подсказывает, что можно как-то развернуть векторы так, чтобы они \"стакнулись\" совпадающими размерностями и перемножились. Это правда так и такая операция называется *транспонированием*. Проще говоря, мы меняем местами две размерности вектора и физически *поворачиваем* его так, что это позволяет нам перемножить его с другим вектором."
   ]
  },
  {
   "cell_type": "code",
   "execution_count": 114,
   "id": "YGtGug-LsXb1",
   "metadata": {
    "colab": {
     "base_uri": "https://localhost:8080/"
    },
    "executionInfo": {
     "elapsed": 247,
     "status": "ok",
     "timestamp": 1634395192236,
     "user": {
      "displayName": "Дарина Рустамова",
      "photoUrl": "https://lh3.googleusercontent.com/a-/AOh14Ggxy6f2VQ83CvyVwVUxBXEd2HP5a-Wqw0XlbLd46Q=s64",
      "userId": "06955280487934804797"
     },
     "user_tz": -180
    },
    "id": "YGtGug-LsXb1",
    "outputId": "54a89779-48f2-40bf-cc3a-6e23e4a10eb2"
   },
   "outputs": [
    {
     "data": {
      "text/plain": [
       "(array([8, 4, 1, 7]), (4,))"
      ]
     },
     "execution_count": 114,
     "metadata": {},
     "output_type": "execute_result"
    }
   ],
   "source": [
    "v = np.random.randint(0, 10, size=4)\n",
    "v.transpose(), v.transpose().shape"
   ]
  },
  {
   "cell_type": "markdown",
   "id": "yn54XH9RtuA2",
   "metadata": {
    "id": "yn54XH9RtuA2"
   },
   "source": [
    "Для плоского вектора ничего не поменялось - давайте сделаем его двумерным!"
   ]
  },
  {
   "cell_type": "code",
   "execution_count": 115,
   "id": "sUglnX6_tyyy",
   "metadata": {
    "colab": {
     "base_uri": "https://localhost:8080/"
    },
    "executionInfo": {
     "elapsed": 322,
     "status": "ok",
     "timestamp": 1634395196482,
     "user": {
      "displayName": "Дарина Рустамова",
      "photoUrl": "https://lh3.googleusercontent.com/a-/AOh14Ggxy6f2VQ83CvyVwVUxBXEd2HP5a-Wqw0XlbLd46Q=s64",
      "userId": "06955280487934804797"
     },
     "user_tz": -180
    },
    "id": "sUglnX6_tyyy",
    "outputId": "0e1a0379-ac38-4095-ff82-a7ff8b86cee2"
   },
   "outputs": [
    {
     "data": {
      "text/plain": [
       "(array([[8],\n",
       "        [9],\n",
       "        [6],\n",
       "        [2]]),\n",
       " (4, 1))"
      ]
     },
     "execution_count": 115,
     "metadata": {},
     "output_type": "execute_result"
    }
   ],
   "source": [
    "v = np.random.randint(0, 10, size=(1, 4))\n",
    "v.transpose(), v.transpose().shape"
   ]
  },
  {
   "cell_type": "code",
   "execution_count": 116,
   "id": "wSWCcQtPt135",
   "metadata": {
    "colab": {
     "base_uri": "https://localhost:8080/"
    },
    "executionInfo": {
     "elapsed": 244,
     "status": "ok",
     "timestamp": 1634395517345,
     "user": {
      "displayName": "Дарина Рустамова",
      "photoUrl": "https://lh3.googleusercontent.com/a-/AOh14Ggxy6f2VQ83CvyVwVUxBXEd2HP5a-Wqw0XlbLd46Q=s64",
      "userId": "06955280487934804797"
     },
     "user_tz": -180
    },
    "id": "wSWCcQtPt135",
    "outputId": "aaa4cff7-118d-4245-b0d1-f9031619851a"
   },
   "outputs": [
    {
     "data": {
      "text/plain": [
       "(array([[6, 0, 3],\n",
       "        [0, 7, 0],\n",
       "        [9, 0, 8],\n",
       "        [7, 8, 8],\n",
       "        [7, 4, 4]]),\n",
       " (5, 3))"
      ]
     },
     "execution_count": 116,
     "metadata": {},
     "output_type": "execute_result"
    }
   ],
   "source": [
    "v = np.random.randint(0, 10, size=(3, 5))\n",
    "v.transpose(), v.transpose().shape"
   ]
  },
  {
   "cell_type": "markdown",
   "id": "HEPw4TXDtnFS",
   "metadata": {
    "id": "HEPw4TXDtnFS"
   },
   "source": [
    "Для векторов большей размерности нужно явно указывать новый порядок осей, используя индексы существующих"
   ]
  },
  {
   "cell_type": "code",
   "execution_count": 117,
   "id": "Tx-NR7-wtS5y",
   "metadata": {
    "colab": {
     "base_uri": "https://localhost:8080/"
    },
    "executionInfo": {
     "elapsed": 233,
     "status": "ok",
     "timestamp": 1634395525700,
     "user": {
      "displayName": "Дарина Рустамова",
      "photoUrl": "https://lh3.googleusercontent.com/a-/AOh14Ggxy6f2VQ83CvyVwVUxBXEd2HP5a-Wqw0XlbLd46Q=s64",
      "userId": "06955280487934804797"
     },
     "user_tz": -180
    },
    "id": "Tx-NR7-wtS5y",
    "outputId": "8fc7da3a-a368-4150-d33f-ef313037feee"
   },
   "outputs": [
    {
     "data": {
      "text/plain": [
       "(array([[[0, 5, 6]],\n",
       " \n",
       "        [[3, 2, 6]],\n",
       " \n",
       "        [[4, 1, 5]],\n",
       " \n",
       "        [[6, 6, 3]],\n",
       " \n",
       "        [[0, 9, 4]]]),\n",
       " (5, 1, 3))"
      ]
     },
     "execution_count": 117,
     "metadata": {},
     "output_type": "execute_result"
    }
   ],
   "source": [
    "v = np.random.randint(0, 10, size=(1, 3, 5))\n",
    "v.transpose(2, 0, 1), v.transpose(2, 0, 1).shape"
   ]
  },
  {
   "cell_type": "markdown",
   "id": "aerXokGsuWGd",
   "metadata": {
    "id": "aerXokGsuWGd"
   },
   "source": [
    "Ну и, очевидно, в NumPy существует замечательная функция, позволяющая перемножить векторы произвольных размерностей!"
   ]
  },
  {
   "cell_type": "code",
   "execution_count": 118,
   "id": "9mR124equL8t",
   "metadata": {
    "colab": {
     "base_uri": "https://localhost:8080/"
    },
    "executionInfo": {
     "elapsed": 229,
     "status": "ok",
     "timestamp": 1634396058908,
     "user": {
      "displayName": "Дарина Рустамова",
      "photoUrl": "https://lh3.googleusercontent.com/a-/AOh14Ggxy6f2VQ83CvyVwVUxBXEd2HP5a-Wqw0XlbLd46Q=s64",
      "userId": "06955280487934804797"
     },
     "user_tz": -180
    },
    "id": "9mR124equL8t",
    "outputId": "d4b48d41-6cc8-4a64-8387-c21bb946f5da"
   },
   "outputs": [
    {
     "data": {
      "text/plain": [
       "76"
      ]
     },
     "execution_count": 118,
     "metadata": {},
     "output_type": "execute_result"
    }
   ],
   "source": [
    "np.matmul(a, b) # Прокрутите выше - там точно такой же результат :)"
   ]
  },
  {
   "cell_type": "code",
   "execution_count": 119,
   "id": "87VHs3DtuqTW",
   "metadata": {
    "colab": {
     "base_uri": "https://localhost:8080/"
    },
    "executionInfo": {
     "elapsed": 571,
     "status": "ok",
     "timestamp": 1634364819349,
     "user": {
      "displayName": "Артур Гиголаев",
      "photoUrl": "https://lh3.googleusercontent.com/a/default-user=s64",
      "userId": "00810829084549527673"
     },
     "user_tz": -180
    },
    "id": "87VHs3DtuqTW",
    "outputId": "879cd859-fbb1-4199-f0cb-5b595e736390"
   },
   "outputs": [
    {
     "data": {
      "text/plain": [
       "(array([[148, 138,  65],\n",
       "        [185, 197, 111],\n",
       "        [ 78,  95,  56],\n",
       "        [118, 149,  77]]),\n",
       " (4, 3))"
      ]
     },
     "execution_count": 119,
     "metadata": {},
     "output_type": "execute_result"
    }
   ],
   "source": [
    "a = np.random.randint(0, 10, size=(4, 5))\n",
    "b = np.random.randint(0, 10, size=(5, 3))\n",
    "\n",
    "np.matmul(a, b), np.matmul(a, b).shape"
   ]
  },
  {
   "cell_type": "code",
   "execution_count": 120,
   "id": "p2RsGtu_vAIQ",
   "metadata": {
    "colab": {
     "base_uri": "https://localhost:8080/"
    },
    "executionInfo": {
     "elapsed": 541,
     "status": "ok",
     "timestamp": 1634364949943,
     "user": {
      "displayName": "Артур Гиголаев",
      "photoUrl": "https://lh3.googleusercontent.com/a/default-user=s64",
      "userId": "00810829084549527673"
     },
     "user_tz": -180
    },
    "id": "p2RsGtu_vAIQ",
    "outputId": "dcd259c9-81e2-4e39-cb63-f6f0d59ae03a"
   },
   "outputs": [
    {
     "data": {
      "text/plain": [
       "(64, 3, 4)"
      ]
     },
     "execution_count": 120,
     "metadata": {},
     "output_type": "execute_result"
    }
   ],
   "source": [
    "X = np.random.randint(0, 10, size=(64, 3, 100))\n",
    "W = np.random.randint(0, 10, size=(100, 4))\n",
    "\n",
    "np.matmul(X, W).shape"
   ]
  },
  {
   "cell_type": "code",
   "execution_count": null,
   "id": "-nJZ_iMQvgFI",
   "metadata": {
    "id": "-nJZ_iMQvgFI"
   },
   "outputs": [],
   "source": []
  }
 ],
 "metadata": {
  "accelerator": "GPU",
  "colab": {
   "collapsed_sections": [
    "a5l_JSG3qGVn"
   ],
   "name": "ML_S1_numpy.ipynb",
   "provenance": [
    {
     "file_id": "19Eak790D8hcOIvW60VZnxsKxIXHecSFB",
     "timestamp": 1634387117481
    }
   ]
  },
  "kernelspec": {
   "display_name": "Python 3 (ipykernel)",
   "language": "python",
   "name": "python3"
  },
  "language_info": {
   "codemirror_mode": {
    "name": "ipython",
    "version": 3
   },
   "file_extension": ".py",
   "mimetype": "text/x-python",
   "name": "python",
   "nbconvert_exporter": "python",
   "pygments_lexer": "ipython3",
   "version": "3.8.8"
  },
  "widgets": {
   "application/vnd.jupyter.widget-state+json": {
    "state": {},
    "version_major": 2,
    "version_minor": 0
   }
  }
 },
 "nbformat": 4,
 "nbformat_minor": 5
}
