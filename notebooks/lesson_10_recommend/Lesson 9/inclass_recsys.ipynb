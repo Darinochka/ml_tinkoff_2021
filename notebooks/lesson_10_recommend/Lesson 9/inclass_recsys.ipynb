{
 "cells": [
  {
   "cell_type": "markdown",
   "metadata": {
    "colab_type": "text",
    "id": "EpMBaftzEmuQ"
   },
   "source": [
    "Разберем простые рекомендательные системы. Для этого возьмем датасет с рейтингами аниме и попробуем посоветовать пользователям сайта, что же им еще можно посмотеть.\n",
    "\n",
    "Импортируем необходимые библиотеки."
   ]
  },
  {
   "cell_type": "markdown",
   "metadata": {
    "colab_type": "text",
    "id": "HIIOzCfhEmuR"
   },
   "source": [
    "## Обработка данных"
   ]
  },
  {
   "cell_type": "markdown",
   "metadata": {},
   "source": []
  },
  {
   "cell_type": "code",
   "execution_count": 8,
   "metadata": {
    "colab": {},
    "colab_type": "code",
    "id": "QiZjgmztEmuS"
   },
   "outputs": [],
   "source": [
    "import pandas as pd\n",
    "import numpy as np\n",
    "import scipy.sparse as scp"
   ]
  },
  {
   "cell_type": "markdown",
   "metadata": {
    "colab_type": "text",
    "id": "dl0Bkr6MEmuV"
   },
   "source": [
    "Загрузим датасет с аниме, их названием, рейтингами"
   ]
  },
  {
   "cell_type": "code",
   "execution_count": 9,
   "metadata": {
    "colab": {},
    "colab_type": "code",
    "id": "1udY-k8UEmuV"
   },
   "outputs": [],
   "source": [
    "anime = pd.read_csv('./anime.csv')"
   ]
  },
  {
   "cell_type": "markdown",
   "metadata": {
    "colab_type": "text",
    "id": "l1mEQQoeEmuY"
   },
   "source": [
    "Рассмотрим только те аниме, которые входят в категорию TV"
   ]
  },
  {
   "cell_type": "code",
   "execution_count": 10,
   "metadata": {
    "colab": {},
    "colab_type": "code",
    "id": "w1LqXmF3EmuZ",
    "outputId": "8a1c4899-cdd1-4d7a-e53d-e6bf473990e4"
   },
   "outputs": [
    {
     "data": {
      "text/html": [
       "<div>\n",
       "<style scoped>\n",
       "    .dataframe tbody tr th:only-of-type {\n",
       "        vertical-align: middle;\n",
       "    }\n",
       "\n",
       "    .dataframe tbody tr th {\n",
       "        vertical-align: top;\n",
       "    }\n",
       "\n",
       "    .dataframe thead th {\n",
       "        text-align: right;\n",
       "    }\n",
       "</style>\n",
       "<table border=\"1\" class=\"dataframe\">\n",
       "  <thead>\n",
       "    <tr style=\"text-align: right;\">\n",
       "      <th></th>\n",
       "      <th>anime_id</th>\n",
       "      <th>name</th>\n",
       "      <th>genre</th>\n",
       "      <th>type</th>\n",
       "      <th>episodes</th>\n",
       "      <th>rating</th>\n",
       "      <th>members</th>\n",
       "    </tr>\n",
       "  </thead>\n",
       "  <tbody>\n",
       "    <tr>\n",
       "      <th>1</th>\n",
       "      <td>5114</td>\n",
       "      <td>Fullmetal Alchemist: Brotherhood</td>\n",
       "      <td>Action, Adventure, Drama, Fantasy, Magic, Mili...</td>\n",
       "      <td>TV</td>\n",
       "      <td>64</td>\n",
       "      <td>9.26</td>\n",
       "      <td>793665</td>\n",
       "    </tr>\n",
       "    <tr>\n",
       "      <th>2</th>\n",
       "      <td>28977</td>\n",
       "      <td>Gintama°</td>\n",
       "      <td>Action, Comedy, Historical, Parody, Samurai, S...</td>\n",
       "      <td>TV</td>\n",
       "      <td>51</td>\n",
       "      <td>9.25</td>\n",
       "      <td>114262</td>\n",
       "    </tr>\n",
       "    <tr>\n",
       "      <th>3</th>\n",
       "      <td>9253</td>\n",
       "      <td>Steins;Gate</td>\n",
       "      <td>Sci-Fi, Thriller</td>\n",
       "      <td>TV</td>\n",
       "      <td>24</td>\n",
       "      <td>9.17</td>\n",
       "      <td>673572</td>\n",
       "    </tr>\n",
       "    <tr>\n",
       "      <th>4</th>\n",
       "      <td>9969</td>\n",
       "      <td>Gintama&amp;#039;</td>\n",
       "      <td>Action, Comedy, Historical, Parody, Samurai, S...</td>\n",
       "      <td>TV</td>\n",
       "      <td>51</td>\n",
       "      <td>9.16</td>\n",
       "      <td>151266</td>\n",
       "    </tr>\n",
       "    <tr>\n",
       "      <th>5</th>\n",
       "      <td>32935</td>\n",
       "      <td>Haikyuu!!: Karasuno Koukou VS Shiratorizawa Ga...</td>\n",
       "      <td>Comedy, Drama, School, Shounen, Sports</td>\n",
       "      <td>TV</td>\n",
       "      <td>10</td>\n",
       "      <td>9.15</td>\n",
       "      <td>93351</td>\n",
       "    </tr>\n",
       "  </tbody>\n",
       "</table>\n",
       "</div>"
      ],
      "text/plain": [
       "   anime_id                                               name  \\\n",
       "1      5114                   Fullmetal Alchemist: Brotherhood   \n",
       "2     28977                                           Gintama°   \n",
       "3      9253                                        Steins;Gate   \n",
       "4      9969                                      Gintama&#039;   \n",
       "5     32935  Haikyuu!!: Karasuno Koukou VS Shiratorizawa Ga...   \n",
       "\n",
       "                                               genre type episodes  rating  \\\n",
       "1  Action, Adventure, Drama, Fantasy, Magic, Mili...   TV       64    9.26   \n",
       "2  Action, Comedy, Historical, Parody, Samurai, S...   TV       51    9.25   \n",
       "3                                   Sci-Fi, Thriller   TV       24    9.17   \n",
       "4  Action, Comedy, Historical, Parody, Samurai, S...   TV       51    9.16   \n",
       "5             Comedy, Drama, School, Shounen, Sports   TV       10    9.15   \n",
       "\n",
       "   members  \n",
       "1   793665  \n",
       "2   114262  \n",
       "3   673572  \n",
       "4   151266  \n",
       "5    93351  "
      ]
     },
     "execution_count": 10,
     "metadata": {},
     "output_type": "execute_result"
    }
   ],
   "source": [
    "anime = anime.loc[anime.type == 'TV']\n",
    "anime.head()"
   ]
  },
  {
   "cell_type": "markdown",
   "metadata": {
    "colab_type": "text",
    "id": "GnmorkxHEmue"
   },
   "source": [
    "Так же загрузим датасет с рейтигами, который пользователи ставили определенным аниме"
   ]
  },
  {
   "cell_type": "code",
   "execution_count": 11,
   "metadata": {
    "colab": {},
    "colab_type": "code",
    "id": "bun7xthnEmue",
    "outputId": "f4b51513-54af-4989-acee-3019045b421e"
   },
   "outputs": [
    {
     "data": {
      "text/html": [
       "<div>\n",
       "<style scoped>\n",
       "    .dataframe tbody tr th:only-of-type {\n",
       "        vertical-align: middle;\n",
       "    }\n",
       "\n",
       "    .dataframe tbody tr th {\n",
       "        vertical-align: top;\n",
       "    }\n",
       "\n",
       "    .dataframe thead th {\n",
       "        text-align: right;\n",
       "    }\n",
       "</style>\n",
       "<table border=\"1\" class=\"dataframe\">\n",
       "  <thead>\n",
       "    <tr style=\"text-align: right;\">\n",
       "      <th></th>\n",
       "      <th>user_id</th>\n",
       "      <th>anime_id</th>\n",
       "      <th>rating</th>\n",
       "    </tr>\n",
       "  </thead>\n",
       "  <tbody>\n",
       "    <tr>\n",
       "      <th>0</th>\n",
       "      <td>1</td>\n",
       "      <td>20</td>\n",
       "      <td>-1</td>\n",
       "    </tr>\n",
       "    <tr>\n",
       "      <th>1</th>\n",
       "      <td>1</td>\n",
       "      <td>24</td>\n",
       "      <td>-1</td>\n",
       "    </tr>\n",
       "    <tr>\n",
       "      <th>2</th>\n",
       "      <td>1</td>\n",
       "      <td>79</td>\n",
       "      <td>-1</td>\n",
       "    </tr>\n",
       "    <tr>\n",
       "      <th>3</th>\n",
       "      <td>1</td>\n",
       "      <td>226</td>\n",
       "      <td>-1</td>\n",
       "    </tr>\n",
       "    <tr>\n",
       "      <th>4</th>\n",
       "      <td>1</td>\n",
       "      <td>241</td>\n",
       "      <td>-1</td>\n",
       "    </tr>\n",
       "  </tbody>\n",
       "</table>\n",
       "</div>"
      ],
      "text/plain": [
       "   user_id  anime_id  rating\n",
       "0        1        20      -1\n",
       "1        1        24      -1\n",
       "2        1        79      -1\n",
       "3        1       226      -1\n",
       "4        1       241      -1"
      ]
     },
     "execution_count": 11,
     "metadata": {},
     "output_type": "execute_result"
    }
   ],
   "source": [
    "rating = pd.read_csv('./rating.csv')\n",
    "rating.head()"
   ]
  },
  {
   "cell_type": "markdown",
   "metadata": {
    "colab_type": "text",
    "id": "54nnmtoCEmuh"
   },
   "source": [
    "Как видим, оба датасета имеют поле `anime_id`. Можем по этому полю соединить обе таблицы. Получим таблицу `merged`, в которой хранится, какой пользователь поставил какую оценку конкретному аниме.\n",
    "\n",
    "Заметьте, что в обоих таблицах есть поле `rating`, поэтому при соединении таблиц изменим название этого поля в таблице `rating` на `rating_user`, добавив суффикс `_user`"
   ]
  },
  {
   "cell_type": "code",
   "execution_count": 12,
   "metadata": {
    "colab": {},
    "colab_type": "code",
    "id": "DoHpLVmwEmui",
    "outputId": "86023b72-58d8-4655-ac01-4247848bdef7",
    "scrolled": true
   },
   "outputs": [
    {
     "data": {
      "text/html": [
       "<div>\n",
       "<style scoped>\n",
       "    .dataframe tbody tr th:only-of-type {\n",
       "        vertical-align: middle;\n",
       "    }\n",
       "\n",
       "    .dataframe tbody tr th {\n",
       "        vertical-align: top;\n",
       "    }\n",
       "\n",
       "    .dataframe thead th {\n",
       "        text-align: right;\n",
       "    }\n",
       "</style>\n",
       "<table border=\"1\" class=\"dataframe\">\n",
       "  <thead>\n",
       "    <tr style=\"text-align: right;\">\n",
       "      <th></th>\n",
       "      <th>user_id</th>\n",
       "      <th>anime_id</th>\n",
       "      <th>rating_user</th>\n",
       "      <th>name</th>\n",
       "      <th>genre</th>\n",
       "      <th>type</th>\n",
       "      <th>episodes</th>\n",
       "      <th>rating</th>\n",
       "      <th>members</th>\n",
       "    </tr>\n",
       "  </thead>\n",
       "  <tbody>\n",
       "    <tr>\n",
       "      <th>0</th>\n",
       "      <td>1</td>\n",
       "      <td>20</td>\n",
       "      <td>-1</td>\n",
       "      <td>Naruto</td>\n",
       "      <td>Action, Comedy, Martial Arts, Shounen, Super P...</td>\n",
       "      <td>TV</td>\n",
       "      <td>220</td>\n",
       "      <td>7.81</td>\n",
       "      <td>683297</td>\n",
       "    </tr>\n",
       "    <tr>\n",
       "      <th>1</th>\n",
       "      <td>3</td>\n",
       "      <td>20</td>\n",
       "      <td>8</td>\n",
       "      <td>Naruto</td>\n",
       "      <td>Action, Comedy, Martial Arts, Shounen, Super P...</td>\n",
       "      <td>TV</td>\n",
       "      <td>220</td>\n",
       "      <td>7.81</td>\n",
       "      <td>683297</td>\n",
       "    </tr>\n",
       "    <tr>\n",
       "      <th>2</th>\n",
       "      <td>5</td>\n",
       "      <td>20</td>\n",
       "      <td>6</td>\n",
       "      <td>Naruto</td>\n",
       "      <td>Action, Comedy, Martial Arts, Shounen, Super P...</td>\n",
       "      <td>TV</td>\n",
       "      <td>220</td>\n",
       "      <td>7.81</td>\n",
       "      <td>683297</td>\n",
       "    </tr>\n",
       "    <tr>\n",
       "      <th>3</th>\n",
       "      <td>6</td>\n",
       "      <td>20</td>\n",
       "      <td>-1</td>\n",
       "      <td>Naruto</td>\n",
       "      <td>Action, Comedy, Martial Arts, Shounen, Super P...</td>\n",
       "      <td>TV</td>\n",
       "      <td>220</td>\n",
       "      <td>7.81</td>\n",
       "      <td>683297</td>\n",
       "    </tr>\n",
       "    <tr>\n",
       "      <th>4</th>\n",
       "      <td>10</td>\n",
       "      <td>20</td>\n",
       "      <td>-1</td>\n",
       "      <td>Naruto</td>\n",
       "      <td>Action, Comedy, Martial Arts, Shounen, Super P...</td>\n",
       "      <td>TV</td>\n",
       "      <td>220</td>\n",
       "      <td>7.81</td>\n",
       "      <td>683297</td>\n",
       "    </tr>\n",
       "  </tbody>\n",
       "</table>\n",
       "</div>"
      ],
      "text/plain": [
       "   user_id  anime_id  rating_user    name  \\\n",
       "0        1        20           -1  Naruto   \n",
       "1        3        20            8  Naruto   \n",
       "2        5        20            6  Naruto   \n",
       "3        6        20           -1  Naruto   \n",
       "4       10        20           -1  Naruto   \n",
       "\n",
       "                                               genre type episodes  rating  \\\n",
       "0  Action, Comedy, Martial Arts, Shounen, Super P...   TV      220    7.81   \n",
       "1  Action, Comedy, Martial Arts, Shounen, Super P...   TV      220    7.81   \n",
       "2  Action, Comedy, Martial Arts, Shounen, Super P...   TV      220    7.81   \n",
       "3  Action, Comedy, Martial Arts, Shounen, Super P...   TV      220    7.81   \n",
       "4  Action, Comedy, Martial Arts, Shounen, Super P...   TV      220    7.81   \n",
       "\n",
       "   members  \n",
       "0   683297  \n",
       "1   683297  \n",
       "2   683297  \n",
       "3   683297  \n",
       "4   683297  "
      ]
     },
     "execution_count": 12,
     "metadata": {},
     "output_type": "execute_result"
    }
   ],
   "source": [
    "merged = rating.merge(anime, left_on='anime_id', right_on='anime_id', suffixes=['_user', ''])\n",
    "merged.head()"
   ]
  },
  {
   "cell_type": "markdown",
   "metadata": {
    "colab_type": "text",
    "id": "Vs8KNpV4Emul"
   },
   "source": [
    "Нам не нужно знать все о получившийся таблице. Главное знать id пользователя, название аниме и саму оценку. Оставим только нужные нам поля."
   ]
  },
  {
   "cell_type": "code",
   "execution_count": 13,
   "metadata": {
    "colab": {},
    "colab_type": "code",
    "id": "4AYTUR9aEmum",
    "outputId": "030011e5-66cd-49ca-e4b2-bcbe4c959e88"
   },
   "outputs": [
    {
     "data": {
      "text/html": [
       "<div>\n",
       "<style scoped>\n",
       "    .dataframe tbody tr th:only-of-type {\n",
       "        vertical-align: middle;\n",
       "    }\n",
       "\n",
       "    .dataframe tbody tr th {\n",
       "        vertical-align: top;\n",
       "    }\n",
       "\n",
       "    .dataframe thead th {\n",
       "        text-align: right;\n",
       "    }\n",
       "</style>\n",
       "<table border=\"1\" class=\"dataframe\">\n",
       "  <thead>\n",
       "    <tr style=\"text-align: right;\">\n",
       "      <th></th>\n",
       "      <th>user_id</th>\n",
       "      <th>name</th>\n",
       "      <th>rating_user</th>\n",
       "    </tr>\n",
       "  </thead>\n",
       "  <tbody>\n",
       "    <tr>\n",
       "      <th>0</th>\n",
       "      <td>1</td>\n",
       "      <td>Naruto</td>\n",
       "      <td>-1</td>\n",
       "    </tr>\n",
       "    <tr>\n",
       "      <th>1</th>\n",
       "      <td>3</td>\n",
       "      <td>Naruto</td>\n",
       "      <td>8</td>\n",
       "    </tr>\n",
       "    <tr>\n",
       "      <th>2</th>\n",
       "      <td>5</td>\n",
       "      <td>Naruto</td>\n",
       "      <td>6</td>\n",
       "    </tr>\n",
       "    <tr>\n",
       "      <th>3</th>\n",
       "      <td>6</td>\n",
       "      <td>Naruto</td>\n",
       "      <td>-1</td>\n",
       "    </tr>\n",
       "    <tr>\n",
       "      <th>4</th>\n",
       "      <td>10</td>\n",
       "      <td>Naruto</td>\n",
       "      <td>-1</td>\n",
       "    </tr>\n",
       "  </tbody>\n",
       "</table>\n",
       "</div>"
      ],
      "text/plain": [
       "   user_id    name  rating_user\n",
       "0        1  Naruto           -1\n",
       "1        3  Naruto            8\n",
       "2        5  Naruto            6\n",
       "3        6  Naruto           -1\n",
       "4       10  Naruto           -1"
      ]
     },
     "execution_count": 13,
     "metadata": {},
     "output_type": "execute_result"
    }
   ],
   "source": [
    "merged = merged[['user_id', 'name', 'rating_user']]\n",
    "merged.head()"
   ]
  },
  {
   "cell_type": "markdown",
   "metadata": {
    "colab_type": "text",
    "id": "SvKAa3PhEmup"
   },
   "source": [
    "Изменим навзание поля `rating_user` на более удобное для понимания: `user_rating`"
   ]
  },
  {
   "cell_type": "code",
   "execution_count": 14,
   "metadata": {
    "colab": {},
    "colab_type": "code",
    "id": "5iDZrwviEmuq",
    "outputId": "ffcc294e-2a14-4827-b30c-a24d0530b3d8"
   },
   "outputs": [
    {
     "data": {
      "text/html": [
       "<div>\n",
       "<style scoped>\n",
       "    .dataframe tbody tr th:only-of-type {\n",
       "        vertical-align: middle;\n",
       "    }\n",
       "\n",
       "    .dataframe tbody tr th {\n",
       "        vertical-align: top;\n",
       "    }\n",
       "\n",
       "    .dataframe thead th {\n",
       "        text-align: right;\n",
       "    }\n",
       "</style>\n",
       "<table border=\"1\" class=\"dataframe\">\n",
       "  <thead>\n",
       "    <tr style=\"text-align: right;\">\n",
       "      <th></th>\n",
       "      <th>user_id</th>\n",
       "      <th>name</th>\n",
       "      <th>user_rating</th>\n",
       "    </tr>\n",
       "  </thead>\n",
       "  <tbody>\n",
       "    <tr>\n",
       "      <th>0</th>\n",
       "      <td>1</td>\n",
       "      <td>Naruto</td>\n",
       "      <td>-1</td>\n",
       "    </tr>\n",
       "    <tr>\n",
       "      <th>1</th>\n",
       "      <td>3</td>\n",
       "      <td>Naruto</td>\n",
       "      <td>8</td>\n",
       "    </tr>\n",
       "    <tr>\n",
       "      <th>2</th>\n",
       "      <td>5</td>\n",
       "      <td>Naruto</td>\n",
       "      <td>6</td>\n",
       "    </tr>\n",
       "    <tr>\n",
       "      <th>3</th>\n",
       "      <td>6</td>\n",
       "      <td>Naruto</td>\n",
       "      <td>-1</td>\n",
       "    </tr>\n",
       "    <tr>\n",
       "      <th>4</th>\n",
       "      <td>10</td>\n",
       "      <td>Naruto</td>\n",
       "      <td>-1</td>\n",
       "    </tr>\n",
       "  </tbody>\n",
       "</table>\n",
       "</div>"
      ],
      "text/plain": [
       "   user_id    name  user_rating\n",
       "0        1  Naruto           -1\n",
       "1        3  Naruto            8\n",
       "2        5  Naruto            6\n",
       "3        6  Naruto           -1\n",
       "4       10  Naruto           -1"
      ]
     },
     "execution_count": 14,
     "metadata": {},
     "output_type": "execute_result"
    }
   ],
   "source": [
    "merged.rename(columns={'rating_user': 'user_rating'}, inplace=True)\n",
    "merged.head()"
   ]
  },
  {
   "cell_type": "markdown",
   "metadata": {
    "colab_type": "text",
    "id": "L1YF07OcEmut"
   },
   "source": [
    "Рейтинг `-1` значит, что пользователь посмотел аниме, но не поставил ему оценку. Так как нас интересуют только рейтинги, можно выкинуть все `-1`"
   ]
  },
  {
   "cell_type": "code",
   "execution_count": 15,
   "metadata": {
    "colab": {},
    "colab_type": "code",
    "id": "1UCYsU1AEmuv",
    "outputId": "4cba3f3c-a7f5-42a8-b446-eaa8006c83bd",
    "scrolled": true
   },
   "outputs": [
    {
     "data": {
      "text/html": [
       "<div>\n",
       "<style scoped>\n",
       "    .dataframe tbody tr th:only-of-type {\n",
       "        vertical-align: middle;\n",
       "    }\n",
       "\n",
       "    .dataframe tbody tr th {\n",
       "        vertical-align: top;\n",
       "    }\n",
       "\n",
       "    .dataframe thead th {\n",
       "        text-align: right;\n",
       "    }\n",
       "</style>\n",
       "<table border=\"1\" class=\"dataframe\">\n",
       "  <thead>\n",
       "    <tr style=\"text-align: right;\">\n",
       "      <th></th>\n",
       "      <th>user_id</th>\n",
       "      <th>name</th>\n",
       "      <th>user_rating</th>\n",
       "    </tr>\n",
       "  </thead>\n",
       "  <tbody>\n",
       "    <tr>\n",
       "      <th>1</th>\n",
       "      <td>3</td>\n",
       "      <td>Naruto</td>\n",
       "      <td>8</td>\n",
       "    </tr>\n",
       "    <tr>\n",
       "      <th>2</th>\n",
       "      <td>5</td>\n",
       "      <td>Naruto</td>\n",
       "      <td>6</td>\n",
       "    </tr>\n",
       "    <tr>\n",
       "      <th>5</th>\n",
       "      <td>21</td>\n",
       "      <td>Naruto</td>\n",
       "      <td>8</td>\n",
       "    </tr>\n",
       "    <tr>\n",
       "      <th>6</th>\n",
       "      <td>28</td>\n",
       "      <td>Naruto</td>\n",
       "      <td>9</td>\n",
       "    </tr>\n",
       "    <tr>\n",
       "      <th>7</th>\n",
       "      <td>34</td>\n",
       "      <td>Naruto</td>\n",
       "      <td>9</td>\n",
       "    </tr>\n",
       "  </tbody>\n",
       "</table>\n",
       "</div>"
      ],
      "text/plain": [
       "   user_id    name  user_rating\n",
       "1        3  Naruto            8\n",
       "2        5  Naruto            6\n",
       "5       21  Naruto            8\n",
       "6       28  Naruto            9\n",
       "7       34  Naruto            9"
      ]
     },
     "execution_count": 15,
     "metadata": {},
     "output_type": "execute_result"
    }
   ],
   "source": [
    "merged = merged.loc[merged.user_rating != -1]\n",
    "merged.head()"
   ]
  },
  {
   "cell_type": "markdown",
   "metadata": {
    "colab_type": "text",
    "id": "93OP_3N0Emuz"
   },
   "source": [
    "Выкинем часть датасета, чтобы избежать проблем с вычислениями."
   ]
  },
  {
   "cell_type": "code",
   "execution_count": 16,
   "metadata": {
    "colab": {},
    "colab_type": "code",
    "id": "s7a0E1eXEmuz",
    "outputId": "0888f1ab-19db-4802-c206-62f6e752aee0",
    "scrolled": true
   },
   "outputs": [
    {
     "data": {
      "text/html": [
       "<div>\n",
       "<style scoped>\n",
       "    .dataframe tbody tr th:only-of-type {\n",
       "        vertical-align: middle;\n",
       "    }\n",
       "\n",
       "    .dataframe tbody tr th {\n",
       "        vertical-align: top;\n",
       "    }\n",
       "\n",
       "    .dataframe thead th {\n",
       "        text-align: right;\n",
       "    }\n",
       "</style>\n",
       "<table border=\"1\" class=\"dataframe\">\n",
       "  <thead>\n",
       "    <tr style=\"text-align: right;\">\n",
       "      <th></th>\n",
       "      <th>user_id</th>\n",
       "      <th>name</th>\n",
       "      <th>user_rating</th>\n",
       "    </tr>\n",
       "  </thead>\n",
       "  <tbody>\n",
       "    <tr>\n",
       "      <th>1</th>\n",
       "      <td>3</td>\n",
       "      <td>Naruto</td>\n",
       "      <td>8</td>\n",
       "    </tr>\n",
       "    <tr>\n",
       "      <th>2</th>\n",
       "      <td>5</td>\n",
       "      <td>Naruto</td>\n",
       "      <td>6</td>\n",
       "    </tr>\n",
       "    <tr>\n",
       "      <th>5</th>\n",
       "      <td>21</td>\n",
       "      <td>Naruto</td>\n",
       "      <td>8</td>\n",
       "    </tr>\n",
       "    <tr>\n",
       "      <th>6</th>\n",
       "      <td>28</td>\n",
       "      <td>Naruto</td>\n",
       "      <td>9</td>\n",
       "    </tr>\n",
       "    <tr>\n",
       "      <th>7</th>\n",
       "      <td>34</td>\n",
       "      <td>Naruto</td>\n",
       "      <td>9</td>\n",
       "    </tr>\n",
       "  </tbody>\n",
       "</table>\n",
       "</div>"
      ],
      "text/plain": [
       "   user_id    name  user_rating\n",
       "1        3  Naruto            8\n",
       "2        5  Naruto            6\n",
       "5       21  Naruto            8\n",
       "6       28  Naruto            9\n",
       "7       34  Naruto            9"
      ]
     },
     "execution_count": 16,
     "metadata": {},
     "output_type": "execute_result"
    }
   ],
   "source": [
    "merged = merged.loc[merged.user_id <= 10000]\n",
    "merged.head()"
   ]
  },
  {
   "cell_type": "markdown",
   "metadata": {
    "colab_type": "text",
    "id": "LbIApg1NEmu2"
   },
   "source": [
    "Теперь разобьем данные на train и test части. Это не самый лучший способ разбить датасет на части, но сейчас для простоты используем его."
   ]
  },
  {
   "cell_type": "code",
   "execution_count": 17,
   "metadata": {
    "colab": {},
    "colab_type": "code",
    "id": "77Y0TQyPEmu3"
   },
   "outputs": [],
   "source": [
    "from sklearn.model_selection import train_test_split\n",
    "\n",
    "random_state = 314159"
   ]
  },
  {
   "cell_type": "code",
   "execution_count": 18,
   "metadata": {
    "colab": {},
    "colab_type": "code",
    "id": "STSViHjJEmu6",
    "outputId": "f2af8ae3-1d59-4a2c-ab10-01586baedccf"
   },
   "outputs": [
    {
     "data": {
      "text/plain": [
       "((524152, 3), (58240, 3))"
      ]
     },
     "execution_count": 18,
     "metadata": {},
     "output_type": "execute_result"
    }
   ],
   "source": [
    "train_data, dev_data = train_test_split(merged, test_size=0.1, random_state=random_state)\n",
    "train_data.sort_index(inplace=True)\n",
    "dev_data.sort_index(inplace=True)\n",
    "train_data.shape, dev_data.shape"
   ]
  },
  {
   "cell_type": "markdown",
   "metadata": {
    "colab_type": "text",
    "id": "tmytF9buEmu8"
   },
   "source": [
    "Train часть датасета"
   ]
  },
  {
   "cell_type": "code",
   "execution_count": 19,
   "metadata": {
    "colab": {},
    "colab_type": "code",
    "id": "L-Hmiy1mEmu9",
    "outputId": "5e58302e-bea6-4b37-a931-c341dbf71aa1"
   },
   "outputs": [
    {
     "data": {
      "text/html": [
       "<div>\n",
       "<style scoped>\n",
       "    .dataframe tbody tr th:only-of-type {\n",
       "        vertical-align: middle;\n",
       "    }\n",
       "\n",
       "    .dataframe tbody tr th {\n",
       "        vertical-align: top;\n",
       "    }\n",
       "\n",
       "    .dataframe thead th {\n",
       "        text-align: right;\n",
       "    }\n",
       "</style>\n",
       "<table border=\"1\" class=\"dataframe\">\n",
       "  <thead>\n",
       "    <tr style=\"text-align: right;\">\n",
       "      <th></th>\n",
       "      <th>user_id</th>\n",
       "      <th>name</th>\n",
       "      <th>user_rating</th>\n",
       "    </tr>\n",
       "  </thead>\n",
       "  <tbody>\n",
       "    <tr>\n",
       "      <th>1</th>\n",
       "      <td>3</td>\n",
       "      <td>Naruto</td>\n",
       "      <td>8</td>\n",
       "    </tr>\n",
       "    <tr>\n",
       "      <th>2</th>\n",
       "      <td>5</td>\n",
       "      <td>Naruto</td>\n",
       "      <td>6</td>\n",
       "    </tr>\n",
       "    <tr>\n",
       "      <th>5</th>\n",
       "      <td>21</td>\n",
       "      <td>Naruto</td>\n",
       "      <td>8</td>\n",
       "    </tr>\n",
       "    <tr>\n",
       "      <th>6</th>\n",
       "      <td>28</td>\n",
       "      <td>Naruto</td>\n",
       "      <td>9</td>\n",
       "    </tr>\n",
       "    <tr>\n",
       "      <th>7</th>\n",
       "      <td>34</td>\n",
       "      <td>Naruto</td>\n",
       "      <td>9</td>\n",
       "    </tr>\n",
       "  </tbody>\n",
       "</table>\n",
       "</div>"
      ],
      "text/plain": [
       "   user_id    name  user_rating\n",
       "1        3  Naruto            8\n",
       "2        5  Naruto            6\n",
       "5       21  Naruto            8\n",
       "6       28  Naruto            9\n",
       "7       34  Naruto            9"
      ]
     },
     "execution_count": 19,
     "metadata": {},
     "output_type": "execute_result"
    }
   ],
   "source": [
    "train_data.head()"
   ]
  },
  {
   "cell_type": "markdown",
   "metadata": {
    "colab_type": "text",
    "id": "gX7vt8inEmvA"
   },
   "source": [
    "Test часть датасета"
   ]
  },
  {
   "cell_type": "code",
   "execution_count": 20,
   "metadata": {
    "colab": {},
    "colab_type": "code",
    "id": "ku2P3Y3SEmvB",
    "outputId": "38fefd92-6386-4f55-eca2-c11bb5cbda8f"
   },
   "outputs": [
    {
     "data": {
      "text/html": [
       "<div>\n",
       "<style scoped>\n",
       "    .dataframe tbody tr th:only-of-type {\n",
       "        vertical-align: middle;\n",
       "    }\n",
       "\n",
       "    .dataframe tbody tr th {\n",
       "        vertical-align: top;\n",
       "    }\n",
       "\n",
       "    .dataframe thead th {\n",
       "        text-align: right;\n",
       "    }\n",
       "</style>\n",
       "<table border=\"1\" class=\"dataframe\">\n",
       "  <thead>\n",
       "    <tr style=\"text-align: right;\">\n",
       "      <th></th>\n",
       "      <th>user_id</th>\n",
       "      <th>name</th>\n",
       "      <th>user_rating</th>\n",
       "    </tr>\n",
       "  </thead>\n",
       "  <tbody>\n",
       "    <tr>\n",
       "      <th>33</th>\n",
       "      <td>118</td>\n",
       "      <td>Naruto</td>\n",
       "      <td>7</td>\n",
       "    </tr>\n",
       "    <tr>\n",
       "      <th>34</th>\n",
       "      <td>124</td>\n",
       "      <td>Naruto</td>\n",
       "      <td>7</td>\n",
       "    </tr>\n",
       "    <tr>\n",
       "      <th>35</th>\n",
       "      <td>125</td>\n",
       "      <td>Naruto</td>\n",
       "      <td>4</td>\n",
       "    </tr>\n",
       "    <tr>\n",
       "      <th>39</th>\n",
       "      <td>132</td>\n",
       "      <td>Naruto</td>\n",
       "      <td>9</td>\n",
       "    </tr>\n",
       "    <tr>\n",
       "      <th>43</th>\n",
       "      <td>148</td>\n",
       "      <td>Naruto</td>\n",
       "      <td>8</td>\n",
       "    </tr>\n",
       "  </tbody>\n",
       "</table>\n",
       "</div>"
      ],
      "text/plain": [
       "    user_id    name  user_rating\n",
       "33      118  Naruto            7\n",
       "34      124  Naruto            7\n",
       "35      125  Naruto            4\n",
       "39      132  Naruto            9\n",
       "43      148  Naruto            8"
      ]
     },
     "execution_count": 20,
     "metadata": {},
     "output_type": "execute_result"
    }
   ],
   "source": [
    "dev_data.head()"
   ]
  },
  {
   "cell_type": "code",
   "execution_count": 21,
   "metadata": {
    "colab": {},
    "colab_type": "code",
    "id": "nyUQb074EmvE",
    "outputId": "f3158e59-8028-4ab9-a75e-086045a9f3fe"
   },
   "outputs": [
    {
     "name": "stdout",
     "output_type": "stream",
     "text": [
      "Количество уникальных пользователей НЕ совпадает с максимальным id пользователя\n"
     ]
    }
   ],
   "source": [
    "if len(merged.user_id.unique()) == merged.user_id.max():\n",
    "    print('Количество уникальных пользователей совпадает с максимальным id пользователя')\n",
    "else:\n",
    "    print('Количество уникальных пользователей НЕ совпадает с максимальным id пользователя')"
   ]
  },
  {
   "cell_type": "code",
   "execution_count": 22,
   "metadata": {
    "colab": {},
    "colab_type": "code",
    "id": "VE-3sTZZEmvH",
    "outputId": "cd057ab2-4b98-4ec1-f08a-cf340e7ad13b"
   },
   "outputs": [
    {
     "data": {
      "text/plain": [
       "array([   3,    5,   21, ..., 2238, 5252, 3530], dtype=int64)"
      ]
     },
     "execution_count": 22,
     "metadata": {},
     "output_type": "execute_result"
    }
   ],
   "source": [
    "merged.user_id.unique()"
   ]
  },
  {
   "cell_type": "markdown",
   "metadata": {
    "colab_type": "text",
    "id": "jUFAZPRUEmvL"
   },
   "source": [
    "Как можно видеть, количество уникальных пользователей не совпадает с максимальным id пользователя, а это значит, что id пользователей сдвинуты. Так, например, отсутствуют пользователи, с `id` 0, 1, 2  и 4.\n",
    "\n",
    "В дальнейшем нам надо будет работать с матрицей рейтингов, где 0-ая строка соответствует пользователю с `id` 3, 1-ая строка -- пользователю с `id` 5 и так далее. Поэтому для удобства создадим словарь, который переводит настоящий id пользователя в удобный нам. Сразу же сделаем словарь, который делает обратное преобразование."
   ]
  },
  {
   "cell_type": "code",
   "execution_count": 23,
   "metadata": {
    "colab": {},
    "colab_type": "code",
    "id": "zmQ-NCy_EmvL"
   },
   "outputs": [],
   "source": [
    "user_to_idx = {user_id : idx for idx, user_id in enumerate(merged.user_id.unique())}\n",
    "idx_to_user = {i: user for user, i in user_to_idx.items()}"
   ]
  },
  {
   "cell_type": "code",
   "execution_count": 24,
   "metadata": {
    "colab": {},
    "colab_type": "code",
    "id": "v8chWMBtEmvN"
   },
   "outputs": [],
   "source": [
    "assert 9387 == len(user_to_idx)"
   ]
  },
  {
   "cell_type": "markdown",
   "metadata": {
    "colab_type": "text",
    "id": "a5o2wDGzEmvQ"
   },
   "source": [
    "Как видно, первый словать перевел пользователя с id 5 в пользователя с id 1. То, что нам и нужно было"
   ]
  },
  {
   "cell_type": "code",
   "execution_count": 25,
   "metadata": {
    "colab": {},
    "colab_type": "code",
    "id": "arRJDnPgEmvR",
    "outputId": "9f232bc5-2850-4d84-924f-9ff264ea3ac2",
    "scrolled": true
   },
   "outputs": [
    {
     "data": {
      "text/plain": [
       "1"
      ]
     },
     "execution_count": 25,
     "metadata": {},
     "output_type": "execute_result"
    }
   ],
   "source": [
    "user_to_idx[5]"
   ]
  },
  {
   "cell_type": "markdown",
   "metadata": {
    "colab_type": "text",
    "id": "lfpyEK7cEmvU"
   },
   "source": [
    "Обратное преобразование так же работает"
   ]
  },
  {
   "cell_type": "code",
   "execution_count": 26,
   "metadata": {
    "colab": {},
    "colab_type": "code",
    "id": "HZxi2BHqEmvV",
    "outputId": "85ba5afb-c67a-4953-9957-0a5b8ff60a91"
   },
   "outputs": [
    {
     "data": {
      "text/plain": [
       "5"
      ]
     },
     "execution_count": 26,
     "metadata": {},
     "output_type": "execute_result"
    }
   ],
   "source": [
    "idx_to_user[1]"
   ]
  },
  {
   "cell_type": "markdown",
   "metadata": {
    "colab_type": "text",
    "id": "76mHufLxEmvX"
   },
   "source": [
    "Так же необходимо сопоставить именам аниме индексацию "
   ]
  },
  {
   "cell_type": "code",
   "execution_count": 27,
   "metadata": {
    "colab": {},
    "colab_type": "code",
    "id": "OGcn_5m0EmvX"
   },
   "outputs": [],
   "source": [
    "anime_to_idx = {anime_name : idx for idx, anime_name in enumerate(merged.name.unique())}\n",
    "idx_to_anime = {i: anime_name for anime_name, i in anime_to_idx.items()}"
   ]
  },
  {
   "cell_type": "code",
   "execution_count": 28,
   "metadata": {
    "colab": {},
    "colab_type": "code",
    "id": "tFCsp1PlEmvZ"
   },
   "outputs": [],
   "source": [
    "assert 2708 == len(anime_to_idx)"
   ]
  },
  {
   "cell_type": "markdown",
   "metadata": {
    "colab_type": "text",
    "id": "QAXyZbkzEmvd"
   },
   "source": [
    "Так можно видеть, что 0-ому столбцу соответсвует Naruto"
   ]
  },
  {
   "cell_type": "code",
   "execution_count": 29,
   "metadata": {
    "colab": {},
    "colab_type": "code",
    "id": "Ks_kpPuNEmvd",
    "outputId": "cea94ad0-4d33-45d9-a7c3-b1db9a180eb4"
   },
   "outputs": [
    {
     "data": {
      "text/plain": [
       "'Naruto'"
      ]
     },
     "execution_count": 29,
     "metadata": {},
     "output_type": "execute_result"
    }
   ],
   "source": [
    "idx_to_anime[0]"
   ]
  },
  {
   "cell_type": "markdown",
   "metadata": {
    "colab_type": "text",
    "id": "PEbUf_QCEmvg"
   },
   "source": [
    "Преобразуем train часть датасета с помощью преобразований, описанных выше."
   ]
  },
  {
   "cell_type": "code",
   "execution_count": 30,
   "metadata": {
    "colab": {},
    "colab_type": "code",
    "id": "1BKn-vqOEmvh",
    "outputId": "fb933d31-a004-4f86-a029-84ebc8e9650d"
   },
   "outputs": [
    {
     "data": {
      "text/html": [
       "<div>\n",
       "<style scoped>\n",
       "    .dataframe tbody tr th:only-of-type {\n",
       "        vertical-align: middle;\n",
       "    }\n",
       "\n",
       "    .dataframe tbody tr th {\n",
       "        vertical-align: top;\n",
       "    }\n",
       "\n",
       "    .dataframe thead th {\n",
       "        text-align: right;\n",
       "    }\n",
       "</style>\n",
       "<table border=\"1\" class=\"dataframe\">\n",
       "  <thead>\n",
       "    <tr style=\"text-align: right;\">\n",
       "      <th></th>\n",
       "      <th>user_id</th>\n",
       "      <th>name</th>\n",
       "      <th>user_rating</th>\n",
       "    </tr>\n",
       "  </thead>\n",
       "  <tbody>\n",
       "    <tr>\n",
       "      <th>1</th>\n",
       "      <td>0</td>\n",
       "      <td>0</td>\n",
       "      <td>8</td>\n",
       "    </tr>\n",
       "    <tr>\n",
       "      <th>2</th>\n",
       "      <td>1</td>\n",
       "      <td>0</td>\n",
       "      <td>6</td>\n",
       "    </tr>\n",
       "    <tr>\n",
       "      <th>5</th>\n",
       "      <td>2</td>\n",
       "      <td>0</td>\n",
       "      <td>8</td>\n",
       "    </tr>\n",
       "    <tr>\n",
       "      <th>6</th>\n",
       "      <td>3</td>\n",
       "      <td>0</td>\n",
       "      <td>9</td>\n",
       "    </tr>\n",
       "    <tr>\n",
       "      <th>7</th>\n",
       "      <td>4</td>\n",
       "      <td>0</td>\n",
       "      <td>9</td>\n",
       "    </tr>\n",
       "  </tbody>\n",
       "</table>\n",
       "</div>"
      ],
      "text/plain": [
       "   user_id  name  user_rating\n",
       "1        0     0            8\n",
       "2        1     0            6\n",
       "5        2     0            8\n",
       "6        3     0            9\n",
       "7        4     0            9"
      ]
     },
     "execution_count": 30,
     "metadata": {},
     "output_type": "execute_result"
    }
   ],
   "source": [
    "data = train_data.copy()\n",
    "data['user_id'] = data['user_id'].apply(lambda x: user_to_idx[x])\n",
    "data['name'] = data['name'].apply(lambda x: anime_to_idx[x])\n",
    "data.head()"
   ]
  },
  {
   "cell_type": "markdown",
   "metadata": {
    "colab_type": "text",
    "id": "4mintwn2Emvk"
   },
   "source": [
    "## Создание матрицы рейтингов"
   ]
  },
  {
   "cell_type": "markdown",
   "metadata": {
    "colab_type": "text",
    "id": "h-niRCxBEmvl"
   },
   "source": [
    "Теперь мы готовы для того, чтобы составить саму матрицу рейтингов. Если мы будем хранить все значения, то есть не только сами оценки пользователей, но так же и нули, говорящие о том, что оценки не было, то в итоге такая матрица займет слишком много места. Вместо этого используют размереженные матрицы.\n",
    "\n",
    "Конкретно сейчас, будем работать с матрицей типа `coo_matrix`. Для того, чтобы созадть такую матрицу, достаточно знать координаты каждого ненулевого элемента. В нашей рекомендательной системе координатами являются id пользователей и id аниме.\n",
    "\n",
    "<img src='http://cdncontribute.geeksforgeeks.org/wp-content/uploads/Sparse-Matrix-Array-Representation1.png'>"
   ]
  },
  {
   "cell_type": "markdown",
   "metadata": {
    "colab_type": "text",
    "id": "z_mEe4fZEmvl"
   },
   "source": [
    "Так же нужно указать размеры создаваемой матрицы. У нас есть пользователи, которые не поставили ни одной оценки, а так же есть аниме, которым не ставили ни одной оценки. Чтобы случайно не выкинуть таких пользователей и такие аниме, зафиксируем размеры матрицы рейтингов."
   ]
  },
  {
   "cell_type": "code",
   "execution_count": 31,
   "metadata": {
    "colab": {},
    "colab_type": "code",
    "id": "NFrchea-Emvm"
   },
   "outputs": [],
   "source": [
    "def get_sparse(data):\n",
    "    return scp.coo_matrix(\n",
    "        (\n",
    "            data['user_rating'],  # оценки пользователей\n",
    "            (data['user_id'], data['name'])  # id пользователей и id аниме, для которых известны оценки\n",
    "        ), \n",
    "        shape=(len(user_to_idx), len(anime_to_idx))  # размеры матрицы рейтингов\n",
    "    ).tocsr()"
   ]
  },
  {
   "cell_type": "code",
   "execution_count": 32,
   "metadata": {
    "colab": {},
    "colab_type": "code",
    "id": "jDcgCs1SEmvo",
    "outputId": "8d1f37aa-04bd-47d9-f43a-856490ea3103"
   },
   "outputs": [
    {
     "data": {
      "text/plain": [
       "<9387x2708 sparse matrix of type '<class 'numpy.int64'>'\n",
       "\twith 524152 stored elements in Compressed Sparse Row format>"
      ]
     },
     "execution_count": 32,
     "metadata": {},
     "output_type": "execute_result"
    }
   ],
   "source": [
    "train_sp = get_sparse(data)\n",
    "train_sp"
   ]
  },
  {
   "cell_type": "markdown",
   "metadata": {
    "colab_type": "text",
    "id": "XhSPssRJEmvq"
   },
   "source": [
    "Можем перевести получившуюся `sparce` матрицу обратно к `dense` формату. Видно, что все проставленные оценки расположились так, что если оценка `r` стоит в `i` строке и `j` столбце, то значит пользователь с id `i` поставил аниме с id `j` оценку `r`. Все остальные поля заполнены нулями."
   ]
  },
  {
   "cell_type": "code",
   "execution_count": 33,
   "metadata": {
    "colab": {},
    "colab_type": "code",
    "id": "bqfppOjYEmvs",
    "outputId": "23629c76-3701-473b-aa5b-f1088d48b4b8"
   },
   "outputs": [
    {
     "data": {
      "text/plain": [
       "array([[8, 0, 0, ..., 0, 0, 0],\n",
       "       [6, 1, 0, ..., 0, 0, 0],\n",
       "       [8, 0, 0, ..., 0, 0, 0],\n",
       "       ...,\n",
       "       [0, 0, 0, ..., 0, 0, 0],\n",
       "       [0, 0, 0, ..., 0, 0, 0],\n",
       "       [0, 0, 0, ..., 0, 0, 0]], dtype=int64)"
      ]
     },
     "execution_count": 33,
     "metadata": {},
     "output_type": "execute_result"
    }
   ],
   "source": [
    "train_dense = train_sp.todense().A\n",
    "train_dense"
   ]
  },
  {
   "cell_type": "markdown",
   "metadata": {
    "colab_type": "text",
    "id": "lviFJgWYEmvv"
   },
   "source": [
    "Еще раз повторюсь: правильно работать с матрицей рейтингов, которая при этом является разреженной матрицей. Но так как мы пока что учимся, далее будем использовать знакомый нам тип: `dense`."
   ]
  },
  {
   "cell_type": "markdown",
   "metadata": {
    "colab_type": "text",
    "id": "PiNRjbzZEmvw"
   },
   "source": [
    "## Baseline prediction"
   ]
  },
  {
   "cell_type": "markdown",
   "metadata": {
    "colab_type": "text",
    "id": "Tm-6xoHBEmvx"
   },
   "source": [
    "Для начала попробуем предсказывать рейтинги пользователей простым способом. Найдем средний рейтинг для всех пользователей и всех аниме. Для этого просуммируем все проставленные рейтинги и поделим на их количество.\n",
    "$$\n",
    "\\begin{align*}\n",
    "\\mu=&\\frac{1}{n}\\sum_{u,i}r_{ui}\n",
    "\\end{align*}\n",
    "$$\n",
    "Уже можно было бы сказать, что неизвестная нам оценка, которую поставит некий пользователь аниме, равна среднему. Но мы пойдем чуть дальше. Будем учитывать предвзятость пользователей и переоценку/недооценку аниме. Как пример, некоторые пользователи ставят в основном 10, а 9 для них - ужасный фильм, для некоторых пользователей наблюдается обратная ситуация: даже 5 для них - это шедевр кинематографа. С аниме такая же ситуация.\n",
    "\n",
    "Сначала разберемся с пользователями. Для того, чтобы вычислить \"сдвиг\" в оценках пользователя $u$ относительно средней оценки $\\mu$, достаточно вычесть из всех его оценок $r_{ui}$ среднюю оценку $\\mu$, просуммировать результат и поделить на количество оценкок $|I_u|$, который этот пользователь поставил. Так как не все пользователи ставили оценки, то введем параметр $\\alpha$, чтобы избежать деления на 0. $\\alpha$ можно взять равным 1, но так как $\\alpha$ еще является и коэффициентом сглаживания, то возьмем его равным $25$.\n",
    "$$\n",
    "\\begin{align*}\n",
    "b_u=&\\frac{1}{|I_u|+\\alpha}\\sum_{i\\in{}I_u}(r_{ui} - \\mu), \\space\\space\\space \\alpha=25\n",
    "\\end{align*}\n",
    "$$\n",
    "Аналогично вычислим \"сдвиг\" в оценивании аниме $i$, но на этот раз учтем еще и найденные ранее сдвиги в оценках пользователей. Так же введем коэффициент сглаживания $\\beta$ и примем его равным коэффициенту $\\alpha$.\n",
    "$$\n",
    "\\begin{align*}\n",
    "b_i=&\\frac{1}{|U_i|+\\beta}\\sum_{u^\\prime\\in{}U_i}(r_{u^\\prime{}i} - b_{u^\\prime} - \\mu), \\space\\space\\space \\beta=25\n",
    "\\end{align*}\n",
    "$$\n",
    "Итоговое предсказание оценки $r_{ui}$ пользователя $u$ аниме $i$\n",
    "$$\n",
    "\\begin{align*}\n",
    "\\hat{r}_{ui}=&\\mu+b_u+b_i\n",
    "\\end{align*}\n",
    "$$"
   ]
  },
  {
   "cell_type": "code",
   "execution_count": 34,
   "metadata": {
    "colab": {},
    "colab_type": "code",
    "id": "NsWY-Zr8Emvy"
   },
   "outputs": [],
   "source": [
    "alpha = beta = 25"
   ]
  },
  {
   "cell_type": "markdown",
   "metadata": {
    "colab_type": "text",
    "id": "xEGVnmj3Emvz"
   },
   "source": [
    "Так как при вычислении среднего рейтинга нам надо учитывать только известные оценки, то используем формат `masked_array`, который \"скроет\" все нули. Такой формат представляет из себя 2 поля: `data` и `mask`. В `data` хранятся все необходимые данные (в нашем случае матрица рейтингов), а в `mask` указывается, какие значения из `data` учитываются: True - значение не учитывается, False - учитывается."
   ]
  },
  {
   "cell_type": "code",
   "execution_count": 35,
   "metadata": {
    "colab": {},
    "colab_type": "code",
    "id": "4FJfPg0-Emv0"
   },
   "outputs": [],
   "source": [
    "import numpy.ma as ma"
   ]
  },
  {
   "cell_type": "code",
   "execution_count": 36,
   "metadata": {
    "colab": {},
    "colab_type": "code",
    "id": "jt23Sl0aEmv2",
    "outputId": "dce55ba7-6cae-4d4f-ffc1-d6050b05f730"
   },
   "outputs": [
    {
     "data": {
      "text/plain": [
       "masked_array(\n",
       "  data=[[8, --, --, ..., --, --, --],\n",
       "        [6, 1, --, ..., --, --, --],\n",
       "        [8, --, --, ..., --, --, --],\n",
       "        ...,\n",
       "        [--, --, --, ..., --, --, --],\n",
       "        [--, --, --, ..., --, --, --],\n",
       "        [--, --, --, ..., --, --, --]],\n",
       "  mask=[[False,  True,  True, ...,  True,  True,  True],\n",
       "        [False, False,  True, ...,  True,  True,  True],\n",
       "        [False,  True,  True, ...,  True,  True,  True],\n",
       "        ...,\n",
       "        [ True,  True,  True, ...,  True,  True,  True],\n",
       "        [ True,  True,  True, ...,  True,  True,  True],\n",
       "        [ True,  True,  True, ...,  True,  True,  True]],\n",
       "  fill_value=0,\n",
       "  dtype=int64)"
      ]
     },
     "execution_count": 36,
     "metadata": {},
     "output_type": "execute_result"
    }
   ],
   "source": [
    "train_dense_masked = ma.masked_array(train_dense, mask=train_dense == 0, fill_value=0)\n",
    "train_dense_masked"
   ]
  },
  {
   "cell_type": "markdown",
   "metadata": {
    "colab_type": "text",
    "id": "_048J-i0Emv5"
   },
   "source": [
    "Вычислим среднюю оценку. Довольно высокая :)"
   ]
  },
  {
   "cell_type": "code",
   "execution_count": 37,
   "metadata": {
    "colab": {},
    "colab_type": "code",
    "id": "IAcXg7OEEmv6",
    "outputId": "698f40de-7a67-4742-88e7-c61452f2d1ea"
   },
   "outputs": [
    {
     "data": {
      "text/plain": [
       "7.882478746623117"
      ]
     },
     "execution_count": 37,
     "metadata": {},
     "output_type": "execute_result"
    }
   ],
   "source": [
    "mu = train_dense_masked.mean()\n",
    "mu"
   ]
  },
  {
   "cell_type": "markdown",
   "metadata": {
    "colab_type": "text",
    "id": "z9dtkUXeEmv8"
   },
   "source": [
    "С учетом средней оценки вычислим \"сдвиг\" в оценке для каждого пользователя по формуле, описанной выше.\n",
    "\n",
    "Уже видно, что, например, второй пользователь в среднем ставит оценку на 3 балла меньше, чем средняя оценка всех пользователей. То есть там, где обычный пользователь поставил бы 8, он поставит 5. Именно из-за таких пользователей и следует делать поправку на предвзятость."
   ]
  },
  {
   "cell_type": "code",
   "execution_count": 38,
   "metadata": {
    "colab": {},
    "colab_type": "code",
    "id": "H0qoubucEmv8",
    "outputId": "99e1c3d8-af01-400b-e901-fcceb2867f3a"
   },
   "outputs": [
    {
     "data": {
      "text/plain": [
       "masked_array(data=[-0.13464002632911784, -3.2868801654863478,\n",
       "                   -0.3677503990118461, ..., 0.042981586668341655,\n",
       "                   0.11981638913902837, 0.08144312512988011],\n",
       "             mask=[False, False, False, ..., False, False, False],\n",
       "       fill_value=0.0)"
      ]
     },
     "execution_count": 38,
     "metadata": {},
     "output_type": "execute_result"
    }
   ],
   "source": [
    "bu = (train_dense_masked - mu).sum(1)/((~train_dense_masked.mask).sum(1) + alpha)\n",
    "bu.fill_value = 0\n",
    "assert bu.shape == (len(user_to_idx), )\n",
    "bu"
   ]
  },
  {
   "cell_type": "markdown",
   "metadata": {
    "colab_type": "text",
    "collapsed": true,
    "id": "eK0CDJLLEmwB"
   },
   "source": [
    "Так же вычислим \"сдвиг\" для аниме. Как вы помните, выше выяснили, что для нашей индексации аниме с индексом 0 - это \"Наруто\". Как видим, нулевой элемент вектора сдвига для аниме равен $\\approx{-0.09}$, то есть это насколько средняя оценка \"Наруто\" на 0.09 меньше средней оценки $\\mu$."
   ]
  },
  {
   "cell_type": "code",
   "execution_count": 39,
   "metadata": {
    "colab": {},
    "colab_type": "code",
    "id": "B5B5P6-dEmwC",
    "outputId": "32ba05f0-0311-4397-80ae-fb297dc4586f"
   },
   "outputs": [
    {
     "data": {
      "text/plain": [
       "masked_array(data=[-0.09248308250339068, 0.3791027226665885,\n",
       "                   -0.27043095731978617, ..., -0.00019449975560034908,\n",
       "                   0.03826703870593811, -0.03865603821713881],\n",
       "             mask=[False, False, False, ..., False, False, False],\n",
       "       fill_value=0.0)"
      ]
     },
     "execution_count": 39,
     "metadata": {},
     "output_type": "execute_result"
    }
   ],
   "source": [
    "bi = (train_dense_masked - bu[..., None] - mu).sum(0)/((~train_dense_masked.mask).sum(0) + beta)\n",
    "bi.fill_value = 0\n",
    "assert bi.shape == (len(anime_to_idx), )\n",
    "bi"
   ]
  },
  {
   "cell_type": "markdown",
   "metadata": {
    "colab_type": "text",
    "id": "w5WpqY-_EmwL"
   },
   "source": [
    "В итоге объединим \"сдвиги\" пользователей и \"сдвиги\" аниме в единую матрицу. Тогда значение $b_{ui}$, находящееся на пересечении строки $u$ и столбца $i$, будет равно \"сдвигу\" оценивания аниме $i$ пользователем $u$ относительно средней оценки $\\mu$."
   ]
  },
  {
   "cell_type": "code",
   "execution_count": 40,
   "metadata": {
    "colab": {},
    "colab_type": "code",
    "id": "KdDVyR-7EmwM"
   },
   "outputs": [],
   "source": [
    "B = bu[..., None] + bi  # or np.outer(bu, bi)"
   ]
  },
  {
   "cell_type": "markdown",
   "metadata": {
    "colab_type": "text",
    "id": "7mMue6TgEmwP"
   },
   "source": [
    "Сложим среднюю оценку $\\mu$ и все известные нам сдвиги $B$ в соответствии с формулой, описанной выше, и получим нашу простую рекомендательную систему. Значение $r_{ui}$, находящееся на пересечении строки $u$ и столбца $i$ матрицы baseline_predictions, оценка, которую поставит пользователь $u$ аниме $i$."
   ]
  },
  {
   "cell_type": "code",
   "execution_count": 41,
   "metadata": {
    "colab": {},
    "colab_type": "code",
    "id": "SlUlu-KLEmwP",
    "outputId": "24f5efd4-574f-4f7c-8e79-a0a650617e19"
   },
   "outputs": [
    {
     "data": {
      "text/plain": [
       "masked_array(\n",
       "  data=[[7.655355637790608, 8.126941442960588, 7.477407762974213, ...,\n",
       "         7.747644220538398, 7.786105758999938, 7.70918268207686],\n",
       "        [4.503115498633378, 4.974701303803357, 4.3251676238169825, ...,\n",
       "         4.595404081381169, 4.633865619842707, 4.55694254291963],\n",
       "        [7.42224526510788, 7.89383107027786, 7.244297390291485, ...,\n",
       "         7.51453384785567, 7.552995386317209, 7.476072309394132],\n",
       "        ...,\n",
       "        [7.832977250788068, 8.304563055958047, 7.655029375971672, ...,\n",
       "         7.925265833535859, 7.963727371997397, 7.88680429507432],\n",
       "        [7.909812053258754, 8.381397858428734, 7.731864178442359, ...,\n",
       "         8.002100636006546, 8.040562174468084, 7.963639097545006],\n",
       "        [7.8714387892496065, 8.343024594419585, 7.693490914433211, ...,\n",
       "         7.963727371997397, 8.002188910458935, 7.925265833535859]],\n",
       "  mask=[[False, False, False, ..., False, False, False],\n",
       "        [False, False, False, ..., False, False, False],\n",
       "        [False, False, False, ..., False, False, False],\n",
       "        ...,\n",
       "        [False, False, False, ..., False, False, False],\n",
       "        [False, False, False, ..., False, False, False],\n",
       "        [False, False, False, ..., False, False, False]],\n",
       "  fill_value=0.0)"
      ]
     },
     "execution_count": 41,
     "metadata": {},
     "output_type": "execute_result"
    }
   ],
   "source": [
    "baseline_predictions = mu + B\n",
    "baseline_predictions"
   ]
  },
  {
   "cell_type": "markdown",
   "metadata": {
    "colab_type": "text",
    "id": "XdzcZt-NEmwR"
   },
   "source": [
    "Посмотрим, насколько хорошо наша модель справляется. Для этого сгруппируем все оценки пользователей в train и test датасетах"
   ]
  },
  {
   "cell_type": "code",
   "execution_count": 42,
   "metadata": {
    "colab": {},
    "colab_type": "code",
    "id": "kKDpZPjEEmwS"
   },
   "outputs": [],
   "source": [
    "train_grby_user = train_data.groupby('user_id')\n",
    "dev_grby_user = dev_data.groupby('user_id')"
   ]
  },
  {
   "cell_type": "markdown",
   "metadata": {
    "colab_type": "text",
    "id": "c_BKKOF9EmwT"
   },
   "source": [
    "Выведем, какие оценки нам известны для пользователя с id 18"
   ]
  },
  {
   "cell_type": "code",
   "execution_count": 43,
   "metadata": {
    "colab": {},
    "colab_type": "code",
    "id": "PHEPyeIpEmwU",
    "outputId": "51a10ef1-fb93-454c-a7f1-2f60d611a9fc"
   },
   "outputs": [
    {
     "data": {
      "text/html": [
       "<div>\n",
       "<style scoped>\n",
       "    .dataframe tbody tr th:only-of-type {\n",
       "        vertical-align: middle;\n",
       "    }\n",
       "\n",
       "    .dataframe tbody tr th {\n",
       "        vertical-align: top;\n",
       "    }\n",
       "\n",
       "    .dataframe thead th {\n",
       "        text-align: right;\n",
       "    }\n",
       "</style>\n",
       "<table border=\"1\" class=\"dataframe\">\n",
       "  <thead>\n",
       "    <tr style=\"text-align: right;\">\n",
       "      <th></th>\n",
       "      <th>user_id</th>\n",
       "      <th>name</th>\n",
       "      <th>user_rating</th>\n",
       "    </tr>\n",
       "  </thead>\n",
       "  <tbody>\n",
       "    <tr>\n",
       "      <th>153656</th>\n",
       "      <td>18</td>\n",
       "      <td>Rosario to Vampire</td>\n",
       "      <td>10</td>\n",
       "    </tr>\n",
       "    <tr>\n",
       "      <th>184211</th>\n",
       "      <td>18</td>\n",
       "      <td>Rosario to Vampire Capu2</td>\n",
       "      <td>10</td>\n",
       "    </tr>\n",
       "    <tr>\n",
       "      <th>845175</th>\n",
       "      <td>18</td>\n",
       "      <td>Tokyo Ghoul</td>\n",
       "      <td>10</td>\n",
       "    </tr>\n",
       "    <tr>\n",
       "      <th>1176997</th>\n",
       "      <td>18</td>\n",
       "      <td>Deadman Wonderland</td>\n",
       "      <td>8</td>\n",
       "    </tr>\n",
       "    <tr>\n",
       "      <th>1212435</th>\n",
       "      <td>18</td>\n",
       "      <td>Another</td>\n",
       "      <td>10</td>\n",
       "    </tr>\n",
       "    <tr>\n",
       "      <th>1550868</th>\n",
       "      <td>18</td>\n",
       "      <td>Mirai Nikki (TV)</td>\n",
       "      <td>10</td>\n",
       "    </tr>\n",
       "    <tr>\n",
       "      <th>2546703</th>\n",
       "      <td>18</td>\n",
       "      <td>Gokukoku no Brynhildr</td>\n",
       "      <td>10</td>\n",
       "    </tr>\n",
       "    <tr>\n",
       "      <th>2777769</th>\n",
       "      <td>18</td>\n",
       "      <td>Rozen Maiden</td>\n",
       "      <td>9</td>\n",
       "    </tr>\n",
       "    <tr>\n",
       "      <th>2783593</th>\n",
       "      <td>18</td>\n",
       "      <td>Rozen Maiden: Träumend</td>\n",
       "      <td>9</td>\n",
       "    </tr>\n",
       "    <tr>\n",
       "      <th>3221776</th>\n",
       "      <td>18</td>\n",
       "      <td>Tokyo Mew Mew</td>\n",
       "      <td>9</td>\n",
       "    </tr>\n",
       "    <tr>\n",
       "      <th>3232256</th>\n",
       "      <td>18</td>\n",
       "      <td>Ouran Koukou Host Club</td>\n",
       "      <td>8</td>\n",
       "    </tr>\n",
       "    <tr>\n",
       "      <th>3302512</th>\n",
       "      <td>18</td>\n",
       "      <td>Nana</td>\n",
       "      <td>10</td>\n",
       "    </tr>\n",
       "    <tr>\n",
       "      <th>3624143</th>\n",
       "      <td>18</td>\n",
       "      <td>School Days</td>\n",
       "      <td>7</td>\n",
       "    </tr>\n",
       "    <tr>\n",
       "      <th>3820120</th>\n",
       "      <td>18</td>\n",
       "      <td>Vampire Knight</td>\n",
       "      <td>9</td>\n",
       "    </tr>\n",
       "  </tbody>\n",
       "</table>\n",
       "</div>"
      ],
      "text/plain": [
       "         user_id                      name  user_rating\n",
       "153656        18        Rosario to Vampire           10\n",
       "184211        18  Rosario to Vampire Capu2           10\n",
       "845175        18               Tokyo Ghoul           10\n",
       "1176997       18        Deadman Wonderland            8\n",
       "1212435       18                   Another           10\n",
       "1550868       18          Mirai Nikki (TV)           10\n",
       "2546703       18     Gokukoku no Brynhildr           10\n",
       "2777769       18              Rozen Maiden            9\n",
       "2783593       18    Rozen Maiden: Träumend            9\n",
       "3221776       18             Tokyo Mew Mew            9\n",
       "3232256       18    Ouran Koukou Host Club            8\n",
       "3302512       18                      Nana           10\n",
       "3624143       18               School Days            7\n",
       "3820120       18            Vampire Knight            9"
      ]
     },
     "execution_count": 43,
     "metadata": {},
     "output_type": "execute_result"
    }
   ],
   "source": [
    "# 16, 18, 19, 20\n",
    "user = 18\n",
    "train_grby_user.get_group(user)"
   ]
  },
  {
   "cell_type": "markdown",
   "metadata": {
    "colab_type": "text",
    "id": "rhBreoSwEmwW"
   },
   "source": [
    "Так же посмотрим, что он еще посмотрел и поставил оценки, но нам о них ничего не было известно на момент построения baseline prediction, так как они в тестовой выборке"
   ]
  },
  {
   "cell_type": "code",
   "execution_count": 44,
   "metadata": {
    "colab": {},
    "colab_type": "code",
    "id": "p6m8zCvqEmwX",
    "outputId": "9d9a230b-7cff-4da4-b478-4a94b5885269"
   },
   "outputs": [
    {
     "data": {
      "text/html": [
       "<div>\n",
       "<style scoped>\n",
       "    .dataframe tbody tr th:only-of-type {\n",
       "        vertical-align: middle;\n",
       "    }\n",
       "\n",
       "    .dataframe tbody tr th {\n",
       "        vertical-align: top;\n",
       "    }\n",
       "\n",
       "    .dataframe thead th {\n",
       "        text-align: right;\n",
       "    }\n",
       "</style>\n",
       "<table border=\"1\" class=\"dataframe\">\n",
       "  <thead>\n",
       "    <tr style=\"text-align: right;\">\n",
       "      <th></th>\n",
       "      <th>user_id</th>\n",
       "      <th>name</th>\n",
       "      <th>user_rating</th>\n",
       "    </tr>\n",
       "  </thead>\n",
       "  <tbody>\n",
       "    <tr>\n",
       "      <th>938631</th>\n",
       "      <td>18</td>\n",
       "      <td>Tokyo Ghoul √A</td>\n",
       "      <td>7</td>\n",
       "    </tr>\n",
       "    <tr>\n",
       "      <th>1072362</th>\n",
       "      <td>18</td>\n",
       "      <td>Death Note</td>\n",
       "      <td>10</td>\n",
       "    </tr>\n",
       "  </tbody>\n",
       "</table>\n",
       "</div>"
      ],
      "text/plain": [
       "         user_id            name  user_rating\n",
       "938631        18  Tokyo Ghoul √A            7\n",
       "1072362       18      Death Note           10"
      ]
     },
     "execution_count": 44,
     "metadata": {},
     "output_type": "execute_result"
    }
   ],
   "source": [
    "dev_grby_user.get_group(user)"
   ]
  },
  {
   "cell_type": "markdown",
   "metadata": {
    "colab_type": "text",
    "id": "UvC90_9rEmwa"
   },
   "source": [
    "Напишем небольшую функцию, которая вернет `top_k` аниме, которые должны понравиться пользователю с id `user`, а так же их прогнозируемые оценки"
   ]
  },
  {
   "cell_type": "code",
   "execution_count": 45,
   "metadata": {
    "colab": {},
    "colab_type": "code",
    "id": "r87JRU4OEmwb"
   },
   "outputs": [],
   "source": [
    "def line_on_baseline(user, top_k=10):\n",
    "    # отсортируем все рейтинги по убыванию\n",
    "    ratings = baseline_predictions[user_to_idx[user]]\n",
    "        \n",
    "    anime_to_line_on = []\n",
    "    for anime_idx in np.argsort(ratings)[::-1]:\n",
    "        # пропустим аниме, которые пользователь уже смотрел\n",
    "        if ma.is_masked(ratings[anime_idx]):\n",
    "            continue\n",
    "\n",
    "        # если нашли аниме, которое пользователь не смотрел, то добавим его в список\n",
    "        if idx_to_anime[anime_idx] not in train_grby_user.get_group(user).name.values:\n",
    "            anime_to_line_on.append((idx_to_anime[anime_idx], ratings[anime_idx]))\n",
    "\n",
    "        # если список аниме, которые понравятся, уже содержит top_k фильмов, то прекратим поиск\n",
    "        if len(anime_to_line_on) == top_k:\n",
    "            break\n",
    "            \n",
    "    return anime_to_line_on"
   ]
  },
  {
   "cell_type": "code",
   "execution_count": 46,
   "metadata": {
    "colab": {},
    "colab_type": "code",
    "id": "LYp1k3faEmwc",
    "outputId": "d90c69bd-fc33-43fa-863b-a0e29b758e29"
   },
   "outputs": [
    {
     "data": {
      "text/html": [
       "<div>\n",
       "<style scoped>\n",
       "    .dataframe tbody tr th:only-of-type {\n",
       "        vertical-align: middle;\n",
       "    }\n",
       "\n",
       "    .dataframe tbody tr th {\n",
       "        vertical-align: top;\n",
       "    }\n",
       "\n",
       "    .dataframe thead th {\n",
       "        text-align: right;\n",
       "    }\n",
       "</style>\n",
       "<table border=\"1\" class=\"dataframe\">\n",
       "  <thead>\n",
       "    <tr style=\"text-align: right;\">\n",
       "      <th></th>\n",
       "      <th>user_id</th>\n",
       "      <th>name</th>\n",
       "      <th>user_rating</th>\n",
       "    </tr>\n",
       "  </thead>\n",
       "  <tbody>\n",
       "    <tr>\n",
       "      <th>3175327</th>\n",
       "      <td>16</td>\n",
       "      <td>D.N.Angel</td>\n",
       "      <td>8</td>\n",
       "    </tr>\n",
       "  </tbody>\n",
       "</table>\n",
       "</div>"
      ],
      "text/plain": [
       "         user_id       name  user_rating\n",
       "3175327       16  D.N.Angel            8"
      ]
     },
     "execution_count": 46,
     "metadata": {},
     "output_type": "execute_result"
    }
   ],
   "source": [
    "dev_grby_user.get_group(16)"
   ]
  },
  {
   "cell_type": "code",
   "execution_count": 47,
   "metadata": {
    "colab": {},
    "colab_type": "code",
    "id": "x0DXWDayEmwe",
    "outputId": "cfa5f669-7222-4290-d9d5-b00e2e96fda0",
    "scrolled": false
   },
   "outputs": [
    {
     "data": {
      "text/plain": [
       "[('Gintama°', 9.517293177777349),\n",
       " ('Fullmetal Alchemist: Brotherhood', 9.415267932577757),\n",
       " ('Steins;Gate', 9.400509506491034),\n",
       " ('Gintama&#039;', 9.398658108811711),\n",
       " ('Gintama', 9.322705265060955),\n",
       " ('Hunter x Hunter (2011)', 9.284404659676813),\n",
       " ('Gintama&#039;: Enchousen', 9.271041719346366),\n",
       " ('Code Geass: Hangyaku no Lelouch R2', 9.118341885917944),\n",
       " ('Mushishi Zoku Shou 2nd Season', 9.116008279199168),\n",
       " ('Yojouhan Shinwa Taikei', 9.088799005098704)]"
      ]
     },
     "execution_count": 47,
     "metadata": {},
     "output_type": "execute_result"
    }
   ],
   "source": [
    "line_on_baseline(16)"
   ]
  },
  {
   "cell_type": "code",
   "execution_count": 48,
   "metadata": {
    "colab": {},
    "colab_type": "code",
    "id": "EYnfhd3vEmwg",
    "outputId": "842c4b50-4381-43b0-e597-ace8ebab96b7"
   },
   "outputs": [
    {
     "data": {
      "text/html": [
       "<div>\n",
       "<style scoped>\n",
       "    .dataframe tbody tr th:only-of-type {\n",
       "        vertical-align: middle;\n",
       "    }\n",
       "\n",
       "    .dataframe tbody tr th {\n",
       "        vertical-align: top;\n",
       "    }\n",
       "\n",
       "    .dataframe thead th {\n",
       "        text-align: right;\n",
       "    }\n",
       "</style>\n",
       "<table border=\"1\" class=\"dataframe\">\n",
       "  <thead>\n",
       "    <tr style=\"text-align: right;\">\n",
       "      <th></th>\n",
       "      <th>user_id</th>\n",
       "      <th>name</th>\n",
       "      <th>user_rating</th>\n",
       "    </tr>\n",
       "  </thead>\n",
       "  <tbody>\n",
       "    <tr>\n",
       "      <th>938631</th>\n",
       "      <td>18</td>\n",
       "      <td>Tokyo Ghoul √A</td>\n",
       "      <td>7</td>\n",
       "    </tr>\n",
       "    <tr>\n",
       "      <th>1072362</th>\n",
       "      <td>18</td>\n",
       "      <td>Death Note</td>\n",
       "      <td>10</td>\n",
       "    </tr>\n",
       "  </tbody>\n",
       "</table>\n",
       "</div>"
      ],
      "text/plain": [
       "         user_id            name  user_rating\n",
       "938631        18  Tokyo Ghoul √A            7\n",
       "1072362       18      Death Note           10"
      ]
     },
     "execution_count": 48,
     "metadata": {},
     "output_type": "execute_result"
    }
   ],
   "source": [
    "dev_grby_user.get_group(18)"
   ]
  },
  {
   "cell_type": "code",
   "execution_count": 49,
   "metadata": {
    "colab": {},
    "colab_type": "code",
    "id": "TRM5j_9lEmwi",
    "outputId": "60b38db1-b248-4f4f-a62d-586dc1609dd9"
   },
   "outputs": [
    {
     "data": {
      "text/plain": [
       "[('Gintama°', 9.875857487682541),\n",
       " ('Fullmetal Alchemist: Brotherhood', 9.77383224248295),\n",
       " ('Steins;Gate', 9.759073816396226),\n",
       " ('Gintama&#039;', 9.757222418716902),\n",
       " ('Gintama', 9.681269574966148),\n",
       " ('Hunter x Hunter (2011)', 9.642968969582004),\n",
       " ('Gintama&#039;: Enchousen', 9.629606029251557),\n",
       " ('Clannad: After Story', 9.561415013137832),\n",
       " ('Code Geass: Hangyaku no Lelouch R2', 9.476906195823135),\n",
       " ('Mushishi Zoku Shou 2nd Season', 9.474572589104358)]"
      ]
     },
     "execution_count": 49,
     "metadata": {},
     "output_type": "execute_result"
    }
   ],
   "source": [
    "line_on_baseline(18)"
   ]
  },
  {
   "cell_type": "markdown",
   "metadata": {
    "colab_type": "text",
    "id": "MNLb-Zn2Emwk"
   },
   "source": [
    "## Использование схожести пользователей"
   ]
  },
  {
   "cell_type": "markdown",
   "metadata": {
    "colab_type": "text",
    "id": "TPcqylx_Emwl"
   },
   "source": [
    "До этого мы считали рейтинг пользователей отталкиваясь от среднего рейтинга всех пользователей. Поэтому даже если пользователю $u$ нравится только жанр ужасы, мы при вычислении его оценок так же учитывали оценки тех пользователей, кто больше любит жанр комедии, что неправильно. Поэтому модефицируем наш простой алгоритм: во-первых, будем учитывать только $N$ похожих пользователей (множество $U_{sim}$); во-вторых, каждый рейтинг будем учитывать с весом равным схожести пользователей.\n",
    "$$\n",
    "\\hat{r}_{ui}=\\frac{\\sum_{u^\\prime \\in U_{sim}}sim(u,u^\\prime)r_{u^\\prime{}i}}{\\sum_{u^\\prime \\in U_{sim}}|sim(u,u^\\prime)|}\n",
    "$$\n",
    "Немного улучшим алгоритм, используя уже знакомый вам подход: усредним не оценки похожих пользователей, а их \"сдвиги\" в оценках, и добавим это к средней оценке пользователя $u$.\n",
    "$$\n",
    "\\hat{r}_{ui}=\\bar{r}_u+\\frac{\\sum_{u^\\prime}sim(u,u^\\prime)(r_{u^\\prime{}i}-\\bar{r}_{u^\\prime})}{\\sum_{u^\\prime}|sim(u,u^\\prime)|}\n",
    "$$\n",
    "Здесь $\\bar{r}_u$ - средний рейтинг пользователя $u$.\n",
    "\n",
    "Используем косинусную близость:\n",
    "$$\n",
    "{\\displaystyle {\\text{similarity}}=\\cos(\\theta )={\\mathbf {A} \\cdot \\mathbf {B}  \\over \\|\\mathbf {A} \\|\\|\\mathbf {B} \\|}={\\frac {\\sum \\limits _{i=1}^{n}{A_{i}B_{i}}}{{\\sqrt {\\sum \\limits _{i=1}^{n}{A_{i}^{2}}}}{\\sqrt {\\sum \\limits _{i=1}^{n}{B_{i}^{2}}}}}},}\n",
    "$$\n",
    "Для облегчения задачи нормализуем вектора рейтингов для каждого пользователя.\n",
    "$$\n",
    "R^\\prime=r_{ui}-\\mu-b_u-b_i.\n",
    "$$"
   ]
  },
  {
   "cell_type": "code",
   "execution_count": 50,
   "metadata": {
    "colab": {},
    "colab_type": "code",
    "id": "HRyoRvG7Emwl",
    "outputId": "ff8568a4-1bef-4b00-cd81-842b0d855446"
   },
   "outputs": [
    {
     "data": {
      "text/plain": [
       "masked_array(\n",
       "  data=[[0.344644362209392, --, --, ..., --, --, --],\n",
       "        [1.4968845013666217, -3.974701303803357, --, ..., --, --, --],\n",
       "        [0.5777547348921201, --, --, ..., --, --, --],\n",
       "        ...,\n",
       "        [--, --, --, ..., --, --, --],\n",
       "        [--, --, --, ..., --, --, --],\n",
       "        [--, --, --, ..., --, --, --]],\n",
       "  mask=[[False,  True,  True, ...,  True,  True,  True],\n",
       "        [False, False,  True, ...,  True,  True,  True],\n",
       "        [False,  True,  True, ...,  True,  True,  True],\n",
       "        ...,\n",
       "        [ True,  True,  True, ...,  True,  True,  True],\n",
       "        [ True,  True,  True, ...,  True,  True,  True],\n",
       "        [ True,  True,  True, ...,  True,  True,  True]],\n",
       "  fill_value=0)"
      ]
     },
     "execution_count": 50,
     "metadata": {},
     "output_type": "execute_result"
    }
   ],
   "source": [
    "train_norm = train_dense_masked - baseline_predictions\n",
    "train_norm"
   ]
  },
  {
   "cell_type": "markdown",
   "metadata": {
    "colab_type": "text",
    "id": "QJDAOhd1Emwo"
   },
   "source": [
    "Вычислим косинусную близость между пользователями и между аниме. Стоит помнить, что функция `cosine_similarity` вычисляет косинусную близость между всеми строками данной матрицы. В `train_norm` в строках лежат данные о пользователях, поэтому `cosine_similarity(train_norm)` даст нам матрицу косинусной близости между всеми пользователями. Для того, чтобы получить в строчках инфорацию об аниме, транспонируем матрицу `train_norm`: `train_norm.T`, и вызовем функцию для неё: `cosine_similarity(train_norm.T)`."
   ]
  },
  {
   "cell_type": "code",
   "execution_count": 51,
   "metadata": {
    "colab": {},
    "colab_type": "code",
    "id": "n4KRN6UgEmwp"
   },
   "outputs": [],
   "source": [
    "from sklearn.metrics.pairwise import cosine_similarity"
   ]
  },
  {
   "cell_type": "code",
   "execution_count": 52,
   "metadata": {
    "colab": {},
    "colab_type": "code",
    "id": "GG8-CZ85Emwr"
   },
   "outputs": [],
   "source": [
    "user_similarities = cosine_similarity(train_norm)\n",
    "item_similarities = cosine_similarity(train_norm.T)"
   ]
  },
  {
   "cell_type": "code",
   "execution_count": 53,
   "metadata": {
    "colab": {},
    "colab_type": "code",
    "id": "WgpXinzQEmws"
   },
   "outputs": [],
   "source": [
    "assert user_similarities.shape == (len(user_to_idx), len(user_to_idx))\n",
    "assert item_similarities.shape == (len(anime_to_idx), len(anime_to_idx))"
   ]
  },
  {
   "cell_type": "markdown",
   "metadata": {
    "colab_type": "text",
    "id": "E-HYOXB9Emwu"
   },
   "source": [
    "Напишем функцию, которая возвращает `top_k` аниме, похожих на `anime_name`. Заметим, что они будут похожи не по жанру, а по аудитории."
   ]
  },
  {
   "cell_type": "code",
   "execution_count": 54,
   "metadata": {
    "colab": {},
    "colab_type": "code",
    "id": "YhC0OdgJEmwu"
   },
   "outputs": [],
   "source": [
    "def top_anime(anime_name, top_k=10):\n",
    "    # найдем индекс аниме\n",
    "    anime_idx = anime_to_idx[anime_name]\n",
    "    \n",
    "    print('Top {} to: {}'.format(top_k, anime_name))\n",
    "    # выведем top_k похожих аниме, при этом стоит помнить, что \"самое похожее\" аниме на anime_name и есть само anime_name\n",
    "    for i, j in enumerate(np.argsort(item_similarities[anime_idx])[::-1][1:top_k + 1]):\n",
    "        print('#{}: {}'.format(i + 1, idx_to_anime[j]))"
   ]
  },
  {
   "cell_type": "code",
   "execution_count": 55,
   "metadata": {
    "colab": {},
    "colab_type": "code",
    "id": "tlAo9pc5Emwv",
    "outputId": "450fcb5f-9368-4683-9f66-8fdaf09c3ec8"
   },
   "outputs": [
    {
     "name": "stdout",
     "output_type": "stream",
     "text": [
      "Top 10 to: Naruto\n",
      "#1: Bleach\n",
      "#2: Dragon Ball GT\n",
      "#3: Dragon Ball Z\n",
      "#4: Yu☆Gi☆Oh! Duel Monsters\n",
      "#5: Death Note\n",
      "#6: Sword Art Online\n",
      "#7: Hello! Lady Lynn\n",
      "#8: Fairy Tail\n",
      "#9: Pokemon Advanced Generation\n",
      "#10: Fullmetal Alchemist\n"
     ]
    }
   ],
   "source": [
    "top_anime('Naruto')"
   ]
  },
  {
   "cell_type": "code",
   "execution_count": 62,
   "metadata": {
    "colab": {},
    "colab_type": "code",
    "id": "aUbuhzvtEmwy",
    "outputId": "b392d696-a328-4dc1-b998-29c460d23f2e",
    "scrolled": true
   },
   "outputs": [
    {
     "name": "stdout",
     "output_type": "stream",
     "text": [
      "Top 10 to: Bleach\n",
      "#1: Fairy Tail\n",
      "#2: Naruto\n",
      "#3: Fairy Tail (2014)\n",
      "#4: Sword Art Online\n",
      "#5: Metal Fight Beyblade: Baku\n",
      "#6: Ao no Exorcist\n",
      "#7: Sword Art Online II\n",
      "#8: Dragon Ball GT\n",
      "#9: InuYasha\n",
      "#10: Kuroko no Basket 3rd Season\n"
     ]
    }
   ],
   "source": [
    "top_anime('Bleach')"
   ]
  },
  {
   "cell_type": "code",
   "execution_count": 63,
   "metadata": {
    "colab": {},
    "colab_type": "code",
    "id": "1FNETPxXEmwz",
    "outputId": "6b677af3-9e14-4bcf-92f7-f0f9f9fc0b6c"
   },
   "outputs": [
    {
     "name": "stdout",
     "output_type": "stream",
     "text": [
      "Top 10 to: Cowboy Bebop\n",
      "#1: Neon Genesis Evangelion\n",
      "#2: Bakkyuu HIT! Crash Bedaman\n",
      "#3: Nar Doma\n",
      "#4: Samurai Champloo\n",
      "#5: Ghost in the Shell: Stand Alone Complex\n",
      "#6: Baccano!\n",
      "#7: Michiko to Hatchin\n",
      "#8: Monster\n",
      "#9: Trigun\n",
      "#10: Wolf&#039;s Rain\n"
     ]
    }
   ],
   "source": [
    "top_anime('Cowboy Bebop')"
   ]
  },
  {
   "cell_type": "code",
   "execution_count": 64,
   "metadata": {
    "colab": {},
    "colab_type": "code",
    "id": "ySKWsscGEmw1",
    "outputId": "304c8cba-826e-4011-e17c-07b786860f74"
   },
   "outputs": [
    {
     "name": "stdout",
     "output_type": "stream",
     "text": [
      "Top 10 to: Samurai Champloo\n",
      "#1: Cowboy Bebop\n",
      "#2: Trigun\n",
      "#3: Sayonara Zetsubou Sensei\n",
      "#4: Ghost in the Shell: Stand Alone Complex 2nd GIG\n",
      "#5: Great Teacher Onizuka\n",
      "#6: Cardfight!! Vanguard: Asia Circuit-hen\n",
      "#7: Katanagatari\n",
      "#8: Tetsuwan Birdy Decode:02\n",
      "#9: Ghost in the Shell: Stand Alone Complex\n",
      "#10: Michiko to Hatchin\n"
     ]
    }
   ],
   "source": [
    "top_anime('Samurai Champloo')"
   ]
  },
  {
   "cell_type": "code",
   "execution_count": 66,
   "metadata": {
    "colab": {},
    "colab_type": "code",
    "id": "RhCg-L0_Emw3",
    "outputId": "04018942-32b1-46eb-c8dd-7e563bab1713"
   },
   "outputs": [
    {
     "data": {
      "text/plain": [
       "masked_array(\n",
       "  data=[[0.344644362209392, --, --, ..., --, --, --],\n",
       "        [1.4968845013666217, -3.974701303803357, --, ..., --, --, --],\n",
       "        [0.5777547348921201, --, --, ..., --, --, --],\n",
       "        ...,\n",
       "        [--, --, --, ..., --, --, --],\n",
       "        [--, --, --, ..., --, --, --],\n",
       "        [--, --, --, ..., --, --, --]],\n",
       "  mask=[[False,  True,  True, ...,  True,  True,  True],\n",
       "        [False, False,  True, ...,  True,  True,  True],\n",
       "        [False,  True,  True, ...,  True,  True,  True],\n",
       "        ...,\n",
       "        [ True,  True,  True, ...,  True,  True,  True],\n",
       "        [ True,  True,  True, ...,  True,  True,  True],\n",
       "        [ True,  True,  True, ...,  True,  True,  True]],\n",
       "  fill_value=0)"
      ]
     },
     "execution_count": 66,
     "metadata": {},
     "output_type": "execute_result"
    }
   ],
   "source": [
    "train_norm"
   ]
  },
  {
   "cell_type": "markdown",
   "metadata": {
    "colab_type": "text",
    "id": "Biownq7IEmw5"
   },
   "source": [
    "Использую матрицу близости пользователей найдем самых близких $N$ и по ним определим рейтинг."
   ]
  },
  {
   "cell_type": "markdown",
   "metadata": {},
   "source": [
    "$$\n",
    "\\hat{r}_{ui}=\\bar{r}_u+\\frac{\\sum_{u^\\prime}sim(u,u^\\prime)(r_{u^\\prime{}i}-\\bar{r}_{u^\\prime})}{\\sum_{u^\\prime}|sim(u,u^\\prime)|}\n",
    "$$"
   ]
  },
  {
   "cell_type": "code",
   "execution_count": 71,
   "metadata": {
    "colab": {},
    "colab_type": "code",
    "id": "VSHMKxHBEmw6"
   },
   "outputs": [],
   "source": [
    "def predicted_rating(item_name, user_id, N=50):\n",
    "    item_idx = anime_to_idx[item_name]\n",
    "    user_idx = user_to_idx[user_id]\n",
    "    \n",
    "    sim_users = np.argsort(user_similarities[user_idx])[::-1][1:N + 1]\n",
    "    user_values = user_similarities[user_idx][sim_users]\n",
    "    \n",
    "    b = train_norm[sim_users].mean(1)\n",
    "    \n",
    "    return train_norm[user_idx].mean() + ((train_norm[sim_users, item_idx] - b)*user_values).sum()/np.abs(user_values).sum()"
   ]
  },
  {
   "cell_type": "code",
   "execution_count": 72,
   "metadata": {
    "colab": {},
    "colab_type": "code",
    "id": "JNilv98UEmw7"
   },
   "outputs": [],
   "source": [
    "from tqdm import tqdm\n",
    "\n",
    "def line_on_user_user(user, top_k=10, N=50):\n",
    "    ratings = []\n",
    "    for anime in tqdm(anime_to_idx):\n",
    "        ratings.append(predicted_rating(anime, user, N))\n",
    "        \n",
    "    anime_to_line_on = []\n",
    "    for anime_idx in np.argsort(ratings)[::-1]:\n",
    "        if len(anime_to_line_on) == top_k:\n",
    "            break\n",
    "        if ma.is_masked(ratings[anime_idx]):\n",
    "            continue\n",
    "        if idx_to_anime[anime_idx] not in train_grby_user.get_group(user).name.values:\n",
    "            anime_to_line_on.append((idx_to_anime[anime_idx], ratings[anime_idx]))\n",
    "            \n",
    "    return anime_to_line_on"
   ]
  },
  {
   "cell_type": "code",
   "execution_count": 73,
   "metadata": {
    "colab": {},
    "colab_type": "code",
    "id": "GoK8PkJpEmw8"
   },
   "outputs": [],
   "source": [
    "user = 18"
   ]
  },
  {
   "cell_type": "code",
   "execution_count": 74,
   "metadata": {
    "colab": {},
    "colab_type": "code",
    "id": "ArLO1ukXEmw-",
    "outputId": "16b43f64-5335-4b4c-a70a-59cd10a91c42"
   },
   "outputs": [
    {
     "data": {
      "text/html": [
       "<div>\n",
       "<style scoped>\n",
       "    .dataframe tbody tr th:only-of-type {\n",
       "        vertical-align: middle;\n",
       "    }\n",
       "\n",
       "    .dataframe tbody tr th {\n",
       "        vertical-align: top;\n",
       "    }\n",
       "\n",
       "    .dataframe thead th {\n",
       "        text-align: right;\n",
       "    }\n",
       "</style>\n",
       "<table border=\"1\" class=\"dataframe\">\n",
       "  <thead>\n",
       "    <tr style=\"text-align: right;\">\n",
       "      <th></th>\n",
       "      <th>user_id</th>\n",
       "      <th>name</th>\n",
       "      <th>user_rating</th>\n",
       "    </tr>\n",
       "  </thead>\n",
       "  <tbody>\n",
       "    <tr>\n",
       "      <th>153656</th>\n",
       "      <td>18</td>\n",
       "      <td>Rosario to Vampire</td>\n",
       "      <td>10</td>\n",
       "    </tr>\n",
       "    <tr>\n",
       "      <th>184211</th>\n",
       "      <td>18</td>\n",
       "      <td>Rosario to Vampire Capu2</td>\n",
       "      <td>10</td>\n",
       "    </tr>\n",
       "    <tr>\n",
       "      <th>845175</th>\n",
       "      <td>18</td>\n",
       "      <td>Tokyo Ghoul</td>\n",
       "      <td>10</td>\n",
       "    </tr>\n",
       "    <tr>\n",
       "      <th>1176997</th>\n",
       "      <td>18</td>\n",
       "      <td>Deadman Wonderland</td>\n",
       "      <td>8</td>\n",
       "    </tr>\n",
       "    <tr>\n",
       "      <th>1212435</th>\n",
       "      <td>18</td>\n",
       "      <td>Another</td>\n",
       "      <td>10</td>\n",
       "    </tr>\n",
       "    <tr>\n",
       "      <th>1550868</th>\n",
       "      <td>18</td>\n",
       "      <td>Mirai Nikki (TV)</td>\n",
       "      <td>10</td>\n",
       "    </tr>\n",
       "    <tr>\n",
       "      <th>2546703</th>\n",
       "      <td>18</td>\n",
       "      <td>Gokukoku no Brynhildr</td>\n",
       "      <td>10</td>\n",
       "    </tr>\n",
       "    <tr>\n",
       "      <th>2777769</th>\n",
       "      <td>18</td>\n",
       "      <td>Rozen Maiden</td>\n",
       "      <td>9</td>\n",
       "    </tr>\n",
       "    <tr>\n",
       "      <th>2783593</th>\n",
       "      <td>18</td>\n",
       "      <td>Rozen Maiden: Träumend</td>\n",
       "      <td>9</td>\n",
       "    </tr>\n",
       "    <tr>\n",
       "      <th>3221776</th>\n",
       "      <td>18</td>\n",
       "      <td>Tokyo Mew Mew</td>\n",
       "      <td>9</td>\n",
       "    </tr>\n",
       "    <tr>\n",
       "      <th>3232256</th>\n",
       "      <td>18</td>\n",
       "      <td>Ouran Koukou Host Club</td>\n",
       "      <td>8</td>\n",
       "    </tr>\n",
       "    <tr>\n",
       "      <th>3302512</th>\n",
       "      <td>18</td>\n",
       "      <td>Nana</td>\n",
       "      <td>10</td>\n",
       "    </tr>\n",
       "    <tr>\n",
       "      <th>3624143</th>\n",
       "      <td>18</td>\n",
       "      <td>School Days</td>\n",
       "      <td>7</td>\n",
       "    </tr>\n",
       "    <tr>\n",
       "      <th>3820120</th>\n",
       "      <td>18</td>\n",
       "      <td>Vampire Knight</td>\n",
       "      <td>9</td>\n",
       "    </tr>\n",
       "  </tbody>\n",
       "</table>\n",
       "</div>"
      ],
      "text/plain": [
       "         user_id                      name  user_rating\n",
       "153656        18        Rosario to Vampire           10\n",
       "184211        18  Rosario to Vampire Capu2           10\n",
       "845175        18               Tokyo Ghoul           10\n",
       "1176997       18        Deadman Wonderland            8\n",
       "1212435       18                   Another           10\n",
       "1550868       18          Mirai Nikki (TV)           10\n",
       "2546703       18     Gokukoku no Brynhildr           10\n",
       "2777769       18              Rozen Maiden            9\n",
       "2783593       18    Rozen Maiden: Träumend            9\n",
       "3221776       18             Tokyo Mew Mew            9\n",
       "3232256       18    Ouran Koukou Host Club            8\n",
       "3302512       18                      Nana           10\n",
       "3624143       18               School Days            7\n",
       "3820120       18            Vampire Knight            9"
      ]
     },
     "execution_count": 74,
     "metadata": {},
     "output_type": "execute_result"
    }
   ],
   "source": [
    "train_grby_user.get_group(user)"
   ]
  },
  {
   "cell_type": "code",
   "execution_count": 75,
   "metadata": {
    "colab": {},
    "colab_type": "code",
    "id": "tiEbuj8kEmw_",
    "outputId": "3fe03c4b-cac9-4cee-aee9-363b6e1b62c1",
    "scrolled": true
   },
   "outputs": [
    {
     "data": {
      "text/html": [
       "<div>\n",
       "<style scoped>\n",
       "    .dataframe tbody tr th:only-of-type {\n",
       "        vertical-align: middle;\n",
       "    }\n",
       "\n",
       "    .dataframe tbody tr th {\n",
       "        vertical-align: top;\n",
       "    }\n",
       "\n",
       "    .dataframe thead th {\n",
       "        text-align: right;\n",
       "    }\n",
       "</style>\n",
       "<table border=\"1\" class=\"dataframe\">\n",
       "  <thead>\n",
       "    <tr style=\"text-align: right;\">\n",
       "      <th></th>\n",
       "      <th>user_id</th>\n",
       "      <th>name</th>\n",
       "      <th>user_rating</th>\n",
       "    </tr>\n",
       "  </thead>\n",
       "  <tbody>\n",
       "    <tr>\n",
       "      <th>938631</th>\n",
       "      <td>18</td>\n",
       "      <td>Tokyo Ghoul √A</td>\n",
       "      <td>7</td>\n",
       "    </tr>\n",
       "    <tr>\n",
       "      <th>1072362</th>\n",
       "      <td>18</td>\n",
       "      <td>Death Note</td>\n",
       "      <td>10</td>\n",
       "    </tr>\n",
       "  </tbody>\n",
       "</table>\n",
       "</div>"
      ],
      "text/plain": [
       "         user_id            name  user_rating\n",
       "938631        18  Tokyo Ghoul √A            7\n",
       "1072362       18      Death Note           10"
      ]
     },
     "execution_count": 75,
     "metadata": {},
     "output_type": "execute_result"
    }
   ],
   "source": [
    "dev_grby_user.get_group(user)"
   ]
  },
  {
   "cell_type": "code",
   "execution_count": 76,
   "metadata": {
    "colab": {},
    "colab_type": "code",
    "id": "_IhBLzgsEmxB",
    "outputId": "b4603f23-b3b3-4d7c-95f7-e01b1654e4c3"
   },
   "outputs": [
    {
     "name": "stderr",
     "output_type": "stream",
     "text": [
      "100%|██████████| 2708/2708 [00:07<00:00, 347.62it/s]\n",
      "D:\\Programs\\Anaconda\\lib\\site-packages\\numpy\\core\\fromnumeric.py:43: UserWarning: Warning: converting a masked element to nan.\n",
      "  result = getattr(asarray(obj), method)(*args, **kwds)\n"
     ]
    },
    {
     "data": {
      "text/plain": [
       "[('Kanokon', 1.0771953731405717),\n",
       " ('Sword Art Online', 1.065848213424886),\n",
       " ('Mahoromatic: Automatic Maiden', 1.0636573611792608),\n",
       " ('Akame ga Kill!', 1.0607028847003495),\n",
       " ('Highschool of the Dead', 1.057949830724839),\n",
       " ('D.N.Angel', 1.0546857894641803),\n",
       " ('Tokyo Ghoul √A', 1.053463795791305),\n",
       " ('IS: Infinite Stratos', 1.0497164924789506),\n",
       " ('IS: Infinite Stratos 2', 1.0483849675314254),\n",
       " ('Amnesia', 1.0454062338118364)]"
      ]
     },
     "execution_count": 76,
     "metadata": {},
     "output_type": "execute_result"
    }
   ],
   "source": [
    "top_k = 10\n",
    "line_on_user_user(user, top_k=top_k)  # with N=1000 ok!"
   ]
  },
  {
   "cell_type": "markdown",
   "metadata": {
    "colab_type": "text",
    "id": "HSetCLCkEmxC"
   },
   "source": [
    "## Латентные признаки: SVD"
   ]
  },
  {
   "cell_type": "markdown",
   "metadata": {
    "colab_type": "text",
    "id": "hnpPukqKEmxD"
   },
   "source": [
    "Как было сказано на лекции, мы можем использовать для предсказания знания о пользователе, которые он сам сообщил. Это может быть пол, возраст, любимые фильмы и тд. Но что делать, если пользователь ничего не указал? В этом случае нам могут помочь латентные (скрытые) признаки. Рассмотрим пример.\n",
    "<table>\n",
    "<tr>\n",
    "<td></td>\n",
    "<td>Титаник</td>\n",
    "<td>Дневник памяти</td>\n",
    "<td>Трансформеры</td>\n",
    "<td>Youtube Rewind 2018</td>\n",
    "<td>Форсаж</td>\n",
    "</tr>\n",
    "<tr>\n",
    "<td>User 1</td>\n",
    "<td>5</td>\n",
    "<td>5</td>\n",
    "<td>1</td>\n",
    "<td>0</td>\n",
    "<td>1</td>\n",
    "</tr>\n",
    "<tr>\n",
    "<td>User 2</td>\n",
    "<td>1</td>\n",
    "<td>1</td>\n",
    "<td>5</td>\n",
    "<td>0</td>\n",
    "<td>5</td>\n",
    "</tr>\n",
    "</table>\n",
    "Видно, что User 1 предпочитает больше мелодраммы, тогда как User 2 любит больше экшн фильмы, хотя ни тот, ни другой нигде это не указали. Это и есть латентные признаки.\n",
    "\n",
    "Один из способов \"достать\" такие признаки - разложение (факторизация) матрицы\n",
    "$$\n",
    "R=UI^T,\n",
    "$$\n",
    "где $R\\in\\mathbb{R}^{u\\times{}i}$, $U\\in\\mathbb{R}^{u\\times{}k}$ и $I\\in\\mathbb{R}^{i\\times{}k}$, где $k$ небольшое значение. Такого разложения можно добиться, используя `SVD` разложение."
   ]
  },
  {
   "cell_type": "code",
   "execution_count": 77,
   "metadata": {
    "colab": {},
    "colab_type": "code",
    "id": "NbMUDSO6EmxD"
   },
   "outputs": [],
   "source": [
    "u, s, vt = scp.linalg.svds(scp.csr_matrix(train_norm.data), k=100)\n",
    "u = u.dot(np.diag(s))"
   ]
  },
  {
   "cell_type": "code",
   "execution_count": 78,
   "metadata": {
    "colab": {},
    "colab_type": "code",
    "id": "Z8U2B0-MEmxF"
   },
   "outputs": [],
   "source": [
    "def line_on_svd(user, top_k=10):\n",
    "    ratings = []\n",
    "    for anime in tqdm(anime_to_idx):\n",
    "        rat = np.sum(u[user_to_idx[user]]*vt[:, anime_to_idx[anime]])\n",
    "#         rat *= data_norm_fro\n",
    "#         rat += bu[user_to_idx[user]]\n",
    "#         rat += bi[anime_to_idx[anime]]\n",
    "#         rat += mu\n",
    "        ratings.append(rat)\n",
    "\n",
    "    anime_to_line_on = []\n",
    "    for anime_idx in np.argsort(ratings)[::-1]:\n",
    "        if ma.is_masked(ratings[anime_idx]):\n",
    "            continue\n",
    "        if len(anime_to_line_on) == top_k: break\n",
    "        if idx_to_anime[anime_idx] not in train_data.groupby('user_id').get_group(user).name.values:\n",
    "            anime_to_line_on.append((idx_to_anime[anime_idx], ratings[anime_idx]))\n",
    "            \n",
    "    return anime_to_line_on"
   ]
  },
  {
   "cell_type": "code",
   "execution_count": 79,
   "metadata": {
    "colab": {},
    "colab_type": "code",
    "id": "ASMtuDtYEmxI",
    "outputId": "84346d79-4ab4-48b5-aead-def9e4d96421"
   },
   "outputs": [
    {
     "data": {
      "text/html": [
       "<div>\n",
       "<style scoped>\n",
       "    .dataframe tbody tr th:only-of-type {\n",
       "        vertical-align: middle;\n",
       "    }\n",
       "\n",
       "    .dataframe tbody tr th {\n",
       "        vertical-align: top;\n",
       "    }\n",
       "\n",
       "    .dataframe thead th {\n",
       "        text-align: right;\n",
       "    }\n",
       "</style>\n",
       "<table border=\"1\" class=\"dataframe\">\n",
       "  <thead>\n",
       "    <tr style=\"text-align: right;\">\n",
       "      <th></th>\n",
       "      <th>user_id</th>\n",
       "      <th>name</th>\n",
       "      <th>user_rating</th>\n",
       "    </tr>\n",
       "  </thead>\n",
       "  <tbody>\n",
       "    <tr>\n",
       "      <th>153656</th>\n",
       "      <td>18</td>\n",
       "      <td>Rosario to Vampire</td>\n",
       "      <td>10</td>\n",
       "    </tr>\n",
       "    <tr>\n",
       "      <th>184211</th>\n",
       "      <td>18</td>\n",
       "      <td>Rosario to Vampire Capu2</td>\n",
       "      <td>10</td>\n",
       "    </tr>\n",
       "    <tr>\n",
       "      <th>845175</th>\n",
       "      <td>18</td>\n",
       "      <td>Tokyo Ghoul</td>\n",
       "      <td>10</td>\n",
       "    </tr>\n",
       "    <tr>\n",
       "      <th>1176997</th>\n",
       "      <td>18</td>\n",
       "      <td>Deadman Wonderland</td>\n",
       "      <td>8</td>\n",
       "    </tr>\n",
       "    <tr>\n",
       "      <th>1212435</th>\n",
       "      <td>18</td>\n",
       "      <td>Another</td>\n",
       "      <td>10</td>\n",
       "    </tr>\n",
       "    <tr>\n",
       "      <th>1550868</th>\n",
       "      <td>18</td>\n",
       "      <td>Mirai Nikki (TV)</td>\n",
       "      <td>10</td>\n",
       "    </tr>\n",
       "    <tr>\n",
       "      <th>2546703</th>\n",
       "      <td>18</td>\n",
       "      <td>Gokukoku no Brynhildr</td>\n",
       "      <td>10</td>\n",
       "    </tr>\n",
       "    <tr>\n",
       "      <th>2777769</th>\n",
       "      <td>18</td>\n",
       "      <td>Rozen Maiden</td>\n",
       "      <td>9</td>\n",
       "    </tr>\n",
       "    <tr>\n",
       "      <th>2783593</th>\n",
       "      <td>18</td>\n",
       "      <td>Rozen Maiden: Träumend</td>\n",
       "      <td>9</td>\n",
       "    </tr>\n",
       "    <tr>\n",
       "      <th>3221776</th>\n",
       "      <td>18</td>\n",
       "      <td>Tokyo Mew Mew</td>\n",
       "      <td>9</td>\n",
       "    </tr>\n",
       "    <tr>\n",
       "      <th>3232256</th>\n",
       "      <td>18</td>\n",
       "      <td>Ouran Koukou Host Club</td>\n",
       "      <td>8</td>\n",
       "    </tr>\n",
       "    <tr>\n",
       "      <th>3302512</th>\n",
       "      <td>18</td>\n",
       "      <td>Nana</td>\n",
       "      <td>10</td>\n",
       "    </tr>\n",
       "    <tr>\n",
       "      <th>3624143</th>\n",
       "      <td>18</td>\n",
       "      <td>School Days</td>\n",
       "      <td>7</td>\n",
       "    </tr>\n",
       "    <tr>\n",
       "      <th>3820120</th>\n",
       "      <td>18</td>\n",
       "      <td>Vampire Knight</td>\n",
       "      <td>9</td>\n",
       "    </tr>\n",
       "  </tbody>\n",
       "</table>\n",
       "</div>"
      ],
      "text/plain": [
       "         user_id                      name  user_rating\n",
       "153656        18        Rosario to Vampire           10\n",
       "184211        18  Rosario to Vampire Capu2           10\n",
       "845175        18               Tokyo Ghoul           10\n",
       "1176997       18        Deadman Wonderland            8\n",
       "1212435       18                   Another           10\n",
       "1550868       18          Mirai Nikki (TV)           10\n",
       "2546703       18     Gokukoku no Brynhildr           10\n",
       "2777769       18              Rozen Maiden            9\n",
       "2783593       18    Rozen Maiden: Träumend            9\n",
       "3221776       18             Tokyo Mew Mew            9\n",
       "3232256       18    Ouran Koukou Host Club            8\n",
       "3302512       18                      Nana           10\n",
       "3624143       18               School Days            7\n",
       "3820120       18            Vampire Knight            9"
      ]
     },
     "execution_count": 79,
     "metadata": {},
     "output_type": "execute_result"
    }
   ],
   "source": [
    "user = 18\n",
    "train_grby_user.get_group(user)"
   ]
  },
  {
   "cell_type": "code",
   "execution_count": 80,
   "metadata": {
    "colab": {},
    "colab_type": "code",
    "id": "EYGauvMdEmxK",
    "outputId": "004ffb2e-6812-497e-83a4-dd2898ad513c"
   },
   "outputs": [
    {
     "data": {
      "text/html": [
       "<div>\n",
       "<style scoped>\n",
       "    .dataframe tbody tr th:only-of-type {\n",
       "        vertical-align: middle;\n",
       "    }\n",
       "\n",
       "    .dataframe tbody tr th {\n",
       "        vertical-align: top;\n",
       "    }\n",
       "\n",
       "    .dataframe thead th {\n",
       "        text-align: right;\n",
       "    }\n",
       "</style>\n",
       "<table border=\"1\" class=\"dataframe\">\n",
       "  <thead>\n",
       "    <tr style=\"text-align: right;\">\n",
       "      <th></th>\n",
       "      <th>user_id</th>\n",
       "      <th>name</th>\n",
       "      <th>user_rating</th>\n",
       "    </tr>\n",
       "  </thead>\n",
       "  <tbody>\n",
       "    <tr>\n",
       "      <th>938631</th>\n",
       "      <td>18</td>\n",
       "      <td>Tokyo Ghoul √A</td>\n",
       "      <td>7</td>\n",
       "    </tr>\n",
       "    <tr>\n",
       "      <th>1072362</th>\n",
       "      <td>18</td>\n",
       "      <td>Death Note</td>\n",
       "      <td>10</td>\n",
       "    </tr>\n",
       "  </tbody>\n",
       "</table>\n",
       "</div>"
      ],
      "text/plain": [
       "         user_id            name  user_rating\n",
       "938631        18  Tokyo Ghoul √A            7\n",
       "1072362       18      Death Note           10"
      ]
     },
     "execution_count": 80,
     "metadata": {},
     "output_type": "execute_result"
    }
   ],
   "source": [
    "dev_grby_user.get_group(user)"
   ]
  },
  {
   "cell_type": "code",
   "execution_count": 81,
   "metadata": {
    "colab": {},
    "colab_type": "code",
    "id": "9Kx8CxlyEmxM",
    "outputId": "bad93107-4528-4396-ce67-0393d2fa3f3b",
    "scrolled": true
   },
   "outputs": [
    {
     "name": "stderr",
     "output_type": "stream",
     "text": [
      "100%|██████████| 2708/2708 [00:00<00:00, 112832.54it/s]\n"
     ]
    },
    {
     "data": {
      "text/plain": [
       "[('Vampire Knight Guilty', 0.44863013819040165),\n",
       " ('Btooom!', 0.2919686278339524),\n",
       " ('Claymore', 0.21191384867290486),\n",
       " ('Black Bullet', 0.19341865445503686),\n",
       " ('Mekakucity Actors', 0.17600858011867057),\n",
       " ('Tokyo Ghoul √A', 0.17165881374040892),\n",
       " ('Green Green', 0.1647328433839808),\n",
       " ('Kanokon', 0.15770102216244414),\n",
       " ('Mahou Sensou', 0.14928412068343322),\n",
       " ('Owari no Seraph', 0.1362675573756685)]"
      ]
     },
     "execution_count": 81,
     "metadata": {},
     "output_type": "execute_result"
    }
   ],
   "source": [
    "line_on_svd(user, top_k=top_k)"
   ]
  },
  {
   "cell_type": "code",
   "execution_count": 82,
   "metadata": {
    "colab": {},
    "colab_type": "code",
    "id": "dySdc81tEmxP",
    "outputId": "efb3edcb-7749-4fed-e4f4-e77cbb32f655",
    "scrolled": false
   },
   "outputs": [
    {
     "name": "stderr",
     "output_type": "stream",
     "text": [
      "100%|██████████| 2708/2708 [00:06<00:00, 405.17it/s]\n",
      "D:\\Programs\\Anaconda\\lib\\site-packages\\numpy\\core\\fromnumeric.py:43: UserWarning: Warning: converting a masked element to nan.\n",
      "  result = getattr(asarray(obj), method)(*args, **kwds)\n"
     ]
    },
    {
     "data": {
      "text/plain": [
       "[('Kanokon', 1.0771953731405717),\n",
       " ('Sword Art Online', 1.065848213424886),\n",
       " ('Mahoromatic: Automatic Maiden', 1.0636573611792608),\n",
       " ('Akame ga Kill!', 1.0607028847003495),\n",
       " ('Highschool of the Dead', 1.057949830724839),\n",
       " ('D.N.Angel', 1.0546857894641803),\n",
       " ('Tokyo Ghoul √A', 1.053463795791305),\n",
       " ('IS: Infinite Stratos', 1.0497164924789506),\n",
       " ('IS: Infinite Stratos 2', 1.0483849675314254),\n",
       " ('Amnesia', 1.0454062338118364)]"
      ]
     },
     "execution_count": 82,
     "metadata": {},
     "output_type": "execute_result"
    }
   ],
   "source": [
    "line_on_user_user(user, top_k=top_k)"
   ]
  },
  {
   "cell_type": "markdown",
   "metadata": {
    "colab_type": "text",
    "id": "dwS0t8ifEmxS"
   },
   "source": [
    " "
   ]
  },
  {
   "cell_type": "markdown",
   "metadata": {
    "colab_type": "text",
    "id": "vzG0TMFYEmxS"
   },
   "source": [
    "Попробуем использовать библиотеку [`surprise`](https://surprise.readthedocs.io/en/stable/) для SVD разложения."
   ]
  },
  {
   "cell_type": "code",
   "execution_count": 85,
   "metadata": {},
   "outputs": [
    {
     "name": "stdout",
     "output_type": "stream",
     "text": [
      "Collecting surprise\n",
      "  Downloading surprise-0.1-py2.py3-none-any.whl (1.8 kB)\n",
      "Collecting scikit-surprise\n",
      "  Downloading scikit-surprise-1.1.1.tar.gz (11.8 MB)\n",
      "Requirement already satisfied: joblib>=0.11 in d:\\programs\\anaconda\\lib\\site-packages (from scikit-surprise->surprise) (1.0.1)\n",
      "Requirement already satisfied: numpy>=1.11.2 in d:\\programs\\anaconda\\lib\\site-packages (from scikit-surprise->surprise) (1.21.2)\n",
      "Requirement already satisfied: scipy>=1.0.0 in d:\\programs\\anaconda\\lib\\site-packages (from scikit-surprise->surprise) (1.7.1)\n",
      "Requirement already satisfied: six>=1.10.0 in d:\\programs\\anaconda\\lib\\site-packages (from scikit-surprise->surprise) (1.15.0)\n",
      "Building wheels for collected packages: scikit-surprise\n",
      "  Building wheel for scikit-surprise (setup.py): started\n",
      "  Building wheel for scikit-surprise (setup.py): finished with status 'done'\n",
      "  Created wheel for scikit-surprise: filename=scikit_surprise-1.1.1-cp38-cp38-win_amd64.whl size=714379 sha256=e12c855214d022186c0d339c09a7242564c12ba90a24011abf0cd56299bf1118\n",
      "  Stored in directory: c:\\users\\daris\\appdata\\local\\pip\\cache\\wheels\\20\\91\\57\\2965d4cff1b8ac7ed1b6fa25741882af3974b54a31759e10b6\n",
      "Successfully built scikit-surprise\n",
      "Installing collected packages: scikit-surprise, surprise\n",
      "Successfully installed scikit-surprise-1.1.1 surprise-0.1\n"
     ]
    }
   ],
   "source": [
    "!pip install surprise"
   ]
  },
  {
   "cell_type": "code",
   "execution_count": 86,
   "metadata": {
    "colab": {},
    "colab_type": "code",
    "id": "cueGT9D4EmxS"
   },
   "outputs": [],
   "source": [
    "from surprise import Reader, Dataset"
   ]
  },
  {
   "cell_type": "code",
   "execution_count": 87,
   "metadata": {
    "colab": {},
    "colab_type": "code",
    "id": "7GuGzjkkEmxV",
    "outputId": "ee7cf5e9-d181-4efd-e5cc-674bbb0b3716"
   },
   "outputs": [
    {
     "data": {
      "text/html": [
       "<div>\n",
       "<style scoped>\n",
       "    .dataframe tbody tr th:only-of-type {\n",
       "        vertical-align: middle;\n",
       "    }\n",
       "\n",
       "    .dataframe tbody tr th {\n",
       "        vertical-align: top;\n",
       "    }\n",
       "\n",
       "    .dataframe thead th {\n",
       "        text-align: right;\n",
       "    }\n",
       "</style>\n",
       "<table border=\"1\" class=\"dataframe\">\n",
       "  <thead>\n",
       "    <tr style=\"text-align: right;\">\n",
       "      <th></th>\n",
       "      <th>itemID</th>\n",
       "      <th>userID</th>\n",
       "      <th>rating</th>\n",
       "    </tr>\n",
       "  </thead>\n",
       "  <tbody>\n",
       "    <tr>\n",
       "      <th>0</th>\n",
       "      <td>Naruto</td>\n",
       "      <td>3</td>\n",
       "      <td>8</td>\n",
       "    </tr>\n",
       "    <tr>\n",
       "      <th>1</th>\n",
       "      <td>Naruto</td>\n",
       "      <td>5</td>\n",
       "      <td>6</td>\n",
       "    </tr>\n",
       "    <tr>\n",
       "      <th>2</th>\n",
       "      <td>Naruto</td>\n",
       "      <td>21</td>\n",
       "      <td>8</td>\n",
       "    </tr>\n",
       "    <tr>\n",
       "      <th>3</th>\n",
       "      <td>Naruto</td>\n",
       "      <td>28</td>\n",
       "      <td>9</td>\n",
       "    </tr>\n",
       "    <tr>\n",
       "      <th>4</th>\n",
       "      <td>Naruto</td>\n",
       "      <td>34</td>\n",
       "      <td>9</td>\n",
       "    </tr>\n",
       "  </tbody>\n",
       "</table>\n",
       "</div>"
      ],
      "text/plain": [
       "   itemID  userID  rating\n",
       "0  Naruto       3       8\n",
       "1  Naruto       5       6\n",
       "2  Naruto      21       8\n",
       "3  Naruto      28       9\n",
       "4  Naruto      34       9"
      ]
     },
     "execution_count": 87,
     "metadata": {},
     "output_type": "execute_result"
    }
   ],
   "source": [
    "# to load dataset from pandas df, we need `load_fromm_df` method in surprise lib\n",
    "ratings_dict = {'itemID': list(train_data.name),\n",
    "                'userID': list(train_data.user_id),\n",
    "                'rating': list(train_data.user_rating)}\n",
    "df = pd.DataFrame(ratings_dict)\n",
    "df.head()"
   ]
  },
  {
   "cell_type": "code",
   "execution_count": 88,
   "metadata": {
    "colab": {},
    "colab_type": "code",
    "id": "h06AOUvdEmxX"
   },
   "outputs": [],
   "source": [
    "# A reader is still needed but only the rating_scale param is required.\n",
    "# The Reader class is used to parse a file containing ratings.\n",
    "reader = Reader(rating_scale=(1, 10))"
   ]
  },
  {
   "cell_type": "code",
   "execution_count": 89,
   "metadata": {
    "colab": {},
    "colab_type": "code",
    "id": "zUcEBHV8EmxY"
   },
   "outputs": [],
   "source": [
    "# The columns must correspond to user id, item id and ratings (in that order).\n",
    "data_sur = Dataset.load_from_df(df[['userID', 'itemID', 'rating']], reader)"
   ]
  },
  {
   "cell_type": "code",
   "execution_count": 90,
   "metadata": {
    "colab": {},
    "colab_type": "code",
    "id": "KqOwxyh3Emxa"
   },
   "outputs": [],
   "source": [
    "from collections import defaultdict\n",
    "\n",
    "from surprise import SVD\n",
    "\n",
    "# see https://surprise.readthedocs.io/en/stable/FAQ.html\n",
    "def get_top_n(predictions, n=10):\n",
    "    '''Return the top-N recommendation for each user from a set of predictions.\n",
    "\n",
    "    Args:\n",
    "        predictions(list of Prediction objects): The list of predictions, as\n",
    "            returned by the test method of an algorithm.\n",
    "        n(int): The number of recommendation to output for each user. Default\n",
    "            is 10.\n",
    "\n",
    "    Returns:\n",
    "    A dict where keys are user (raw) ids and values are lists of tuples:\n",
    "        [(raw item id, rating estimation), ...] of size n.\n",
    "    '''\n",
    "\n",
    "    # First map the predictions to each user.\n",
    "    top_n = defaultdict(list)\n",
    "    for uid, iid, true_r, est, _ in predictions:\n",
    "        top_n[uid].append((iid, est))\n",
    "\n",
    "    # Then sort the predictions for each user and retrieve the k highest ones.\n",
    "    for uid, user_ratings in top_n.items():\n",
    "        user_ratings.sort(key=lambda x: x[1], reverse=True)\n",
    "        top_n[uid] = user_ratings[:n]\n",
    "\n",
    "    return top_n"
   ]
  },
  {
   "cell_type": "code",
   "execution_count": 91,
   "metadata": {
    "colab": {},
    "colab_type": "code",
    "id": "s3ux6yy9Emxb",
    "outputId": "78945225-e58c-4019-e9f0-6af1d472b71b"
   },
   "outputs": [
    {
     "data": {
      "text/plain": [
       "<surprise.prediction_algorithms.matrix_factorization.SVD at 0x163ec34a820>"
      ]
     },
     "execution_count": 91,
     "metadata": {},
     "output_type": "execute_result"
    }
   ],
   "source": [
    "# First train an SVD algorithm on the movielens dataset.\n",
    "# data = Dataset.load_builtin('ml-100k')\n",
    "trainset = data_sur.build_full_trainset()\n",
    "algo = SVD()\n",
    "algo.fit(trainset)"
   ]
  },
  {
   "cell_type": "code",
   "execution_count": 92,
   "metadata": {
    "colab": {},
    "colab_type": "code",
    "id": "wt2HLtZ3Emxc",
    "outputId": "c5f2bcba-faf3-45bf-8637-c7541ca25b3e",
    "scrolled": true
   },
   "outputs": [
    {
     "data": {
      "text/html": [
       "<div>\n",
       "<style scoped>\n",
       "    .dataframe tbody tr th:only-of-type {\n",
       "        vertical-align: middle;\n",
       "    }\n",
       "\n",
       "    .dataframe tbody tr th {\n",
       "        vertical-align: top;\n",
       "    }\n",
       "\n",
       "    .dataframe thead th {\n",
       "        text-align: right;\n",
       "    }\n",
       "</style>\n",
       "<table border=\"1\" class=\"dataframe\">\n",
       "  <thead>\n",
       "    <tr style=\"text-align: right;\">\n",
       "      <th></th>\n",
       "      <th>user_id</th>\n",
       "      <th>name</th>\n",
       "      <th>user_rating</th>\n",
       "    </tr>\n",
       "  </thead>\n",
       "  <tbody>\n",
       "    <tr>\n",
       "      <th>153656</th>\n",
       "      <td>18</td>\n",
       "      <td>Rosario to Vampire</td>\n",
       "      <td>10</td>\n",
       "    </tr>\n",
       "    <tr>\n",
       "      <th>184211</th>\n",
       "      <td>18</td>\n",
       "      <td>Rosario to Vampire Capu2</td>\n",
       "      <td>10</td>\n",
       "    </tr>\n",
       "    <tr>\n",
       "      <th>845175</th>\n",
       "      <td>18</td>\n",
       "      <td>Tokyo Ghoul</td>\n",
       "      <td>10</td>\n",
       "    </tr>\n",
       "    <tr>\n",
       "      <th>1176997</th>\n",
       "      <td>18</td>\n",
       "      <td>Deadman Wonderland</td>\n",
       "      <td>8</td>\n",
       "    </tr>\n",
       "    <tr>\n",
       "      <th>1212435</th>\n",
       "      <td>18</td>\n",
       "      <td>Another</td>\n",
       "      <td>10</td>\n",
       "    </tr>\n",
       "    <tr>\n",
       "      <th>1550868</th>\n",
       "      <td>18</td>\n",
       "      <td>Mirai Nikki (TV)</td>\n",
       "      <td>10</td>\n",
       "    </tr>\n",
       "    <tr>\n",
       "      <th>2546703</th>\n",
       "      <td>18</td>\n",
       "      <td>Gokukoku no Brynhildr</td>\n",
       "      <td>10</td>\n",
       "    </tr>\n",
       "    <tr>\n",
       "      <th>2777769</th>\n",
       "      <td>18</td>\n",
       "      <td>Rozen Maiden</td>\n",
       "      <td>9</td>\n",
       "    </tr>\n",
       "    <tr>\n",
       "      <th>2783593</th>\n",
       "      <td>18</td>\n",
       "      <td>Rozen Maiden: Träumend</td>\n",
       "      <td>9</td>\n",
       "    </tr>\n",
       "    <tr>\n",
       "      <th>3221776</th>\n",
       "      <td>18</td>\n",
       "      <td>Tokyo Mew Mew</td>\n",
       "      <td>9</td>\n",
       "    </tr>\n",
       "    <tr>\n",
       "      <th>3232256</th>\n",
       "      <td>18</td>\n",
       "      <td>Ouran Koukou Host Club</td>\n",
       "      <td>8</td>\n",
       "    </tr>\n",
       "    <tr>\n",
       "      <th>3302512</th>\n",
       "      <td>18</td>\n",
       "      <td>Nana</td>\n",
       "      <td>10</td>\n",
       "    </tr>\n",
       "    <tr>\n",
       "      <th>3624143</th>\n",
       "      <td>18</td>\n",
       "      <td>School Days</td>\n",
       "      <td>7</td>\n",
       "    </tr>\n",
       "    <tr>\n",
       "      <th>3820120</th>\n",
       "      <td>18</td>\n",
       "      <td>Vampire Knight</td>\n",
       "      <td>9</td>\n",
       "    </tr>\n",
       "  </tbody>\n",
       "</table>\n",
       "</div>"
      ],
      "text/plain": [
       "         user_id                      name  user_rating\n",
       "153656        18        Rosario to Vampire           10\n",
       "184211        18  Rosario to Vampire Capu2           10\n",
       "845175        18               Tokyo Ghoul           10\n",
       "1176997       18        Deadman Wonderland            8\n",
       "1212435       18                   Another           10\n",
       "1550868       18          Mirai Nikki (TV)           10\n",
       "2546703       18     Gokukoku no Brynhildr           10\n",
       "2777769       18              Rozen Maiden            9\n",
       "2783593       18    Rozen Maiden: Träumend            9\n",
       "3221776       18             Tokyo Mew Mew            9\n",
       "3232256       18    Ouran Koukou Host Club            8\n",
       "3302512       18                      Nana           10\n",
       "3624143       18               School Days            7\n",
       "3820120       18            Vampire Knight            9"
      ]
     },
     "execution_count": 92,
     "metadata": {},
     "output_type": "execute_result"
    }
   ],
   "source": [
    "user = 18\n",
    "train_data.groupby('user_id').get_group(user)"
   ]
  },
  {
   "cell_type": "code",
   "execution_count": 93,
   "metadata": {
    "colab": {},
    "colab_type": "code",
    "id": "oafl78X1Emxd",
    "outputId": "7a08c7db-058f-4e73-adf9-aa22577efc27",
    "scrolled": true
   },
   "outputs": [
    {
     "data": {
      "text/html": [
       "<div>\n",
       "<style scoped>\n",
       "    .dataframe tbody tr th:only-of-type {\n",
       "        vertical-align: middle;\n",
       "    }\n",
       "\n",
       "    .dataframe tbody tr th {\n",
       "        vertical-align: top;\n",
       "    }\n",
       "\n",
       "    .dataframe thead th {\n",
       "        text-align: right;\n",
       "    }\n",
       "</style>\n",
       "<table border=\"1\" class=\"dataframe\">\n",
       "  <thead>\n",
       "    <tr style=\"text-align: right;\">\n",
       "      <th></th>\n",
       "      <th>user_id</th>\n",
       "      <th>name</th>\n",
       "      <th>user_rating</th>\n",
       "    </tr>\n",
       "  </thead>\n",
       "  <tbody>\n",
       "    <tr>\n",
       "      <th>938631</th>\n",
       "      <td>18</td>\n",
       "      <td>Tokyo Ghoul √A</td>\n",
       "      <td>7</td>\n",
       "    </tr>\n",
       "    <tr>\n",
       "      <th>1072362</th>\n",
       "      <td>18</td>\n",
       "      <td>Death Note</td>\n",
       "      <td>10</td>\n",
       "    </tr>\n",
       "  </tbody>\n",
       "</table>\n",
       "</div>"
      ],
      "text/plain": [
       "         user_id            name  user_rating\n",
       "938631        18  Tokyo Ghoul √A            7\n",
       "1072362       18      Death Note           10"
      ]
     },
     "execution_count": 93,
     "metadata": {},
     "output_type": "execute_result"
    }
   ],
   "source": [
    "dev_data.groupby('user_id').get_group(user)"
   ]
  },
  {
   "cell_type": "code",
   "execution_count": 94,
   "metadata": {
    "colab": {},
    "colab_type": "code",
    "id": "Fxiw0F22Emxe"
   },
   "outputs": [],
   "source": [
    "# Than predict ratings for all pairs (u, i) that are NOT in the training set.\n",
    "predictions = algo.test([(user, anime, 0) for anime in anime_to_idx])"
   ]
  },
  {
   "cell_type": "code",
   "execution_count": 95,
   "metadata": {
    "colab": {},
    "colab_type": "code",
    "id": "lvzEtu80Emxh",
    "outputId": "524d1867-01a7-4204-ff0e-c0909d4e7ff8",
    "scrolled": true
   },
   "outputs": [
    {
     "name": "stderr",
     "output_type": "stream",
     "text": [
      "100%|██████████| 2708/2708 [00:09<00:00, 295.74it/s]\n",
      "D:\\Programs\\Anaconda\\lib\\site-packages\\numpy\\core\\fromnumeric.py:43: UserWarning: Warning: converting a masked element to nan.\n",
      "  result = getattr(asarray(obj), method)(*args, **kwds)\n"
     ]
    },
    {
     "data": {
      "text/plain": [
       "[('Kanokon', 1.0771953731405717),\n",
       " ('Sword Art Online', 1.065848213424886),\n",
       " ('Mahoromatic: Automatic Maiden', 1.0636573611792608),\n",
       " ('Akame ga Kill!', 1.0607028847003495),\n",
       " ('Highschool of the Dead', 1.057949830724839),\n",
       " ('D.N.Angel', 1.0546857894641803),\n",
       " ('Tokyo Ghoul √A', 1.053463795791305),\n",
       " ('IS: Infinite Stratos', 1.0497164924789506),\n",
       " ('IS: Infinite Stratos 2', 1.0483849675314254),\n",
       " ('Amnesia', 1.0454062338118364)]"
      ]
     },
     "execution_count": 95,
     "metadata": {},
     "output_type": "execute_result"
    }
   ],
   "source": [
    "top_k = 10\n",
    "line_on_user_user(user, top_k)"
   ]
  },
  {
   "cell_type": "code",
   "execution_count": 96,
   "metadata": {
    "colab": {},
    "colab_type": "code",
    "id": "w_MJECgiEmxi",
    "outputId": "32c6580c-e211-4a41-9cec-7e996e6b2a54",
    "scrolled": true
   },
   "outputs": [
    {
     "name": "stderr",
     "output_type": "stream",
     "text": [
      "100%|██████████| 2708/2708 [00:00<00:00, 77354.38it/s]\n"
     ]
    },
    {
     "data": {
      "text/plain": [
       "[('Vampire Knight Guilty', 0.44863013819040165),\n",
       " ('Btooom!', 0.2919686278339524),\n",
       " ('Claymore', 0.21191384867290486),\n",
       " ('Black Bullet', 0.19341865445503686),\n",
       " ('Mekakucity Actors', 0.17600858011867057),\n",
       " ('Tokyo Ghoul √A', 0.17165881374040892),\n",
       " ('Green Green', 0.1647328433839808),\n",
       " ('Kanokon', 0.15770102216244414),\n",
       " ('Mahou Sensou', 0.14928412068343322),\n",
       " ('Owari no Seraph', 0.1362675573756685)]"
      ]
     },
     "execution_count": 96,
     "metadata": {},
     "output_type": "execute_result"
    }
   ],
   "source": [
    "line_on_svd(user, top_k)"
   ]
  },
  {
   "cell_type": "code",
   "execution_count": 97,
   "metadata": {
    "colab": {},
    "colab_type": "code",
    "id": "nT8mwv0DEmxj",
    "outputId": "d206dc00-8e51-4b18-8d4c-579f99fe8cb0",
    "scrolled": true
   },
   "outputs": [
    {
     "data": {
      "text/plain": [
       "[('Another', 10),\n",
       " ('Gintama°', 10),\n",
       " ('Mirai Nikki (TV)', 9.996062556051783),\n",
       " ('Clannad: After Story', 9.952820473630133),\n",
       " ('Nichijou', 9.911689158487736),\n",
       " ('Mobile Suit Gundam 00 Second Season', 9.884441207564908),\n",
       " ('Clannad', 9.876177098891851),\n",
       " ('One Punch Man', 9.820154082652438),\n",
       " ('Tokyo Ghoul', 9.80220226830683),\n",
       " ('Kuroshitsuji', 9.795601221258373)]"
      ]
     },
     "execution_count": 97,
     "metadata": {},
     "output_type": "execute_result"
    }
   ],
   "source": [
    "top_n = get_top_n(predictions, n=top_k)\n",
    "top_n[user]"
   ]
  }
 ],
 "metadata": {
  "colab": {
   "name": "07_recsys_cor.ipynb",
   "provenance": [],
   "version": "0.3.2"
  },
  "kernelspec": {
   "display_name": "Python 3",
   "language": "python",
   "name": "python3"
  },
  "language_info": {
   "codemirror_mode": {
    "name": "ipython",
    "version": 3
   },
   "file_extension": ".py",
   "mimetype": "text/x-python",
   "name": "python",
   "nbconvert_exporter": "python",
   "pygments_lexer": "ipython3",
   "version": "3.8.8"
  }
 },
 "nbformat": 4,
 "nbformat_minor": 1
}
