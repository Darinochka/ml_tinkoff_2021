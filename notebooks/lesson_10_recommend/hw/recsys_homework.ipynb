{
 "cells": [
  {
   "cell_type": "markdown",
   "metadata": {},
   "source": [
    "# Домашнее задание по рекомендательным системам"
   ]
  },
  {
   "cell_type": "markdown",
   "metadata": {},
   "source": [
    "В данном домашнем задании вам предлагается реализовать User-based рекомендательную систему. Так же требуется реализовать несколько вспомогательных функций, шаблоны которых вы можете найти в `utils.py`.\n",
    "\n",
    "Требования к выполнению задания:\n",
    "- Реализация функции из `utils.py` засчитывается, только если пройдены все соответствующие тесты из `test.py`. Запуск тестов: <font color='red'>pytest test.py</font>. Для тестов вам потребуются библиотеки `numpy`, `scipy`, `pytest` и `hypothesis`.\n",
    "- Плагиат запрещен. Если будет замечено, что часть задания списана, то 0 баллов ставится как списывающему, так и давшему списать.\n",
    "- Если пользуетесь кодом из открытых источников, то указывайте ссылки, откуда взяли решение. Иначе такой код может быть воспринят как плагиат.\n",
    "- При выполнении задания нельзя использовать библиотеку `scipy` и функцию `numpy.linalg.norm`\n",
    "\n",
    "При запуске тестов могут появиться предупреждения: PearsonRConstantInputWarning и PearsonRNearConstantInputWarning. На них можно не обращать внимания.\n",
    "\n",
    "Возможный максимум баллов за задание: 10 баллов <br>\n",
    "Дедлайн: ??? <br>\n",
    "Штраф: ??? - будет ли в курсе штраф? <br>\n",
    "<br>\n",
    "Для ускорения проверки, напишите здесь получившееся количество баллов: ..."
   ]
  },
  {
   "cell_type": "code",
   "execution_count": 165,
   "metadata": {},
   "outputs": [],
   "source": [
    "from utils import euclidean_distance, euclidean_similarity, pearson_similarity, apk, mapk\n",
    "import numpy as np"
   ]
  },
  {
   "cell_type": "markdown",
   "metadata": {},
   "source": [
    "## 1. Метрика сходства\n",
    "<b>1.1. Реализация метрик (2 балла)</b>\n",
    "\n",
    "Первое, с чем необходимо разобраться, при реализации User-based подхода, это с метрикой, с помощью которой будет решаться, насколько похожи пользователи. Вам предлагается реализовать 2 метрики: на основе евклидовой метрики и коэффициент корреляции Пирсона. Шаблоны для обоих функций можете найти в `utils.py`. Не забудьте проверить реализацию на тестах.\n",
    "\n",
    "Евклидова метрика:\n",
    "\\begin{equation}\n",
    "d(p,q)=\\sqrt{(p_1-q_1)^2+(p_2-q_2)^2+\\dots+(p_n-q_n)^2} = \\sqrt{\\sum_{k=1}^n (p_k-q_k)^2}\n",
    "\\end{equation}\n",
    "\n",
    "В этом случае $d(p, q) \\in [0, \\infty)$, при этом если $d(p, q) \\to 0$, то $sim(p, q) \\to 1$. С учетом этого конечная формула будет выглядеть следующим образом:\n",
    "\\begin{equation}\n",
    "sim(p, q) = \\frac{1}{1 + d(p, q)}\n",
    "\\end{equation}\n",
    "Так же в этой формуле не будет проблем с делением на 0.\n",
    "\n",
    "Коэффициент корреляции Пирсона:\n",
    "\\begin{equation}\n",
    "r_{xy} = \\frac {\\sum_{i=1}^{m} \\left( x_i-\\bar{x} \\right)\\left( y_i-\\bar{y} \\right)}{\\sqrt{\\sum_{i=1}^{m} \\left( x_i-\\bar{x} \\right)^2 \\sum_{i=1}^{m} \\left( y_i-\\bar{y} \\right)^2}}\n",
    "\\end{equation}"
   ]
  },
  {
   "cell_type": "code",
   "execution_count": 166,
   "metadata": {},
   "outputs": [
    {
     "name": "stdout",
     "output_type": "stream",
     "text": [
      "============================= test session starts =============================\n",
      "platform win32 -- Python 3.8.8, pytest-6.2.4, py-1.10.0, pluggy-0.13.1\n",
      "rootdir: d:\\Google\\Projects\\ml_tinkoff_2021\\notebooks\\lesson_10_recommend\\hw\n",
      "plugins: anyio-2.2.0, hypothesis-6.34.2\n",
      "collected 11 items\n",
      "\n",
      "test.py .....FFFFFF                                                      [100%]\n",
      "\n",
      "================================== FAILURES ===================================\n",
      "___________________ test_apk[predicted0-0.3333333333333333] ___________________\n",
      "\n",
      "predicted = [1, 4, 5], expected_score = 0.3333333333333333\n",
      "\n",
      "    @pytest.mark.parametrize(\n",
      "        'predicted, expected_score',\n",
      "        (\n",
      "            ([1, 4, 5], 0.3333333333333333),\n",
      "            ([4, 1, 5], 0.16666666666666666),\n",
      "            ([5, 4, 1], 0.1111111111111111),\n",
      "            ([4, 1, 2], 0.38888888888888884),\n",
      "            ([3, 2, 1], 1.0),\n",
      "        )\n",
      "    )\n",
      "    def test_apk(predicted, expected_score):\n",
      "        actual = np.array([1, 2, 3])\n",
      ">       np.testing.assert_almost_equal(apk(actual, predicted, k=3), expected_score)\n",
      "E       TypeError: unsupported operand type(s) for -: 'float' and 'NoneType'\n",
      "\n",
      "test.py:68: TypeError\n",
      "__________________ test_apk[predicted1-0.16666666666666666] ___________________\n",
      "\n",
      "predicted = [4, 1, 5], expected_score = 0.16666666666666666\n",
      "\n",
      "    @pytest.mark.parametrize(\n",
      "        'predicted, expected_score',\n",
      "        (\n",
      "            ([1, 4, 5], 0.3333333333333333),\n",
      "            ([4, 1, 5], 0.16666666666666666),\n",
      "            ([5, 4, 1], 0.1111111111111111),\n",
      "            ([4, 1, 2], 0.38888888888888884),\n",
      "            ([3, 2, 1], 1.0),\n",
      "        )\n",
      "    )\n",
      "    def test_apk(predicted, expected_score):\n",
      "        actual = np.array([1, 2, 3])\n",
      ">       np.testing.assert_almost_equal(apk(actual, predicted, k=3), expected_score)\n",
      "E       TypeError: unsupported operand type(s) for -: 'float' and 'NoneType'\n",
      "\n",
      "test.py:68: TypeError\n",
      "___________________ test_apk[predicted2-0.1111111111111111] ___________________\n",
      "\n",
      "predicted = [5, 4, 1], expected_score = 0.1111111111111111\n",
      "\n",
      "    @pytest.mark.parametrize(\n",
      "        'predicted, expected_score',\n",
      "        (\n",
      "            ([1, 4, 5], 0.3333333333333333),\n",
      "            ([4, 1, 5], 0.16666666666666666),\n",
      "            ([5, 4, 1], 0.1111111111111111),\n",
      "            ([4, 1, 2], 0.38888888888888884),\n",
      "            ([3, 2, 1], 1.0),\n",
      "        )\n",
      "    )\n",
      "    def test_apk(predicted, expected_score):\n",
      "        actual = np.array([1, 2, 3])\n",
      ">       np.testing.assert_almost_equal(apk(actual, predicted, k=3), expected_score)\n",
      "E       TypeError: unsupported operand type(s) for -: 'float' and 'NoneType'\n",
      "\n",
      "test.py:68: TypeError\n",
      "__________________ test_apk[predicted3-0.38888888888888884] ___________________\n",
      "\n",
      "predicted = [4, 1, 2], expected_score = 0.38888888888888884\n",
      "\n",
      "    @pytest.mark.parametrize(\n",
      "        'predicted, expected_score',\n",
      "        (\n",
      "            ([1, 4, 5], 0.3333333333333333),\n",
      "            ([4, 1, 5], 0.16666666666666666),\n",
      "            ([5, 4, 1], 0.1111111111111111),\n",
      "            ([4, 1, 2], 0.38888888888888884),\n",
      "            ([3, 2, 1], 1.0),\n",
      "        )\n",
      "    )\n",
      "    def test_apk(predicted, expected_score):\n",
      "        actual = np.array([1, 2, 3])\n",
      ">       np.testing.assert_almost_equal(apk(actual, predicted, k=3), expected_score)\n",
      "E       TypeError: unsupported operand type(s) for -: 'float' and 'NoneType'\n",
      "\n",
      "test.py:68: TypeError\n",
      "__________________________ test_apk[predicted4-1.0] ___________________________\n",
      "\n",
      "predicted = [3, 2, 1], expected_score = 1.0\n",
      "\n",
      "    @pytest.mark.parametrize(\n",
      "        'predicted, expected_score',\n",
      "        (\n",
      "            ([1, 4, 5], 0.3333333333333333),\n",
      "            ([4, 1, 5], 0.16666666666666666),\n",
      "            ([5, 4, 1], 0.1111111111111111),\n",
      "            ([4, 1, 2], 0.38888888888888884),\n",
      "            ([3, 2, 1], 1.0),\n",
      "        )\n",
      "    )\n",
      "    def test_apk(predicted, expected_score):\n",
      "        actual = np.array([1, 2, 3])\n",
      ">       np.testing.assert_almost_equal(apk(actual, predicted, k=3), expected_score)\n",
      "E       TypeError: unsupported operand type(s) for -: 'float' and 'NoneType'\n",
      "\n",
      "test.py:68: TypeError\n",
      "__________________________________ test_mapk __________________________________\n",
      "\n",
      "    def test_mapk():\n",
      "        predicted = [\n",
      "            [1, 4, 5],\n",
      "            [4, 1, 5],\n",
      "            [5, 4, 1],\n",
      "            [4, 1, 2],\n",
      "            [3, 2, 1],\n",
      "        ]\n",
      "        actual = [[1,2,3]] * len(predicted)\n",
      "        expected_score = 0.4\n",
      ">       np.testing.assert_almost_equal(mapk(actual, predicted, k=3), expected_score)\n",
      "E       TypeError: unsupported operand type(s) for -: 'float' and 'NoneType'\n",
      "\n",
      "test.py:81: TypeError\n",
      "============================== warnings summary ===============================\n",
      "..\\..\\..\\..\\..\\..\\Programs\\Anaconda\\lib\\site-packages\\pyreadline\\py3k_compat.py:8\n",
      "  D:\\Programs\\Anaconda\\lib\\site-packages\\pyreadline\\py3k_compat.py:8: DeprecationWarning: Using or importing the ABCs from 'collections' instead of from 'collections.abc' is deprecated since Python 3.3, and in 3.9 it will stop working\n",
      "    return isinstance(x, collections.Callable)\n",
      "\n",
      "test.py::test_pearson_similarity\n",
      "  d:\\Google\\Projects\\ml_tinkoff_2021\\notebooks\\lesson_10_recommend\\hw\\utils.py:38: RuntimeWarning: invalid value encountered in double_scalars\n",
      "    return np.sum((x - x.mean()) * (y - y.mean())) / np.sqrt(f(x) * f(y))\n",
      "\n",
      "test.py::test_pearson_similarity\n",
      "  D:\\Programs\\Anaconda\\lib\\site-packages\\scipy\\stats\\stats.py:4023: PearsonRConstantInputWarning: An input array is constant; the correlation coefficient is not defined.\n",
      "    warnings.warn(PearsonRConstantInputWarning())\n",
      "\n",
      "-- Docs: https://docs.pytest.org/en/stable/warnings.html\n",
      "=========================== short test summary info ===========================\n",
      "FAILED test.py::test_apk[predicted0-0.3333333333333333] - TypeError: unsuppor...\n",
      "FAILED test.py::test_apk[predicted1-0.16666666666666666] - TypeError: unsuppo...\n",
      "FAILED test.py::test_apk[predicted2-0.1111111111111111] - TypeError: unsuppor...\n",
      "FAILED test.py::test_apk[predicted3-0.38888888888888884] - TypeError: unsuppo...\n",
      "FAILED test.py::test_apk[predicted4-1.0] - TypeError: unsupported operand typ...\n",
      "FAILED test.py::test_mapk - TypeError: unsupported operand type(s) for -: 'fl...\n",
      "=================== 6 failed, 5 passed, 3 warnings in 8.34s ===================\n"
     ]
    }
   ],
   "source": [
    "!pytest test.py"
   ]
  },
  {
   "cell_type": "markdown",
   "metadata": {},
   "source": [
    "<b>1.2. (1 балл)</b>\n",
    "\n",
    "Рассмотрим пользователей $u$ и $v$. Им соотвествуют векторы $x_u$ и $x_v$, где $x_u[i] = r_{ui}$ и $x_v[i] = r_{vi}$. Из лекции известно, что похожесть между векторами $x_u$ и $x_v$ вычисляются только для тех индексов i, для которых существует и $r_{ui}$, и $r_{vi}$. То есть верно следуюющее:\n",
    "\\begin{equation}\n",
    "sim(u, v) = sim(x_uI_{uv}, x_vI_{uv}),\n",
    "\\end{equation}\n",
    "где $I_{uv} = [i | \\exists r_{ui} \\& \\exists r_{vi}]$. При этом если $I_{uv} = \\emptyset$, то $sim(u, v) \\to -\\infty$.\n",
    "\n",
    "Реализуйте два новых метода, которые переиспользуют написанные вами `euclidean_distance` и `pearson_distance`, добавляющие условия на $x_u$ и $x_v$. Считается, что $x_u[i] = 0$, если $\\nexists r_{ui}$. То же верно для $x_v$.\n",
    "\n",
    "При реализации заданий можно как написать новые функции, так и использовать декораторы."
   ]
  },
  {
   "cell_type": "code",
   "execution_count": 167,
   "metadata": {},
   "outputs": [],
   "source": [
    "import numpy as np\n",
    "from utils import euclidean_similarity, pearson_similarity"
   ]
  },
  {
   "cell_type": "code",
   "execution_count": 174,
   "metadata": {},
   "outputs": [],
   "source": [
    "def intersection_items(f):\n",
    "    def decorator(x: np.array, y: np.array):\n",
    "        indices = np.arange(len(x))\n",
    "        intresec_idx = indices[(x != 0) & (y != 0)]\n",
    "        return f(x[intresec_idx], y[intresec_idx])\n",
    "    return decorator"
   ]
  },
  {
   "cell_type": "code",
   "execution_count": 175,
   "metadata": {},
   "outputs": [],
   "source": [
    "# your code (ﾉ>ω<)ﾉ :｡･:*:･ﾟ’★,｡･:*:･ﾟ’☆\n",
    "@intersection_items\n",
    "def euclidean_similarity(x: np.array, y: np.array) -> float:\n",
    "    \"\"\"\n",
    "    Calculate euclidean similarity between points x and y\n",
    "    Args:\n",
    "        x, y: two points in Euclidean n-space\n",
    "    Returns:\n",
    "        Similarity between points x and y\n",
    "    \"\"\"\n",
    "    return 1 / (1 + euclidean_distance(x, y))\n",
    "\n",
    "@intersection_items\n",
    "def pearson_similarity(x: np.array, y: np.array) -> float:\n",
    "    \"\"\"\n",
    "    Calculate a Pearson correlation coefficient given 1-D data arrays x and y\n",
    "    Args:\n",
    "        x, y: two points in n-space\n",
    "    Returns:\n",
    "        Pearson correlation between x and y\n",
    "    \"\"\"\n",
    "    f = lambda z: np.sum((z - z.mean()) ** 2)\n",
    "\n",
    "    return np.sum((x - x.mean()) * (y - y.mean())) / np.sqrt(f(x) * f(y))"
   ]
  },
  {
   "cell_type": "code",
   "execution_count": 170,
   "metadata": {},
   "outputs": [
    {
     "name": "stdout",
     "output_type": "stream",
     "text": [
      "============================= test session starts =============================\n",
      "platform win32 -- Python 3.8.8, pytest-6.2.4, py-1.10.0, pluggy-0.13.1\n",
      "rootdir: d:\\Google\\Projects\\ml_tinkoff_2021\\notebooks\\lesson_10_recommend\\hw\n",
      "plugins: anyio-2.2.0, hypothesis-6.34.2\n",
      "collected 11 items\n",
      "\n",
      "test.py .....FFFFFF                                                      [100%]\n",
      "\n",
      "================================== FAILURES ===================================\n",
      "___________________ test_apk[predicted0-0.3333333333333333] ___________________\n",
      "\n",
      "predicted = [1, 4, 5], expected_score = 0.3333333333333333\n",
      "\n",
      "    @pytest.mark.parametrize(\n",
      "        'predicted, expected_score',\n",
      "        (\n",
      "            ([1, 4, 5], 0.3333333333333333),\n",
      "            ([4, 1, 5], 0.16666666666666666),\n",
      "            ([5, 4, 1], 0.1111111111111111),\n",
      "            ([4, 1, 2], 0.38888888888888884),\n",
      "            ([3, 2, 1], 1.0),\n",
      "        )\n",
      "    )\n",
      "    def test_apk(predicted, expected_score):\n",
      "        actual = np.array([1, 2, 3])\n",
      ">       np.testing.assert_almost_equal(apk(actual, predicted, k=3), expected_score)\n",
      "E       TypeError: unsupported operand type(s) for -: 'float' and 'NoneType'\n",
      "\n",
      "test.py:68: TypeError\n",
      "__________________ test_apk[predicted1-0.16666666666666666] ___________________\n",
      "\n",
      "predicted = [4, 1, 5], expected_score = 0.16666666666666666\n",
      "\n",
      "    @pytest.mark.parametrize(\n",
      "        'predicted, expected_score',\n",
      "        (\n",
      "            ([1, 4, 5], 0.3333333333333333),\n",
      "            ([4, 1, 5], 0.16666666666666666),\n",
      "            ([5, 4, 1], 0.1111111111111111),\n",
      "            ([4, 1, 2], 0.38888888888888884),\n",
      "            ([3, 2, 1], 1.0),\n",
      "        )\n",
      "    )\n",
      "    def test_apk(predicted, expected_score):\n",
      "        actual = np.array([1, 2, 3])\n",
      ">       np.testing.assert_almost_equal(apk(actual, predicted, k=3), expected_score)\n",
      "E       TypeError: unsupported operand type(s) for -: 'float' and 'NoneType'\n",
      "\n",
      "test.py:68: TypeError\n",
      "___________________ test_apk[predicted2-0.1111111111111111] ___________________\n",
      "\n",
      "predicted = [5, 4, 1], expected_score = 0.1111111111111111\n",
      "\n",
      "    @pytest.mark.parametrize(\n",
      "        'predicted, expected_score',\n",
      "        (\n",
      "            ([1, 4, 5], 0.3333333333333333),\n",
      "            ([4, 1, 5], 0.16666666666666666),\n",
      "            ([5, 4, 1], 0.1111111111111111),\n",
      "            ([4, 1, 2], 0.38888888888888884),\n",
      "            ([3, 2, 1], 1.0),\n",
      "        )\n",
      "    )\n",
      "    def test_apk(predicted, expected_score):\n",
      "        actual = np.array([1, 2, 3])\n",
      ">       np.testing.assert_almost_equal(apk(actual, predicted, k=3), expected_score)\n",
      "E       TypeError: unsupported operand type(s) for -: 'float' and 'NoneType'\n",
      "\n",
      "test.py:68: TypeError\n",
      "__________________ test_apk[predicted3-0.38888888888888884] ___________________\n",
      "\n",
      "predicted = [4, 1, 2], expected_score = 0.38888888888888884\n",
      "\n",
      "    @pytest.mark.parametrize(\n",
      "        'predicted, expected_score',\n",
      "        (\n",
      "            ([1, 4, 5], 0.3333333333333333),\n",
      "            ([4, 1, 5], 0.16666666666666666),\n",
      "            ([5, 4, 1], 0.1111111111111111),\n",
      "            ([4, 1, 2], 0.38888888888888884),\n",
      "            ([3, 2, 1], 1.0),\n",
      "        )\n",
      "    )\n",
      "    def test_apk(predicted, expected_score):\n",
      "        actual = np.array([1, 2, 3])\n",
      ">       np.testing.assert_almost_equal(apk(actual, predicted, k=3), expected_score)\n",
      "E       TypeError: unsupported operand type(s) for -: 'float' and 'NoneType'\n",
      "\n",
      "test.py:68: TypeError\n",
      "__________________________ test_apk[predicted4-1.0] ___________________________\n",
      "\n",
      "predicted = [3, 2, 1], expected_score = 1.0\n",
      "\n",
      "    @pytest.mark.parametrize(\n",
      "        'predicted, expected_score',\n",
      "        (\n",
      "            ([1, 4, 5], 0.3333333333333333),\n",
      "            ([4, 1, 5], 0.16666666666666666),\n",
      "            ([5, 4, 1], 0.1111111111111111),\n",
      "            ([4, 1, 2], 0.38888888888888884),\n",
      "            ([3, 2, 1], 1.0),\n",
      "        )\n",
      "    )\n",
      "    def test_apk(predicted, expected_score):\n",
      "        actual = np.array([1, 2, 3])\n",
      ">       np.testing.assert_almost_equal(apk(actual, predicted, k=3), expected_score)\n",
      "E       TypeError: unsupported operand type(s) for -: 'float' and 'NoneType'\n",
      "\n",
      "test.py:68: TypeError\n",
      "__________________________________ test_mapk __________________________________\n",
      "\n",
      "    def test_mapk():\n",
      "        predicted = [\n",
      "            [1, 4, 5],\n",
      "            [4, 1, 5],\n",
      "            [5, 4, 1],\n",
      "            [4, 1, 2],\n",
      "            [3, 2, 1],\n",
      "        ]\n",
      "        actual = [[1,2,3]] * len(predicted)\n",
      "        expected_score = 0.4\n",
      ">       np.testing.assert_almost_equal(mapk(actual, predicted, k=3), expected_score)\n",
      "E       TypeError: unsupported operand type(s) for -: 'float' and 'NoneType'\n",
      "\n",
      "test.py:81: TypeError\n",
      "============================== warnings summary ===============================\n",
      "..\\..\\..\\..\\..\\..\\Programs\\Anaconda\\lib\\site-packages\\pyreadline\\py3k_compat.py:8\n",
      "  D:\\Programs\\Anaconda\\lib\\site-packages\\pyreadline\\py3k_compat.py:8: DeprecationWarning: Using or importing the ABCs from 'collections' instead of from 'collections.abc' is deprecated since Python 3.3, and in 3.9 it will stop working\n",
      "    return isinstance(x, collections.Callable)\n",
      "\n",
      "test.py::test_pearson_similarity\n",
      "  d:\\Google\\Projects\\ml_tinkoff_2021\\notebooks\\lesson_10_recommend\\hw\\utils.py:38: RuntimeWarning: invalid value encountered in double_scalars\n",
      "    return np.sum((x - x.mean()) * (y - y.mean())) / np.sqrt(f(x) * f(y))\n",
      "\n",
      "test.py::test_pearson_similarity\n",
      "  D:\\Programs\\Anaconda\\lib\\site-packages\\scipy\\stats\\stats.py:4023: PearsonRConstantInputWarning: An input array is constant; the correlation coefficient is not defined.\n",
      "    warnings.warn(PearsonRConstantInputWarning())\n",
      "\n",
      "-- Docs: https://docs.pytest.org/en/stable/warnings.html\n",
      "=========================== short test summary info ===========================\n",
      "FAILED test.py::test_apk[predicted0-0.3333333333333333] - TypeError: unsuppor...\n",
      "FAILED test.py::test_apk[predicted1-0.16666666666666666] - TypeError: unsuppo...\n",
      "FAILED test.py::test_apk[predicted2-0.1111111111111111] - TypeError: unsuppor...\n",
      "FAILED test.py::test_apk[predicted3-0.38888888888888884] - TypeError: unsuppo...\n",
      "FAILED test.py::test_apk[predicted4-1.0] - TypeError: unsupported operand typ...\n",
      "FAILED test.py::test_mapk - TypeError: unsupported operand type(s) for -: 'fl...\n",
      "=================== 6 failed, 5 passed, 3 warnings in 8.15s ===================\n"
     ]
    }
   ],
   "source": [
    "!pytest test.py"
   ]
  },
  {
   "cell_type": "markdown",
   "metadata": {},
   "source": [
    "## 2. User-based method\n",
    "<b>2.1. (3 балла)</b> \n",
    "\n",
    "Реализовать User-based подход, реализовав методы класса `UserBasedRecommendation`, основанного на использовании `NearestNeighbors`. В качестве метрики может для нахождения похожих пользователей может быть использована как евклидова метрика, так и коэффициент корреляции Пирсона.\n",
    "\n",
    "Не забывайте, что `NearestNeighbors` ищет минимум расстояния между элементами, поэтому логично в качестве метрики при инициализации `NearestNeighbors` использовать обратную метрике схожести. То есть такую, что когда $sim(u, v) \\to 1$, то $d(u, v) \\to 0$. Например: $d(u, v) = 1 - sim(u, v)$"
   ]
  },
  {
   "cell_type": "code",
   "execution_count": 202,
   "metadata": {},
   "outputs": [],
   "source": [
    "from sklearn.neighbors import NearestNeighbors\n",
    "from typing import Optional\n",
    "\n",
    "from collections import Counter\n",
    "\n",
    "\n",
    "class UserBasedRecommendation:\n",
    "    def __init__(self, metric: str = 'euclidean', n_recommendations: int = 5, alpha: float = 0.8):\n",
    "        \"\"\"\n",
    "        Args:\n",
    "            metric: name of metric: ['euclidean', 'pearson']\n",
    "            n_recommendations: number of recommendations. Also can be specified self.make_recommendation\n",
    "            alpha: similarity threshold: if sim(u, v) > alpha then u and v are similar\n",
    "        \"\"\"\n",
    "        self.metric = metric\n",
    "        self.n_recommend = n_recommendations\n",
    "        self.threshold = alpha\n",
    "\n",
    "    def fit(self, X: np.array):\n",
    "        \"\"\"\n",
    "        Args:\n",
    "            X: matrix N x M where X[u, i] = r_{ui} if r_{ui} exists else X[u, i] = 0\n",
    "        \"\"\"\n",
    "        self.X = X\n",
    "        self.neighbors = NearestNeighbors(metric=self.distance, radius=self.threshold)\n",
    "        self.neighbors.fit(self.X)\n",
    "\n",
    "    def __find_closest_users(self, user_id: int, n_closest_users: int):\n",
    "        return self.neighbors.kneighbors(X=[self.X[user_id]], n_neighbors=n_closest_users, return_distance=False)\n",
    "\n",
    "    def make_recommendation(self, user_id: int, n_recommendations: Optional[int] = None):\n",
    "        \"\"\"\n",
    "        Args:\n",
    "            user_id: user id to whom you want to recommend\n",
    "            n_recommendations: number of recommendations\n",
    "        \"\"\"\n",
    "        n_closest_users = 2\n",
    "        if n_recommendations is not None:\n",
    "            self.n_recommend = n_recommendations\n",
    "\n",
    "        users_closer = self.__find_closest_users(user_id, n_closest_users)\n",
    "        mask_items = self.X[users_closer, :] != 0\n",
    "        print(users_closer)\n",
    "        return np.argsort(mask_items.astype(int).sum(1) / n_closest_users).squeeze()[::-1][:self.n_recommend]\n",
    "\n",
    "    def distance(self, x: np.array, y: np.array):\n",
    "        if self.metric == 'euclidean':\n",
    "            return 1 - euclidean_similarity(x, y)\n",
    "        elif self.metric == 'pearson':\n",
    "            return 1 - pearson_similarity(x, y)\n",
    "        else:\n",
    "            ValueError(\"You can use metrics 'euclidean' or 'pearson'\")"
   ]
  },
  {
   "cell_type": "markdown",
   "metadata": {},
   "source": [
    "<b>2.2. (1 балла)</b>\n",
    "\n",
    "Приведите пример, для которого использование разных метрик будет давать разные рекомендации. Объясните свой пример."
   ]
  },
  {
   "cell_type": "code",
   "execution_count": 204,
   "metadata": {},
   "outputs": [
    {
     "name": "stdout",
     "output_type": "stream",
     "text": [
      "[[2 1]]\n"
     ]
    },
    {
     "data": {
      "text/plain": [
       "array([5, 3], dtype=int64)"
      ]
     },
     "execution_count": 204,
     "metadata": {},
     "output_type": "execute_result"
    }
   ],
   "source": [
    "# your code (ﾉ>ω<)ﾉ :｡･:*:･ﾟ’★,｡･:*:･ﾟ’☆\n",
    "X = np.array([\n",
    "    [3, 4, 8, 9, 9, 0],\n",
    "    [8, 7, 0, 3, 8, 5],\n",
    "    [8, 6, 6, 8, 0, 3],\n",
    "    # [7, 0, 9, 7, 0, 0],\n",
    "    # [1, 3, 0, 5, 5, 0],\n",
    "    # [0, 3, 0, 9, 6, 2],\n",
    "])\n",
    "recommend = UserBasedRecommendation(metric='pearson', n_recommendations=2)\n",
    "recommend.fit(X)\n",
    "recommend.make_recommendation(user_id=2)"
   ]
  },
  {
   "cell_type": "markdown",
   "metadata": {},
   "source": [
    "<b>Объяснение:</b> Для ясности пронумеруем товары с 0. Видно, что третьему пользователю так же как и второму больше понравился товар 1 и чуть меньше понравился товар 2, тогда как первому пользователю оба эти товары не сильно понравились, причем товар 1 ему понравился меньше, чем товар 2, то есть наблюдается обратная завизимость. Но все эти факторы никак не учитываются при использовании евклидовой метрики, поэтому в первом случае алгоритм посчитал, что первый и третий пользователь похожи только по тому, что они ставят оценки примерно в одном и том отрезке: {0, 1}, что является довольно странным предположением. А алгоритм, использующий коэффициент корреляции Пирсона учитывает эти факторы, поэтому находит третьему пользователю соседа со схожими интересами в виде второго пользователя. Отсюда получаем разные рекомендации."
   ]
  },
  {
   "cell_type": "markdown",
   "metadata": {},
   "source": [
    "## 3. Оценка качества\n",
    "<b>3.1. (1 балл)</b>\n",
    "\n",
    "Реализуйте Average Precision at k и Mean Average Precision at k. Шаблоны можете найти в `utils.py`.\n",
    "\\begin{align*}\n",
    "AP@K = \\frac{1}{m}\\sum_{k=1}^K P(k)*rel(k), \\\\\n",
    "MAP@K = \\frac{1}{|U|}\\sum_{u=1}^{|U|}(AP@K)_u\n",
    "\\end{align*}\n",
    "где $P(k)$ - Precision at k, $rel(k) = 1$, если рекомендация релевантна, иначе $rel(k) = 0$."
   ]
  },
  {
   "cell_type": "markdown",
   "metadata": {},
   "source": [
    "## 4. Применение модели\n",
    "<b>4.1. (2 балла)</b>\n",
    "\n",
    "Выгрузите датасет `ratings_small.csv`: https://www.kaggle.com/rounakbanik/the-movies-dataset#ratings_small.csv"
   ]
  },
  {
   "cell_type": "code",
   "execution_count": null,
   "metadata": {},
   "outputs": [],
   "source": [
    "import pandas as pd\n",
    "from sklearn.model_selection import train_test_split"
   ]
  },
  {
   "cell_type": "code",
   "execution_count": null,
   "metadata": {},
   "outputs": [],
   "source": [
    "data = pd.read_csv('ratings_small.csv', index_col=False)\n",
    "data.shape"
   ]
  },
  {
   "cell_type": "code",
   "execution_count": null,
   "metadata": {},
   "outputs": [],
   "source": [
    "data.userId.min(), data.userId.max(), len(data.userId.unique())"
   ]
  },
  {
   "cell_type": "code",
   "execution_count": null,
   "metadata": {},
   "outputs": [],
   "source": [
    "data.movieId.min(), data.movieId.max(), len(data.movieId.unique())"
   ]
  },
  {
   "cell_type": "markdown",
   "metadata": {},
   "source": [
    "Для простоты работы с данными, измените нумерацию пользователей и фильмов так, чтобы нумерация начиналась с 0 и шла непрерывно."
   ]
  },
  {
   "cell_type": "code",
   "execution_count": null,
   "metadata": {},
   "outputs": [],
   "source": [
    "# your code (ﾉ>ω<)ﾉ :｡･:*:･ﾟ’★,｡･:*:･ﾟ’☆\n",
    "pass"
   ]
  },
  {
   "cell_type": "code",
   "execution_count": null,
   "metadata": {},
   "outputs": [],
   "source": [
    "data.userId.min(), data.userId.max(), len(data.userId.unique())"
   ]
  },
  {
   "cell_type": "code",
   "execution_count": null,
   "metadata": {},
   "outputs": [],
   "source": [
    "data.movieId.min(), data.movieId.max(), len(data.movieId.unique())"
   ]
  },
  {
   "cell_type": "markdown",
   "metadata": {},
   "source": [
    "Удалим для наиболее активных пользователей 5 оценок"
   ]
  },
  {
   "cell_type": "code",
   "execution_count": null,
   "metadata": {},
   "outputs": [],
   "source": [
    "active_users = data.userId.value_counts()[:10].index\n",
    "test_data = pd.DataFrame([], columns=data.columns)\n",
    "for user_id in active_users:\n",
    "    _, test = train_test_split(data[data.userId == user_id], test_size=5, random_state=42)\n",
    "    test_data = test_data.append(test, ignore_index=True)\n",
    "    data = data[~((data.userId == user_id) & (data.movieId.isin(test.movieId.values)))]\n",
    "data.shape, test_data.shape"
   ]
  },
  {
   "cell_type": "markdown",
   "metadata": {},
   "source": [
    "Преобразуем данные в таблицу `X`, с которой может работать `UserBasedRecommendation`, где $X_{ui} = r_{ui}$, если пользователь $u$ поставил оценку фильму $i$, и $X_{ui} = 0$, если пользователь $u$ не проставил оценку фильму $i$.\n",
    "\n",
    "Вам может пригодиться `csr_matrix`."
   ]
  },
  {
   "cell_type": "code",
   "execution_count": null,
   "metadata": {},
   "outputs": [],
   "source": [
    "# your code (ﾉ>ω<)ﾉ :｡･:*:･ﾟ’★,｡･:*:･ﾟ’☆\n",
    "pass"
   ]
  },
  {
   "cell_type": "markdown",
   "metadata": {},
   "source": [
    "Для пользователей, у которых были удалены фильмы, найдите топ 100 фильмов, который должен посмотреть каждый из этих пользователей, используя `UserBasedRecommendation`. Не забудьте подобрать параметр alpha."
   ]
  },
  {
   "cell_type": "code",
   "execution_count": null,
   "metadata": {},
   "outputs": [],
   "source": [
    "# your code (ﾉ>ω<)ﾉ :｡･:*:･ﾟ’★,｡･:*:･ﾟ’☆\n",
    "pass"
   ]
  },
  {
   "cell_type": "markdown",
   "metadata": {},
   "source": [
    "Используя метрику `MAP@5`, `MAP@10` и `MAP@100`, определите, насколько эффективна user-based рекомендательная система для данной задачи."
   ]
  },
  {
   "cell_type": "code",
   "execution_count": null,
   "metadata": {},
   "outputs": [],
   "source": [
    "from utils import mapk"
   ]
  },
  {
   "cell_type": "code",
   "execution_count": null,
   "metadata": {},
   "outputs": [],
   "source": [
    "# your code (ﾉ>ω<)ﾉ :｡･:*:･ﾟ’★,｡･:*:･ﾟ’☆\n",
    "pass"
   ]
  },
  {
   "cell_type": "markdown",
   "metadata": {},
   "source": [
    "Как можно улучшить работу модели?\n",
    "\n",
    "<b>Ответ:</b>..."
   ]
  }
 ],
 "metadata": {
  "kernelspec": {
   "display_name": "Python 3",
   "language": "python",
   "name": "python3"
  },
  "language_info": {
   "codemirror_mode": {
    "name": "ipython",
    "version": 3
   },
   "file_extension": ".py",
   "mimetype": "text/x-python",
   "name": "python",
   "nbconvert_exporter": "python",
   "pygments_lexer": "ipython3",
   "version": "3.8.8"
  }
 },
 "nbformat": 4,
 "nbformat_minor": 4
}
