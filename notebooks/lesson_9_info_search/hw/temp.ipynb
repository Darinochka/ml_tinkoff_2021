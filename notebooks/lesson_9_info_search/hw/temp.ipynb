{
 "cells": [
  {
   "cell_type": "code",
   "execution_count": 1,
   "metadata": {},
   "outputs": [],
   "source": [
    "import pandas as pd\n",
    "\n",
    "data = pd.read_csv(\"github_issues.csv\")"
   ]
  },
  {
   "cell_type": "code",
   "execution_count": 4,
   "metadata": {},
   "outputs": [
    {
     "data": {
      "text/plain": [
       "0          can't load the addon. issue to: https://github...\n",
       "1          user experience: user who depends on screen re...\n",
       "2          ┆attachments: <a href= https:& x2f;& x2f;githu...\n",
       "3          gitlo = github x trello\\n---\\nthis board is no...\n",
       "4          ┆attachments: <a href= https:& x2f;& x2f;githu...\n",
       "                                 ...                        \n",
       "5332148    методы класса: - instances, который возвращает...\n",
       "5332149    - bug exists release version 1.1.0 master bran...\n",
       "5332150    java.lang.linkageerror: loader constraint viol...\n",
       "5332151    view details in rollbar: https://rollbar.com/b...\n",
       "5332152    view details in rollbar: https://rollbar.com/j...\n",
       "Name: body, Length: 5332153, dtype: object"
      ]
     },
     "execution_count": 4,
     "metadata": {},
     "output_type": "execute_result"
    }
   ],
   "source": [
    "data['body']"
   ]
  }
 ],
 "metadata": {
  "interpreter": {
   "hash": "919eb0904b72c37e8d6c7e3b2f7b6f162c89cafcc297fba09b2d10c79c52f5eb"
  },
  "kernelspec": {
   "display_name": "Python 3.8.8 64-bit ('base': conda)",
   "language": "python",
   "name": "python3"
  },
  "language_info": {
   "codemirror_mode": {
    "name": "ipython",
    "version": 3
   },
   "file_extension": ".py",
   "mimetype": "text/x-python",
   "name": "python",
   "nbconvert_exporter": "python",
   "pygments_lexer": "ipython3",
   "version": "3.8.8"
  },
  "orig_nbformat": 4
 },
 "nbformat": 4,
 "nbformat_minor": 2
}
