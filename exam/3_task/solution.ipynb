{
 "cells": [
  {
   "cell_type": "code",
   "execution_count": 6,
   "metadata": {},
   "outputs": [],
   "source": [
    "from sympy import *\n",
    "import sympy"
   ]
  },
  {
   "cell_type": "code",
   "execution_count": 4,
   "metadata": {},
   "outputs": [],
   "source": [
    "x, y, z, t = symbols('x y z t')"
   ]
  },
  {
   "attachments": {
    "1a7c8328-05b8-4a0b-bb20-346eb3cf19c5.png": {
     "image/png": "[encoded data removed]"
    }
   },
   "cell_type": "markdown",
   "metadata": {},
   "source": [
    "![image.png](attachment:1a7c8328-05b8-4a0b-bb20-346eb3cf19c5.png)"
   ]
  },
  {
   "cell_type": "markdown",
   "metadata": {},
   "source": [
    "Сначала найдем частные производные:"
   ]
  },
  {
   "cell_type": "code",
   "execution_count": 5,
   "metadata": {},
   "outputs": [
    {
     "ename": "NameError",
     "evalue": "name 'sympy' is not defined",
     "output_type": "error",
     "traceback": [
      "\u001b[1;31m---------------------------------------------------------------------------\u001b[0m",
      "\u001b[1;31mNameError\u001b[0m                                 Traceback (most recent call last)",
      "\u001b[1;32m~\\AppData\\Local\\Temp/ipykernel_24180/3834227738.py\u001b[0m in \u001b[0;36m<module>\u001b[1;34m\u001b[0m\n\u001b[1;32m----> 1\u001b[1;33m \u001b[0mdx\u001b[0m \u001b[1;33m=\u001b[0m \u001b[0msympy\u001b[0m\u001b[1;33m.\u001b[0m\u001b[0mdiff\u001b[0m\u001b[1;33m(\u001b[0m\u001b[0mexp\u001b[0m\u001b[1;33m(\u001b[0m\u001b[1;33m(\u001b[0m\u001b[0mx\u001b[0m\u001b[1;33m+\u001b[0m\u001b[0my\u001b[0m\u001b[1;33m)\u001b[0m\u001b[1;33m/\u001b[0m\u001b[1;36m2\u001b[0m\u001b[1;33m)\u001b[0m\u001b[1;33m*\u001b[0m\u001b[1;33m(\u001b[0m\u001b[0mx\u001b[0m\u001b[1;33m**\u001b[0m\u001b[1;36m2\u001b[0m \u001b[1;33m-\u001b[0m \u001b[1;36m4\u001b[0m\u001b[1;33m*\u001b[0m\u001b[0my\u001b[0m\u001b[1;33m**\u001b[0m\u001b[1;36m2\u001b[0m\u001b[1;33m)\u001b[0m\u001b[1;33m**\u001b[0m\u001b[1;36m3\u001b[0m\u001b[1;33m,\u001b[0m \u001b[0mx\u001b[0m\u001b[1;33m)\u001b[0m\u001b[1;33m\u001b[0m\u001b[1;33m\u001b[0m\u001b[0m\n\u001b[0m\u001b[0;32m      2\u001b[0m \u001b[0mdx\u001b[0m\u001b[1;33m\u001b[0m\u001b[1;33m\u001b[0m\u001b[0m\n",
      "\u001b[1;31mNameError\u001b[0m: name 'sympy' is not defined"
     ]
    }
   ],
   "source": [
    "dx = sympy.diff(exp((x+y)/2)*(x**2 - 4*y**2)**3, x)\n",
    "dx"
   ]
  },
  {
   "cell_type": "code",
   "execution_count": 64,
   "metadata": {},
   "outputs": [
    {
     "data": {
      "text/latex": [
       "$\\displaystyle - 24 y \\left(x^{2} - 4 y^{2}\\right)^{2} e^{\\frac{x}{2} + \\frac{y}{2}} + \\frac{\\left(x^{2} - 4 y^{2}\\right)^{3} e^{\\frac{x}{2} + \\frac{y}{2}}}{2}$"
      ],
      "text/plain": [
       "-24*y*(x**2 - 4*y**2)**2*exp(x/2 + y/2) + (x**2 - 4*y**2)**3*exp(x/2 + y/2)/2"
      ]
     },
     "execution_count": 64,
     "metadata": {},
     "output_type": "execute_result"
    }
   ],
   "source": [
    "dy = sympy.diff(exp((x+y)/2)*(x**2 - 4*y**2)**3, y)\n",
    "dy"
   ]
  },
  {
   "cell_type": "markdown",
   "metadata": {},
   "source": [
    "Проверка df/dxdy == df/dydx"
   ]
  },
  {
   "cell_type": "code",
   "execution_count": 65,
   "metadata": {},
   "outputs": [
    {
     "data": {
      "text/plain": [
       "True"
      ]
     },
     "execution_count": 65,
     "metadata": {},
     "output_type": "execute_result"
    }
   ],
   "source": [
    "sympy.diff(exp((x+y)/2)*(x**2 - 4*y**2)**3, x, y) == sympy.diff(exp((x+y)/2)*(x**2 - 4*y**2)**3, y, x)"
   ]
  },
  {
   "cell_type": "markdown",
   "metadata": {},
   "source": [
    "Теперь каждую частную производную приравнять к нулю и составить систему, чтобы найти стационарные точки. https://www.wolframalpha.com/input/?i=%7Bd%2Fdy%28e%5E%28%28x%2By%29%2F2%29+*+%28x%5E+2+-4y%5E2%29%5E3%29%3D+0%2C+d%2Fdx%28e%5E%28%28x%2By%29%2F2%29+*+%28x%5E+2+-4y%5E2%29%5E3%29%3D+0%7D"
   ]
  },
  {
   "cell_type": "markdown",
   "metadata": {},
   "source": [
    "Стационарные точки: M1(0, 0) M2(-16, 4)"
   ]
  },
  {
   "cell_type": "markdown",
   "metadata": {},
   "source": [
    "Проверим достаточное условие экстремума в каждой точке:"
   ]
  },
  {
   "cell_type": "code",
   "execution_count": 82,
   "metadata": {},
   "outputs": [
    {
     "data": {
      "text/latex": [
       "$\\displaystyle \\left(x^{2} - 4 y^{2}\\right) \\left(30 x^{2} + 6 x \\left(x^{2} - 4 y^{2}\\right) - 24 y^{2} + \\frac{\\left(x^{2} - 4 y^{2}\\right)^{2}}{4}\\right) e^{\\frac{x}{2} + \\frac{y}{2}}$"
      ],
      "text/plain": [
       "(x**2 - 4*y**2)*(30*x**2 + 6*x*(x**2 - 4*y**2) - 24*y**2 + (x**2 - 4*y**2)**2/4)*exp(x/2 + y/2)"
      ]
     },
     "execution_count": 82,
     "metadata": {},
     "output_type": "execute_result"
    }
   ],
   "source": [
    "dxx = sympy.diff(exp((x+y)/2)*(x**2 - 4*y**2)**3, x, x)\n",
    "dxx"
   ]
  },
  {
   "cell_type": "code",
   "execution_count": 83,
   "metadata": {},
   "outputs": [
    {
     "data": {
      "text/latex": [
       "$\\displaystyle \\left(x^{2} - 4 y^{2}\\right) \\left(- 96 x y + 3 x \\left(x^{2} - 4 y^{2}\\right) - 12 y \\left(x^{2} - 4 y^{2}\\right) + \\frac{\\left(x^{2} - 4 y^{2}\\right)^{2}}{4}\\right) e^{\\frac{x}{2} + \\frac{y}{2}}$"
      ],
      "text/plain": [
       "(x**2 - 4*y**2)*(-96*x*y + 3*x*(x**2 - 4*y**2) - 12*y*(x**2 - 4*y**2) + (x**2 - 4*y**2)**2/4)*exp(x/2 + y/2)"
      ]
     },
     "execution_count": 83,
     "metadata": {},
     "output_type": "execute_result"
    }
   ],
   "source": [
    "dxy = sympy.diff(exp((x+y)/2)*(x**2 - 4*y**2)**3, x, y)\n",
    "dxy"
   ]
  },
  {
   "cell_type": "code",
   "execution_count": 84,
   "metadata": {},
   "outputs": [
    {
     "data": {
      "text/latex": [
       "$\\displaystyle \\left(x^{2} - 4 y^{2}\\right) \\left(- 24 x^{2} + 480 y^{2} - 24 y \\left(x^{2} - 4 y^{2}\\right) + \\frac{\\left(x^{2} - 4 y^{2}\\right)^{2}}{4}\\right) e^{\\frac{x}{2} + \\frac{y}{2}}$"
      ],
      "text/plain": [
       "(x**2 - 4*y**2)*(-24*x**2 + 480*y**2 - 24*y*(x**2 - 4*y**2) + (x**2 - 4*y**2)**2/4)*exp(x/2 + y/2)"
      ]
     },
     "execution_count": 84,
     "metadata": {},
     "output_type": "execute_result"
    }
   ],
   "source": [
    "dyy = sympy.diff(exp((x+y)/2)*(x**2 - 4*y**2)**3, y, y)\n",
    "dyy"
   ]
  },
  {
   "cell_type": "markdown",
   "metadata": {},
   "source": [
    "Теперь находим значение AC-B^2, где A, B, C - соответствующие уравнения выше."
   ]
  },
  {
   "cell_type": "code",
   "execution_count": 85,
   "metadata": {},
   "outputs": [],
   "source": [
    "def find_out_extr(x1, y1):\n",
    "    A = dxx.subs(x, x1).subs(y, y1)\n",
    "    B = dxy.subs(x, x1).subs(y, y1)\n",
    "    C = dyy.subs(x, x1).subs(y, y1)\n",
    "    return A*C - B**2, A"
   ]
  },
  {
   "cell_type": "code",
   "execution_count": 86,
   "metadata": {},
   "outputs": [
    {
     "data": {
      "text/plain": [
       "(0, 0)"
      ]
     },
     "execution_count": 86,
     "metadata": {},
     "output_type": "execute_result"
    }
   ],
   "source": [
    "x1 = 0\n",
    "y1 = 0\n",
    "find_out_extr(x1, y1)"
   ]
  },
  {
   "cell_type": "markdown",
   "metadata": {},
   "source": [
    "Про точку M1 ничего неизвестно."
   ]
  },
  {
   "cell_type": "code",
   "execution_count": 87,
   "metadata": {},
   "outputs": [
    {
     "data": {
      "text/plain": [
       "(195689447424*exp(-12), -368640*exp(-6))"
      ]
     },
     "execution_count": 87,
     "metadata": {},
     "output_type": "execute_result"
    }
   ],
   "source": [
    "x1 = -16\n",
    "y1 = 4\n",
    "find_out_extr(x1, y1)"
   ]
  },
  {
   "cell_type": "markdown",
   "metadata": {},
   "source": [
    "В точке M2 есть экстремум, и так как Ac - B^2 > 0, A < 0, то это максимум."
   ]
  }
 ],
 "metadata": {
  "interpreter": {
   "hash": "919eb0904b72c37e8d6c7e3b2f7b6f162c89cafcc297fba09b2d10c79c52f5eb"
  },
  "kernelspec": {
   "display_name": "Python 3.8.8 64-bit ('base': conda)",
   "name": "python3"
  },
  "language_info": {
   "codemirror_mode": {
    "name": "ipython",
    "version": 3
   },
   "file_extension": ".py",
   "mimetype": "text/x-python",
   "name": "python",
   "nbconvert_exporter": "python",
   "pygments_lexer": "ipython3",
   "version": "3.8.8"
  }
 },
 "nbformat": 4,
 "nbformat_minor": 5
}
